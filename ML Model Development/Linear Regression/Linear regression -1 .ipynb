{
 "cells": [
  {
   "cell_type": "markdown",
   "id": "2f6e8432",
   "metadata": {},
   "source": [
    " ### Linear Regression\n",
    "\n",
    "- supervsed ML\n",
    "\n",
    "- Regression promblem\n",
    "\n",
    "- **pattern**: The algebric equation / eqaution of Straight Line.\n",
    "    \n",
    "- **line** : Which can be represented in 2-dimensional.\n",
    "    \n",
    "\n",
    "**Linear Regression**:\n",
    "    \n",
    "    - Simple Linear regression: whenever the there is a one single input feature its a simple linear Regression.\n",
    "        \n",
    "    - Multiple Linear regression :  whenever the there is a more than one one  input feature its a Multiple Linear Regression.\n",
    "\n",
    "**Simple Linear Regression(y = mx + c)** \n",
    "        \n",
    "-  equation -> y = mx +c --> m - slope, c-intercept \n",
    "\n",
    "- m-> slope w.r.t to x-axis. c-> intercept w.r.t to y-axis\n",
    "\n",
    "- m - rate of change(dy/dx), change in y if there is a change in x by 1 unit. -> Tangent of angel between line x-axis\n",
    "\n",
    "- m = y2-y1/x2-x1 , m = Tanx1y1 , m = dy/dx\n",
    "\n",
    "- c-> intercept w.r.t to y-axis. -> y starting point is c.\n",
    "\n",
    "- to find the best line for model we use **Residuals**.\n",
    "\n",
    "- **Residuals** - which measures the distance between the line we considerr to data points.\n",
    "\n",
    "- then Sum of sqaured the residuals of each line we consider , then the one which have the less values of sum of sqaured of residuals.\n",
    "\n",
    "**Multiple Linear regression(y = m1x1 + m2x2 + m3x3 + ...mnxn)**\n",
    "\n",
    "- 3D - **Plane** \n",
    "\n",
    "- More than 3D then its a **Hyper Plane**. "
   ]
  },
  {
   "cell_type": "code",
   "execution_count": 1,
   "id": "62e4df7d",
   "metadata": {},
   "outputs": [],
   "source": [
    "import numpy as np"
   ]
  },
  {
   "cell_type": "code",
   "execution_count": 4,
   "id": "21f8247e",
   "metadata": {},
   "outputs": [
    {
     "data": {
      "text/plain": [
       "array([[4, 1],\n",
       "       [7, 5],\n",
       "       [6, 3],\n",
       "       [8, 2]])"
      ]
     },
     "execution_count": 4,
     "metadata": {},
     "output_type": "execute_result"
    }
   ],
   "source": [
    "x = np.array([[4,1] , [7,5] , [6,3] , [8,2]])\n",
    "x"
   ]
  },
  {
   "cell_type": "code",
   "execution_count": 10,
   "id": "4240c13b",
   "metadata": {},
   "outputs": [
    {
     "data": {
      "text/plain": [
       "array([[15000],\n",
       "       [23000],\n",
       "       [ 6000],\n",
       "       [ 2500]])"
      ]
     },
     "execution_count": 10,
     "metadata": {},
     "output_type": "execute_result"
    }
   ],
   "source": [
    "y = np.array([[1500],[2300],[6000],[2500]])\n",
    "y"
   ]
  },
  {
   "cell_type": "code",
   "execution_count": 11,
   "id": "f6e01baf",
   "metadata": {},
   "outputs": [
    {
     "ename": "LinAlgError",
     "evalue": "Last 2 dimensions of the array must be square",
     "output_type": "error",
     "traceback": [
      "\u001b[1;31m---------------------------------------------------------------------------\u001b[0m",
      "\u001b[1;31mLinAlgError\u001b[0m                               Traceback (most recent call last)",
      "Cell \u001b[1;32mIn[11], line 1\u001b[0m\n\u001b[1;32m----> 1\u001b[0m np\u001b[38;5;241m.\u001b[39mlinalg\u001b[38;5;241m.\u001b[39msolve(x,y)\n",
      "File \u001b[1;32m<__array_function__ internals>:200\u001b[0m, in \u001b[0;36msolve\u001b[1;34m(*args, **kwargs)\u001b[0m\n",
      "File \u001b[1;32m~\\anaconda3\\Lib\\site-packages\\numpy\\linalg\\linalg.py:373\u001b[0m, in \u001b[0;36msolve\u001b[1;34m(a, b)\u001b[0m\n\u001b[0;32m    371\u001b[0m a, _ \u001b[38;5;241m=\u001b[39m _makearray(a)\n\u001b[0;32m    372\u001b[0m _assert_stacked_2d(a)\n\u001b[1;32m--> 373\u001b[0m _assert_stacked_square(a)\n\u001b[0;32m    374\u001b[0m b, wrap \u001b[38;5;241m=\u001b[39m _makearray(b)\n\u001b[0;32m    375\u001b[0m t, result_t \u001b[38;5;241m=\u001b[39m _commonType(a, b)\n",
      "File \u001b[1;32m~\\anaconda3\\Lib\\site-packages\\numpy\\linalg\\linalg.py:190\u001b[0m, in \u001b[0;36m_assert_stacked_square\u001b[1;34m(*arrays)\u001b[0m\n\u001b[0;32m    188\u001b[0m m, n \u001b[38;5;241m=\u001b[39m a\u001b[38;5;241m.\u001b[39mshape[\u001b[38;5;241m-\u001b[39m\u001b[38;5;241m2\u001b[39m:]\n\u001b[0;32m    189\u001b[0m \u001b[38;5;28;01mif\u001b[39;00m m \u001b[38;5;241m!=\u001b[39m n:\n\u001b[1;32m--> 190\u001b[0m     \u001b[38;5;28;01mraise\u001b[39;00m LinAlgError(\u001b[38;5;124m'\u001b[39m\u001b[38;5;124mLast 2 dimensions of the array must be square\u001b[39m\u001b[38;5;124m'\u001b[39m)\n",
      "\u001b[1;31mLinAlgError\u001b[0m: Last 2 dimensions of the array must be square"
     ]
    }
   ],
   "source": [
    "np.linalg.solve(x,y)"
   ]
  },
  {
   "cell_type": "markdown",
   "id": "f952f18a",
   "metadata": {},
   "source": [
    "**Linear Algebric Equation**"
   ]
  },
  {
   "cell_type": "code",
   "execution_count": 14,
   "id": "a90911a7",
   "metadata": {},
   "outputs": [
    {
     "name": "stderr",
     "output_type": "stream",
     "text": [
      "C:\\Users\\User\\AppData\\Local\\Temp\\ipykernel_4996\\274719052.py:6: FutureWarning: `rcond` parameter will change to the default of machine precision times ``max(M, N)`` where M and N are the input matrix dimensions.\n",
      "To use the future default and silence this warning we advise to pass `rcond=None`, to keep using the old, explicitly pass `rcond=-1`.\n",
      "  np.linalg.lstsq(x, y)[0]\n"
     ]
    },
    {
     "data": {
      "text/plain": [
       "array([377.84810127, 215.82278481])"
      ]
     },
     "execution_count": 14,
     "metadata": {},
     "output_type": "execute_result"
    }
   ],
   "source": [
    "import numpy as np\n",
    "\n",
    "x = np.array([[4, 1], [7, 5], [6, 3], [8, 2]])\n",
    "y = np.array([1500, 2300, 6000, 2500])\n",
    "\n",
    "np.linalg.lstsq(x, y)[0]"
   ]
  },
  {
   "cell_type": "code",
   "execution_count": 16,
   "id": "c2a00153",
   "metadata": {},
   "outputs": [
    {
     "data": {
      "text/plain": [
       "3234.7"
      ]
     },
     "execution_count": 16,
     "metadata": {},
     "output_type": "execute_result"
    }
   ],
   "source": [
    "(365*5.5) + (472*2.6)"
   ]
  },
  {
   "cell_type": "code",
   "execution_count": 23,
   "id": "aa7b388f",
   "metadata": {},
   "outputs": [],
   "source": [
    "import warnings\n",
    "warnings.filterwarnings(\"ignore\")"
   ]
  },
  {
   "cell_type": "code",
   "execution_count": 24,
   "id": "84122060",
   "metadata": {},
   "outputs": [
    {
     "data": {
      "text/plain": [
       "array([5741.13312115, 6947.14886378,   -7.26747955])"
      ]
     },
     "execution_count": 24,
     "metadata": {},
     "output_type": "execute_result"
    }
   ],
   "source": [
    "x = np.array([[2.3, 2, 1500], [4.5, 1, 1200], [3.3, 1, 600], [1.6, 2, 750] , [2.8, 1, 450]])\n",
    "y = np.array([15000 , 26000 , 18000 , 19000 , 21000])\n",
    "np.linalg.lstsq(x, y)[0]"
   ]
  },
  {
   "cell_type": "code",
   "execution_count": 25,
   "id": "c5afd48e",
   "metadata": {},
   "outputs": [
    {
     "data": {
      "text/plain": [
       "35642.8"
      ]
     },
     "execution_count": 25,
     "metadata": {},
     "output_type": "execute_result"
    }
   ],
   "source": [
    "(5741*4.8) + (6947*2) + (-7.26*800)"
   ]
  },
  {
   "cell_type": "code",
   "execution_count": null,
   "id": "df18976d",
   "metadata": {},
   "outputs": [],
   "source": []
  }
 ],
 "metadata": {
  "kernelspec": {
   "display_name": "Python 3 (ipykernel)",
   "language": "python",
   "name": "python3"
  },
  "language_info": {
   "codemirror_mode": {
    "name": "ipython",
    "version": 3
   },
   "file_extension": ".py",
   "mimetype": "text/x-python",
   "name": "python",
   "nbconvert_exporter": "python",
   "pygments_lexer": "ipython3",
   "version": "3.11.4"
  }
 },
 "nbformat": 4,
 "nbformat_minor": 5
}
