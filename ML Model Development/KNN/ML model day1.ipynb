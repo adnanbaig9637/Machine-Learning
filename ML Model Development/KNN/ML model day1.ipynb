{
 "cells": [
  {
   "cell_type": "markdown",
   "id": "ea78a90f",
   "metadata": {},
   "source": [
    "#### AI\n",
    "* ML ---Data+ Algorithm --> Model\n",
    "    * Type of ML model;--\n",
    "    * Supervised ML :- If tha data is labeled data(output is known)\n",
    "        * Regresssion :- If the output variable continous value/decimal variable is called as regreeesion type.\n",
    "        * Classification :- if the we are tried to predict categorical / descrete variabel is called as classification type.\n",
    "    \n",
    "    * Semi Supervised ML\n",
    "    * Unsupervised Learning\n",
    "    * Reinforcement ML\n",
    "* DL"
   ]
  },
  {
   "cell_type": "markdown",
   "id": "dca036d1",
   "metadata": {},
   "source": [
    "**Why Maths for ML**\n",
    "* 1. Distance Based ML model\n",
    "* 2. Boundary Based ML model\n",
    "* 3. Probablity Based Ml model (navy biased Ml model)\n",
    "* 4. Rule Based Ml model\n",
    "* 5. Ensemble ML model\n",
    "* 6. Neural Network & ANN , CNN m RNN\n",
    "\n",
    "\n",
    "**Maths for ML**\n",
    "* Linear Algebra --Systems equations\n",
    "    * Vectors \n",
    "    * Matrix\n",
    "    * Attriobution / Operations\n",
    "* Probablities\n",
    "    * Join\n",
    "    * Marginal\n",
    "    * \n",
    "* Statistics\n",
    "    * Hypothesis\n",
    "    * Imbalance\n",
    "* Calculus \n",
    "    * Differetial\n",
    "    * Integration\n",
    "    "
   ]
  },
  {
   "cell_type": "markdown",
   "id": "96d17853",
   "metadata": {},
   "source": [
    "* **Linear Algebra**\n",
    "    * Scaller:- Quantity that having only magnituted , eg: weight, height\n",
    "    * Vector :- Quantity that have both magnitude and direction , eg: car is coming with 95km/hr towards east.  -->\n",
    "                                                                                                                 S  = 95km/hr\n",
    "    "
   ]
  },
  {
   "cell_type": "code",
   "execution_count": null,
   "id": "0a629f10",
   "metadata": {},
   "outputs": [],
   "source": []
  }
 ],
 "metadata": {
  "kernelspec": {
   "display_name": "Python 3 (ipykernel)",
   "language": "python",
   "name": "python3"
  },
  "language_info": {
   "codemirror_mode": {
    "name": "ipython",
    "version": 3
   },
   "file_extension": ".py",
   "mimetype": "text/x-python",
   "name": "python",
   "nbconvert_exporter": "python",
   "pygments_lexer": "ipython3",
   "version": "3.11.4"
  }
 },
 "nbformat": 4,
 "nbformat_minor": 5
}
