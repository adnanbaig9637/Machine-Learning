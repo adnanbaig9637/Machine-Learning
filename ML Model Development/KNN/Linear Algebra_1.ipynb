{
 "cells": [
  {
   "cell_type": "markdown",
   "id": "028b7540",
   "metadata": {},
   "source": [
    "* **Vectors Types**\n",
    "    * Zero Vector\n",
    "    * Unit Vector\n",
    "    * Coinitial Vector\n",
    "    * Collinear Vector\n",
    "    * Equal Vector"
   ]
  },
  {
   "cell_type": "markdown",
   "id": "b3ad31a4",
   "metadata": {},
   "source": [
    "### Vectors Operation"
   ]
  },
  {
   "cell_type": "code",
   "execution_count": 1,
   "id": "bedccb50",
   "metadata": {},
   "outputs": [],
   "source": [
    "import numpy as np"
   ]
  },
  {
   "cell_type": "code",
   "execution_count": 6,
   "id": "e43848d8",
   "metadata": {},
   "outputs": [
    {
     "data": {
      "text/plain": [
       "matrix([[1, 2, 3],\n",
       "        [4, 5, 6],\n",
       "        [7, 8, 9]])"
      ]
     },
     "execution_count": 6,
     "metadata": {},
     "output_type": "execute_result"
    }
   ],
   "source": [
    "x = np.matrix([[1,2,3],[4,5,6],[7,8,9]])\n",
    "x"
   ]
  },
  {
   "cell_type": "code",
   "execution_count": 7,
   "id": "12d2eaaa",
   "metadata": {},
   "outputs": [
    {
     "data": {
      "text/plain": [
       "matrix([[1, 0, 1],\n",
       "        [2, 3, 1],\n",
       "        [4, 2, 9]])"
      ]
     },
     "execution_count": 7,
     "metadata": {},
     "output_type": "execute_result"
    }
   ],
   "source": [
    "y = np.matrix([[1,0,1],[2,3,1],[4,2,9]])\n",
    "y"
   ]
  },
  {
   "cell_type": "code",
   "execution_count": 17,
   "id": "9072e684",
   "metadata": {},
   "outputs": [
    {
     "data": {
      "text/plain": [
       "matrix([[12],\n",
       "        [14],\n",
       "        [12]])"
      ]
     },
     "execution_count": 17,
     "metadata": {},
     "output_type": "execute_result"
    }
   ],
   "source": [
    "z = np.matrix([[12],[14],[12]])\n",
    "z"
   ]
  },
  {
   "cell_type": "markdown",
   "id": "f17ed860",
   "metadata": {},
   "source": [
    "#### Vectors Addition\n",
    "* **Element wise**\n",
    "* **Shape must be shape**"
   ]
  },
  {
   "cell_type": "code",
   "execution_count": 8,
   "id": "753c917a",
   "metadata": {},
   "outputs": [
    {
     "data": {
      "text/plain": [
       "matrix([[ 2,  2,  4],\n",
       "        [ 6,  8,  7],\n",
       "        [11, 10, 18]])"
      ]
     },
     "execution_count": 8,
     "metadata": {},
     "output_type": "execute_result"
    }
   ],
   "source": [
    "x+y"
   ]
  },
  {
   "cell_type": "markdown",
   "id": "9479bd56",
   "metadata": {},
   "source": [
    "#### Vectors Subtraction\n",
    "* **Element wise**\n",
    "* **Shape must be shape**"
   ]
  },
  {
   "cell_type": "code",
   "execution_count": 9,
   "id": "aa781460",
   "metadata": {},
   "outputs": [
    {
     "data": {
      "text/plain": [
       "matrix([[0, 2, 2],\n",
       "        [2, 2, 5],\n",
       "        [3, 6, 0]])"
      ]
     },
     "execution_count": 9,
     "metadata": {},
     "output_type": "execute_result"
    }
   ],
   "source": [
    "x-y"
   ]
  },
  {
   "cell_type": "markdown",
   "id": "434563e0",
   "metadata": {},
   "source": [
    "#### Vectors Multiplication\n",
    "* **Element wise**\n",
    "* **Shape must be shape**"
   ]
  },
  {
   "cell_type": "code",
   "execution_count": 14,
   "id": "ceeabbae",
   "metadata": {},
   "outputs": [
    {
     "data": {
      "text/plain": [
       "matrix([[ 1,  0,  3],\n",
       "        [ 8, 15,  6],\n",
       "        [28, 16, 81]])"
      ]
     },
     "execution_count": 14,
     "metadata": {},
     "output_type": "execute_result"
    }
   ],
   "source": [
    "np.multiply(x,y)"
   ]
  },
  {
   "cell_type": "markdown",
   "id": "13aa08d1",
   "metadata": {},
   "source": [
    "#### Vectors Multiplication\n",
    "* **Dot product multiplication**\n",
    "* **Shape may be differ**"
   ]
  },
  {
   "cell_type": "code",
   "execution_count": 18,
   "id": "f4590e1e",
   "metadata": {},
   "outputs": [
    {
     "data": {
      "text/plain": [
       "matrix([[ 76],\n",
       "        [190],\n",
       "        [304]])"
      ]
     },
     "execution_count": 18,
     "metadata": {},
     "output_type": "execute_result"
    }
   ],
   "source": [
    "np.dot(x,z)"
   ]
  },
  {
   "cell_type": "code",
   "execution_count": 26,
   "id": "060dc487",
   "metadata": {},
   "outputs": [
    {
     "data": {
      "text/plain": [
       "matrix([[ 76],\n",
       "        [190],\n",
       "        [304]])"
      ]
     },
     "execution_count": 26,
     "metadata": {},
     "output_type": "execute_result"
    }
   ],
   "source": [
    "np.linalg.multi_dot((x,z))"
   ]
  },
  {
   "cell_type": "markdown",
   "id": "ab471abe",
   "metadata": {},
   "source": [
    "#### Distance between vectors using euclidual distance"
   ]
  },
  {
   "cell_type": "code",
   "execution_count": 27,
   "id": "f80d2053",
   "metadata": {},
   "outputs": [],
   "source": [
    "x = np.array([1,2,3])\n",
    "y = np.array([15,2,6])\n",
    "z = np.array([4,7,6])"
   ]
  },
  {
   "cell_type": "code",
   "execution_count": 31,
   "id": "23fed2c8",
   "metadata": {},
   "outputs": [
    {
     "data": {
      "text/plain": [
       "14.317821063276353"
      ]
     },
     "execution_count": 31,
     "metadata": {},
     "output_type": "execute_result"
    }
   ],
   "source": [
    "dist_xy = np.sqrt(np.sum(np.square(x-y)))\n",
    "dist_xy"
   ]
  },
  {
   "cell_type": "code",
   "execution_count": 33,
   "id": "64e120c4",
   "metadata": {},
   "outputs": [
    {
     "data": {
      "text/plain": [
       "12.083045973594572"
      ]
     },
     "execution_count": 33,
     "metadata": {},
     "output_type": "execute_result"
    }
   ],
   "source": [
    "dist_yz = np.sqrt(np.sum(np.square(y-z)))\n",
    "dist_yz"
   ]
  },
  {
   "cell_type": "code",
   "execution_count": 34,
   "id": "d7502e15",
   "metadata": {},
   "outputs": [
    {
     "data": {
      "text/plain": [
       "6.557438524302"
      ]
     },
     "execution_count": 34,
     "metadata": {},
     "output_type": "execute_result"
    }
   ],
   "source": [
    "dist_xz = np.sqrt(np.sum(np.square(x-z)))\n",
    "dist_xz"
   ]
  },
  {
   "cell_type": "markdown",
   "id": "40ce1e94",
   "metadata": {},
   "source": [
    "**Distances**"
   ]
  },
  {
   "cell_type": "markdown",
   "id": "9e7e33b4",
   "metadata": {},
   "source": [
    "* **Properties of Distance**\n",
    "    * If the two data point are same the distance between two point will be zero\n",
    "    * The distance is always positive\n",
    "    * Triangle Inequality\n",
    "\n",
    "* **Types of Distances**\n",
    "    * Numeric data:- \n",
    "        * Eucledean Dist\n",
    "        * Manhatten Dist\n",
    "        * Minkowsaki Dist\n",
    "        * Cosine Similarity dist\n",
    "    * Catogaric data:-\n",
    "        * Hamming dist\n",
    "        * Jaccard Symmatric Dist"
   ]
  },
  {
   "cell_type": "markdown",
   "id": "7626d2d8",
   "metadata": {},
   "source": []
  },
  {
   "cell_type": "markdown",
   "id": "c383df45",
   "metadata": {},
   "source": [
    "### KNN Algorithm\n",
    "* KNN can be applied for labelled data in supervised ML\n",
    "* KNN can be used for both Classification & Regression type\n",
    "* KNN is distance based algorithm\n",
    "* K represent the number of closed data point{neighbour}"
   ]
  },
  {
   "cell_type": "code",
   "execution_count": null,
   "id": "305db594",
   "metadata": {},
   "outputs": [],
   "source": []
  },
  {
   "cell_type": "markdown",
   "id": "1c8fdc75",
   "metadata": {},
   "source": [
    "### Distance Metrix"
   ]
  },
  {
   "cell_type": "code",
   "execution_count": 2,
   "id": "6df54e3d",
   "metadata": {},
   "outputs": [],
   "source": [
    "from sklearn.metrics import pairwise_distances\n",
    "import numpy as np"
   ]
  },
  {
   "cell_type": "code",
   "execution_count": 3,
   "id": "64b295dc",
   "metadata": {},
   "outputs": [],
   "source": [
    "a = np.array([[1,4,7]])\n",
    "b = np.array([[4,7,9]])"
   ]
  },
  {
   "cell_type": "markdown",
   "id": "d6892c69",
   "metadata": {},
   "source": [
    "**Eucledean Distance**"
   ]
  },
  {
   "cell_type": "code",
   "execution_count": 7,
   "id": "de503f58",
   "metadata": {},
   "outputs": [
    {
     "data": {
      "text/plain": [
       "array([[4.69041576]])"
      ]
     },
     "execution_count": 7,
     "metadata": {},
     "output_type": "execute_result"
    }
   ],
   "source": [
    "eucli = pairwise_distances(a,b,metric='euclidean')\n",
    "eucli"
   ]
  },
  {
   "cell_type": "code",
   "execution_count": 8,
   "id": "2f2d671f",
   "metadata": {},
   "outputs": [
    {
     "data": {
      "text/plain": [
       "4.69041575982343"
      ]
     },
     "execution_count": 8,
     "metadata": {},
     "output_type": "execute_result"
    }
   ],
   "source": [
    "eucli[0][0]"
   ]
  },
  {
   "cell_type": "markdown",
   "id": "5a2eddc3",
   "metadata": {},
   "source": [
    "**Manhattan Distance**"
   ]
  },
  {
   "cell_type": "code",
   "execution_count": 12,
   "id": "2a676b20",
   "metadata": {},
   "outputs": [
    {
     "data": {
      "text/plain": [
       "array([[8.]])"
      ]
     },
     "execution_count": 12,
     "metadata": {},
     "output_type": "execute_result"
    }
   ],
   "source": [
    "manhat = pairwise_distances(a,b,metric='l1')\n",
    "manhat"
   ]
  },
  {
   "cell_type": "code",
   "execution_count": 13,
   "id": "814d6d12",
   "metadata": {},
   "outputs": [
    {
     "data": {
      "text/plain": [
       "8.0"
      ]
     },
     "execution_count": 13,
     "metadata": {},
     "output_type": "execute_result"
    }
   ],
   "source": [
    "manhat[0][0]"
   ]
  },
  {
   "cell_type": "code",
   "execution_count": 16,
   "id": "bb3eaa26",
   "metadata": {},
   "outputs": [
    {
     "data": {
      "text/plain": [
       "array([[8.]])"
      ]
     },
     "execution_count": 16,
     "metadata": {},
     "output_type": "execute_result"
    }
   ],
   "source": [
    "manhat = pairwise_distances(a,b,metric='manhattan')\n",
    "manhat"
   ]
  },
  {
   "cell_type": "markdown",
   "id": "a5d5156a",
   "metadata": {},
   "source": [
    "**Cosine Distance**"
   ]
  },
  {
   "cell_type": "code",
   "execution_count": 23,
   "id": "e48df26f",
   "metadata": {},
   "outputs": [
    {
     "data": {
      "text/plain": [
       "array([[0.03222319]])"
      ]
     },
     "execution_count": 23,
     "metadata": {},
     "output_type": "execute_result"
    }
   ],
   "source": [
    "cosine_dist = pairwise_distances(a,b,metric='cosine')\n",
    "cosine_dist"
   ]
  },
  {
   "cell_type": "code",
   "execution_count": 24,
   "id": "e367b705",
   "metadata": {},
   "outputs": [
    {
     "data": {
      "text/plain": [
       "0.9677768063277397"
      ]
     },
     "execution_count": 24,
     "metadata": {},
     "output_type": "execute_result"
    }
   ],
   "source": [
    "cosine_sim = 1 - cosine_dist[0][0]\n",
    "cosine_sim"
   ]
  },
  {
   "cell_type": "markdown",
   "id": "35dd1ad1",
   "metadata": {},
   "source": [
    "**Hemming Distance**"
   ]
  },
  {
   "cell_type": "code",
   "execution_count": 18,
   "id": "9be982b4",
   "metadata": {},
   "outputs": [
    {
     "data": {
      "text/plain": [
       "array([[1.]])"
      ]
     },
     "execution_count": 18,
     "metadata": {},
     "output_type": "execute_result"
    }
   ],
   "source": [
    "hemming = pairwise_distances(a,b,metric='hamming')\n",
    "hemming"
   ]
  },
  {
   "cell_type": "code",
   "execution_count": null,
   "id": "e6478dc1",
   "metadata": {},
   "outputs": [],
   "source": []
  },
  {
   "cell_type": "code",
   "execution_count": null,
   "id": "4a197603",
   "metadata": {},
   "outputs": [],
   "source": []
  },
  {
   "cell_type": "markdown",
   "id": "73dd2122",
   "metadata": {},
   "source": [
    "**Challenges with distance in KNN**"
   ]
  },
  {
   "cell_type": "code",
   "execution_count": null,
   "id": "88392cff",
   "metadata": {},
   "outputs": [],
   "source": []
  }
 ],
 "metadata": {
  "kernelspec": {
   "display_name": "Python 3 (ipykernel)",
   "language": "python",
   "name": "python3"
  },
  "language_info": {
   "codemirror_mode": {
    "name": "ipython",
    "version": 3
   },
   "file_extension": ".py",
   "mimetype": "text/x-python",
   "name": "python",
   "nbconvert_exporter": "python",
   "pygments_lexer": "ipython3",
   "version": "3.11.4"
  }
 },
 "nbformat": 4,
 "nbformat_minor": 5
}
