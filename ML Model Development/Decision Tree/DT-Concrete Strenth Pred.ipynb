{
 "cells": [
  {
   "cell_type": "markdown",
   "id": "7d2bbb5b",
   "metadata": {},
   "source": [
    "**Importing Libraries**"
   ]
  },
  {
   "cell_type": "code",
   "execution_count": 16,
   "id": "4ab24367",
   "metadata": {},
   "outputs": [],
   "source": [
    "import numpy as np\n",
    "import pandas as pd\n",
    "import seaborn as sns\n",
    "import matplotlib.pyplot as plt\n",
    "from sklearn.model_selection import train_test_split\n",
    "from sklearn.preprocessing import StandardScaler\n",
    "from sklearn.impute import SimpleImputer\n",
    "from sklearn.metrics import mean_squared_error , r2_score\n",
    "from sklearn.tree import DecisionTreeClassifier , DecisionTreeRegressor"
   ]
  },
  {
   "cell_type": "code",
   "execution_count": 2,
   "id": "e0d23032",
   "metadata": {},
   "outputs": [
    {
     "data": {
      "text/html": [
       "<div>\n",
       "<style scoped>\n",
       "    .dataframe tbody tr th:only-of-type {\n",
       "        vertical-align: middle;\n",
       "    }\n",
       "\n",
       "    .dataframe tbody tr th {\n",
       "        vertical-align: top;\n",
       "    }\n",
       "\n",
       "    .dataframe thead th {\n",
       "        text-align: right;\n",
       "    }\n",
       "</style>\n",
       "<table border=\"1\" class=\"dataframe\">\n",
       "  <thead>\n",
       "    <tr style=\"text-align: right;\">\n",
       "      <th></th>\n",
       "      <th>cement</th>\n",
       "      <th>slag</th>\n",
       "      <th>flyash</th>\n",
       "      <th>water</th>\n",
       "      <th>superplasticizer</th>\n",
       "      <th>coarseaggregate</th>\n",
       "      <th>fineaggregate</th>\n",
       "      <th>age</th>\n",
       "      <th>csMPa</th>\n",
       "    </tr>\n",
       "  </thead>\n",
       "  <tbody>\n",
       "    <tr>\n",
       "      <th>0</th>\n",
       "      <td>540.0</td>\n",
       "      <td>0.0</td>\n",
       "      <td>0.0</td>\n",
       "      <td>162.0</td>\n",
       "      <td>2.5</td>\n",
       "      <td>1040.0</td>\n",
       "      <td>676.0</td>\n",
       "      <td>28</td>\n",
       "      <td>79.99</td>\n",
       "    </tr>\n",
       "    <tr>\n",
       "      <th>1</th>\n",
       "      <td>540.0</td>\n",
       "      <td>0.0</td>\n",
       "      <td>0.0</td>\n",
       "      <td>162.0</td>\n",
       "      <td>2.5</td>\n",
       "      <td>1055.0</td>\n",
       "      <td>676.0</td>\n",
       "      <td>28</td>\n",
       "      <td>61.89</td>\n",
       "    </tr>\n",
       "    <tr>\n",
       "      <th>2</th>\n",
       "      <td>332.5</td>\n",
       "      <td>142.5</td>\n",
       "      <td>0.0</td>\n",
       "      <td>228.0</td>\n",
       "      <td>0.0</td>\n",
       "      <td>932.0</td>\n",
       "      <td>594.0</td>\n",
       "      <td>270</td>\n",
       "      <td>40.27</td>\n",
       "    </tr>\n",
       "    <tr>\n",
       "      <th>3</th>\n",
       "      <td>332.5</td>\n",
       "      <td>142.5</td>\n",
       "      <td>0.0</td>\n",
       "      <td>228.0</td>\n",
       "      <td>0.0</td>\n",
       "      <td>932.0</td>\n",
       "      <td>594.0</td>\n",
       "      <td>365</td>\n",
       "      <td>41.05</td>\n",
       "    </tr>\n",
       "    <tr>\n",
       "      <th>4</th>\n",
       "      <td>198.6</td>\n",
       "      <td>132.4</td>\n",
       "      <td>0.0</td>\n",
       "      <td>192.0</td>\n",
       "      <td>0.0</td>\n",
       "      <td>978.4</td>\n",
       "      <td>825.5</td>\n",
       "      <td>360</td>\n",
       "      <td>44.30</td>\n",
       "    </tr>\n",
       "  </tbody>\n",
       "</table>\n",
       "</div>"
      ],
      "text/plain": [
       "   cement   slag  flyash  water  superplasticizer  coarseaggregate  \\\n",
       "0   540.0    0.0     0.0  162.0               2.5           1040.0   \n",
       "1   540.0    0.0     0.0  162.0               2.5           1055.0   \n",
       "2   332.5  142.5     0.0  228.0               0.0            932.0   \n",
       "3   332.5  142.5     0.0  228.0               0.0            932.0   \n",
       "4   198.6  132.4     0.0  192.0               0.0            978.4   \n",
       "\n",
       "   fineaggregate  age  csMPa  \n",
       "0          676.0   28  79.99  \n",
       "1          676.0   28  61.89  \n",
       "2          594.0  270  40.27  \n",
       "3          594.0  365  41.05  \n",
       "4          825.5  360  44.30  "
      ]
     },
     "execution_count": 2,
     "metadata": {},
     "output_type": "execute_result"
    }
   ],
   "source": [
    "df = pd.read_csv(r\"C:\\Users\\User\\Downloads\\Concrete_Data_Yeh.csv\")\n",
    "df.head()"
   ]
  },
  {
   "cell_type": "code",
   "execution_count": 3,
   "id": "ef98b4fe",
   "metadata": {},
   "outputs": [
    {
     "data": {
      "text/plain": [
       "(1030, 9)"
      ]
     },
     "execution_count": 3,
     "metadata": {},
     "output_type": "execute_result"
    }
   ],
   "source": [
    "df.shape"
   ]
  },
  {
   "cell_type": "code",
   "execution_count": 4,
   "id": "6e82a299",
   "metadata": {},
   "outputs": [
    {
     "name": "stdout",
     "output_type": "stream",
     "text": [
      "<class 'pandas.core.frame.DataFrame'>\n",
      "RangeIndex: 1030 entries, 0 to 1029\n",
      "Data columns (total 9 columns):\n",
      " #   Column            Non-Null Count  Dtype  \n",
      "---  ------            --------------  -----  \n",
      " 0   cement            1030 non-null   float64\n",
      " 1   slag              1030 non-null   float64\n",
      " 2   flyash            1030 non-null   float64\n",
      " 3   water             1030 non-null   float64\n",
      " 4   superplasticizer  1030 non-null   float64\n",
      " 5   coarseaggregate   1030 non-null   float64\n",
      " 6   fineaggregate     1030 non-null   float64\n",
      " 7   age               1030 non-null   int64  \n",
      " 8   csMPa             1030 non-null   float64\n",
      "dtypes: float64(8), int64(1)\n",
      "memory usage: 72.6 KB\n"
     ]
    }
   ],
   "source": [
    "df.info()"
   ]
  },
  {
   "cell_type": "code",
   "execution_count": 7,
   "id": "18295f02",
   "metadata": {},
   "outputs": [
    {
     "data": {
      "text/plain": [
       "0"
      ]
     },
     "execution_count": 7,
     "metadata": {},
     "output_type": "execute_result"
    }
   ],
   "source": [
    "df.duplicated().sum()"
   ]
  },
  {
   "cell_type": "code",
   "execution_count": 6,
   "id": "225227f1",
   "metadata": {},
   "outputs": [],
   "source": [
    "df.drop_duplicates(inplace=True)"
   ]
  },
  {
   "cell_type": "code",
   "execution_count": 8,
   "id": "369d720c",
   "metadata": {},
   "outputs": [
    {
     "data": {
      "text/plain": [
       "cement              0\n",
       "slag                0\n",
       "flyash              0\n",
       "water               0\n",
       "superplasticizer    0\n",
       "coarseaggregate     0\n",
       "fineaggregate       0\n",
       "age                 0\n",
       "csMPa               0\n",
       "dtype: int64"
      ]
     },
     "execution_count": 8,
     "metadata": {},
     "output_type": "execute_result"
    }
   ],
   "source": [
    "df.isna().sum()"
   ]
  },
  {
   "cell_type": "code",
   "execution_count": 9,
   "id": "2cb31f8c",
   "metadata": {},
   "outputs": [],
   "source": [
    "X = df.drop('csMPa' , axis=1)\n",
    "y = df['csMPa']\n",
    "\n",
    "X_train , X_test , y_train , y_test = train_test_split(X, y, test_size=0.2 , random_state=23)"
   ]
  },
  {
   "cell_type": "code",
   "execution_count": 24,
   "id": "e8883e4f",
   "metadata": {},
   "outputs": [
    {
     "data": {
      "text/plain": [
       "array([56.85      , 29.66666667, 29.66666667, 29.66666667, 24.674     ,\n",
       "       39.46070588, 39.46070588, 39.46070588, 53.9834375 , 23.3       ,\n",
       "       53.9834375 , 38.04147059, 39.46070588, 29.66666667, 30.20692308,\n",
       "       23.98666667, 23.3       , 42.52138889, 27.83883721, 13.07519608,\n",
       "       56.85      , 62.9344898 , 42.52138889, 33.67096774, 29.66666667,\n",
       "       42.52138889, 62.9344898 , 62.9344898 , 13.07519608, 13.07519608,\n",
       "       39.46070588, 27.83883721, 32.726     , 39.46070588, 39.46070588,\n",
       "       13.07519608, 64.79166667, 42.52138889, 27.83883721, 56.85      ,\n",
       "       19.5284375 , 62.9344898 , 27.83883721, 62.9344898 , 13.07519608,\n",
       "       39.46070588, 33.67096774, 62.9344898 , 38.04147059, 39.536     ,\n",
       "       30.20692308, 23.3       , 50.5825    , 54.58166667, 42.52138889,\n",
       "       29.66666667, 42.52138889, 42.52138889, 62.9344898 , 62.9344898 ,\n",
       "       13.07519608, 39.46070588, 36.36136364, 62.9344898 , 13.90181818,\n",
       "       29.66666667, 13.07519608, 51.56      , 52.34142857, 29.66666667,\n",
       "       62.9344898 , 13.07519608, 38.04147059, 33.67096774, 56.85      ,\n",
       "       62.9344898 , 38.04147059, 54.58166667, 38.04147059, 62.9344898 ,\n",
       "       30.20692308, 13.07519608, 30.20692308, 13.90181818, 27.83883721,\n",
       "       39.46070588, 13.90181818, 52.34142857, 27.83883721, 19.5284375 ,\n",
       "       56.85      , 53.9834375 , 62.9344898 , 39.536     , 38.04147059,\n",
       "       38.04147059, 29.66666667, 29.66666667, 29.66666667, 33.67096774,\n",
       "       38.04147059, 29.66666667, 29.66666667, 13.07519608, 13.90181818,\n",
       "       14.041     , 38.04147059, 42.52138889, 39.46070588, 39.46070588,\n",
       "       38.04147059, 62.9344898 , 33.67096774, 62.9344898 , 14.041     ,\n",
       "       23.3       , 13.07519608, 42.52138889, 27.83883721, 42.52138889,\n",
       "       39.46070588, 33.67096774, 19.5284375 , 38.04147059, 52.34142857,\n",
       "       53.9834375 , 39.536     , 39.46070588, 42.52138889, 13.90181818,\n",
       "       39.46070588, 52.34142857, 53.9834375 , 29.66666667, 62.9344898 ,\n",
       "       27.83883721, 62.9344898 , 38.04147059, 39.46070588, 13.07519608,\n",
       "       32.60444444, 39.46070588, 53.9834375 , 32.60444444, 13.90181818,\n",
       "       42.52138889, 39.46070588, 38.04147059, 13.07519608, 62.9344898 ,\n",
       "       39.46070588, 53.9834375 , 36.36136364, 23.3       , 54.58166667,\n",
       "       42.52138889, 13.07519608, 29.66666667, 50.5825    , 33.67096774,\n",
       "       42.52138889, 32.726     , 39.46070588, 62.9344898 , 39.46070588,\n",
       "       53.9834375 , 53.9834375 , 50.5825    , 29.66666667, 29.66666667,\n",
       "       62.9344898 , 13.90181818, 13.07519608, 50.5825    , 64.79166667,\n",
       "       13.07519608, 39.46070588, 29.66666667, 36.36136364, 25.05583333,\n",
       "       13.07519608, 27.83883721, 32.60444444, 33.67096774, 27.83883721,\n",
       "       62.9344898 , 38.04147059, 29.66666667, 29.66666667, 29.66666667,\n",
       "       29.66666667, 53.9834375 , 29.66666667, 29.66666667, 13.90181818,\n",
       "       39.46070588, 13.07519608, 38.04147059, 39.46070588, 39.46070588,\n",
       "       42.61625   ])"
      ]
     },
     "execution_count": 24,
     "metadata": {},
     "output_type": "execute_result"
    }
   ],
   "source": [
    "dt = DecisionTreeRegressor(max_depth=5)\n",
    "dt.fit(X_train , y_train)\n",
    "y_pred = dt.predict(X_test)\n",
    "\n",
    "y_pred"
   ]
  },
  {
   "cell_type": "code",
   "execution_count": 25,
   "id": "2edd5410",
   "metadata": {},
   "outputs": [
    {
     "data": {
      "text/plain": [
       "64.76847537318842"
      ]
     },
     "execution_count": 25,
     "metadata": {},
     "output_type": "execute_result"
    }
   ],
   "source": [
    "mean_squared_error(y_test , y_pred)"
   ]
  },
  {
   "cell_type": "code",
   "execution_count": 26,
   "id": "5dc954e1",
   "metadata": {},
   "outputs": [
    {
     "data": {
      "text/plain": [
       "8.047886391667593"
      ]
     },
     "execution_count": 26,
     "metadata": {},
     "output_type": "execute_result"
    }
   ],
   "source": [
    "np.sqrt(mean_squared_error(y_test , y_pred))"
   ]
  },
  {
   "cell_type": "code",
   "execution_count": 27,
   "id": "27929cde",
   "metadata": {},
   "outputs": [
    {
     "data": {
      "text/plain": [
       "0.7821618514565455"
      ]
     },
     "execution_count": 27,
     "metadata": {},
     "output_type": "execute_result"
    }
   ],
   "source": [
    "r2_score(y_test , y_pred)"
   ]
  },
  {
   "cell_type": "code",
   "execution_count": 28,
   "id": "aa263377",
   "metadata": {},
   "outputs": [],
   "source": [
    "from sklearn import tree"
   ]
  },
  {
   "cell_type": "code",
   "execution_count": 29,
   "id": "2023968f",
   "metadata": {},
   "outputs": [
    {
     "data": {
      "image/png": "[encoded data removed]",
      "text/plain": [
       "<Figure size 640x480 with 1 Axes>"
      ]
     },
     "metadata": {},
     "output_type": "display_data"
    }
   ],
   "source": [
    "tree.plot_tree(dt)\n",
    "plt.show()"
   ]
  },
  {
   "cell_type": "code",
   "execution_count": 30,
   "id": "d175de0c",
   "metadata": {},
   "outputs": [
    {
     "data": {
      "image/png": "[encoded data removed]",
      "text/plain": [
       "<Figure size 640x480 with 1 Axes>"
      ]
     },
     "metadata": {},
     "output_type": "display_data"
    }
   ],
   "source": [
    "plt.barh(y = dt.feature_names_in_ , width=dt.feature_importances_)\n",
    "plt.show()"
   ]
  },
  {
   "cell_type": "code",
   "execution_count": null,
   "id": "052eb9eb",
   "metadata": {},
   "outputs": [],
   "source": []
  }
 ],
 "metadata": {
  "kernelspec": {
   "display_name": "Python 3 (ipykernel)",
   "language": "python",
   "name": "python3"
  },
  "language_info": {
   "codemirror_mode": {
    "name": "ipython",
    "version": 3
   },
   "file_extension": ".py",
   "mimetype": "text/x-python",
   "name": "python",
   "nbconvert_exporter": "python",
   "pygments_lexer": "ipython3",
   "version": "3.11.4"
  }
 },
 "nbformat": 4,
 "nbformat_minor": 5
}
