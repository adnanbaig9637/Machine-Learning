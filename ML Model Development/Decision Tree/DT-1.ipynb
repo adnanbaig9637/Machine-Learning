{
 "cells": [
  {
   "cell_type": "code",
   "execution_count": 2,
   "id": "49e3aa13",
   "metadata": {},
   "outputs": [],
   "source": [
    "import numpy as np\n",
    "import pandas as pd"
   ]
  },
  {
   "cell_type": "markdown",
   "id": "0070ed0e",
   "metadata": {},
   "source": [
    "**Entropy Formluma**"
   ]
  },
  {
   "cell_type": "code",
   "execution_count": 3,
   "id": "2a7c3e34",
   "metadata": {},
   "outputs": [],
   "source": [
    "def entropy(y):\n",
    "    total = sum(y)\n",
    "    entropy = 0\n",
    "    for fav in y:\n",
    "        entropy += (fav/total) * np.log2(fav/total)\n",
    "    return -1 * entropy"
   ]
  },
  {
   "cell_type": "code",
   "execution_count": 8,
   "id": "1addf26a",
   "metadata": {},
   "outputs": [
    {
     "data": {
      "text/plain": [
       "0.9182958340544896"
      ]
     },
     "execution_count": 8,
     "metadata": {},
     "output_type": "execute_result"
    }
   ],
   "source": [
    "entropy([2,1]) "
   ]
  },
  {
   "cell_type": "code",
   "execution_count": 9,
   "id": "155823f0",
   "metadata": {},
   "outputs": [
    {
     "data": {
      "text/plain": [
       "0.05999999999999994"
      ]
     },
     "execution_count": 9,
     "metadata": {},
     "output_type": "execute_result"
    }
   ],
   "source": [
    "0.97-0.91"
   ]
  },
  {
   "cell_type": "code",
   "execution_count": 7,
   "id": "4a4ec3e2",
   "metadata": {},
   "outputs": [
    {
     "data": {
      "text/plain": [
       "0.15999999999999992"
      ]
     },
     "execution_count": 7,
     "metadata": {},
     "output_type": "execute_result"
    }
   ],
   "source": [
    "0.97-0.81"
   ]
  },
  {
   "cell_type": "code",
   "execution_count": null,
   "id": "3de0d9c8",
   "metadata": {},
   "outputs": [],
   "source": [
    "Rain(Hot)-Y-0 , N-0\n",
    "Rain(Mild) -Y-2, N-1\n",
    "Rain(Cool) Y-3, N-1"
   ]
  },
  {
   "cell_type": "code",
   "execution_count": 16,
   "id": "f72f30c3",
   "metadata": {},
   "outputs": [
    {
     "data": {
      "text/html": [
       "<div>\n",
       "<style scoped>\n",
       "    .dataframe tbody tr th:only-of-type {\n",
       "        vertical-align: middle;\n",
       "    }\n",
       "\n",
       "    .dataframe tbody tr th {\n",
       "        vertical-align: top;\n",
       "    }\n",
       "\n",
       "    .dataframe thead th {\n",
       "        text-align: right;\n",
       "    }\n",
       "</style>\n",
       "<table border=\"1\" class=\"dataframe\">\n",
       "  <thead>\n",
       "    <tr style=\"text-align: right;\">\n",
       "      <th></th>\n",
       "      <th>Day</th>\n",
       "      <th>Outlook</th>\n",
       "      <th>Temperature</th>\n",
       "      <th>Humidity</th>\n",
       "      <th>Wind</th>\n",
       "      <th>Play</th>\n",
       "    </tr>\n",
       "  </thead>\n",
       "  <tbody>\n",
       "    <tr>\n",
       "      <th>0</th>\n",
       "      <td>1</td>\n",
       "      <td>Sunny</td>\n",
       "      <td>Hot</td>\n",
       "      <td>High</td>\n",
       "      <td>Weak</td>\n",
       "      <td>No</td>\n",
       "    </tr>\n",
       "    <tr>\n",
       "      <th>1</th>\n",
       "      <td>2</td>\n",
       "      <td>Sunny</td>\n",
       "      <td>Hot</td>\n",
       "      <td>High</td>\n",
       "      <td>Strong</td>\n",
       "      <td>No</td>\n",
       "    </tr>\n",
       "    <tr>\n",
       "      <th>2</th>\n",
       "      <td>3</td>\n",
       "      <td>Overcast</td>\n",
       "      <td>Hot</td>\n",
       "      <td>High</td>\n",
       "      <td>Weak</td>\n",
       "      <td>Yes</td>\n",
       "    </tr>\n",
       "    <tr>\n",
       "      <th>3</th>\n",
       "      <td>4</td>\n",
       "      <td>Rain</td>\n",
       "      <td>Mild</td>\n",
       "      <td>High</td>\n",
       "      <td>Weak</td>\n",
       "      <td>Yes</td>\n",
       "    </tr>\n",
       "    <tr>\n",
       "      <th>4</th>\n",
       "      <td>5</td>\n",
       "      <td>Rain</td>\n",
       "      <td>Cool</td>\n",
       "      <td>Normal</td>\n",
       "      <td>Weak</td>\n",
       "      <td>Yes</td>\n",
       "    </tr>\n",
       "    <tr>\n",
       "      <th>5</th>\n",
       "      <td>6</td>\n",
       "      <td>Rain</td>\n",
       "      <td>Cool</td>\n",
       "      <td>Normal</td>\n",
       "      <td>Strong</td>\n",
       "      <td>No</td>\n",
       "    </tr>\n",
       "    <tr>\n",
       "      <th>6</th>\n",
       "      <td>7</td>\n",
       "      <td>Overcast</td>\n",
       "      <td>Cool</td>\n",
       "      <td>Normal</td>\n",
       "      <td>Strong</td>\n",
       "      <td>Yes</td>\n",
       "    </tr>\n",
       "    <tr>\n",
       "      <th>7</th>\n",
       "      <td>8</td>\n",
       "      <td>Sunny</td>\n",
       "      <td>Mild</td>\n",
       "      <td>High</td>\n",
       "      <td>Weak</td>\n",
       "      <td>No</td>\n",
       "    </tr>\n",
       "    <tr>\n",
       "      <th>8</th>\n",
       "      <td>9</td>\n",
       "      <td>Sunny</td>\n",
       "      <td>Cool</td>\n",
       "      <td>Normal</td>\n",
       "      <td>Weak</td>\n",
       "      <td>Yes</td>\n",
       "    </tr>\n",
       "    <tr>\n",
       "      <th>9</th>\n",
       "      <td>10</td>\n",
       "      <td>Rain</td>\n",
       "      <td>Mild</td>\n",
       "      <td>Normal</td>\n",
       "      <td>Weak</td>\n",
       "      <td>Yes</td>\n",
       "    </tr>\n",
       "    <tr>\n",
       "      <th>10</th>\n",
       "      <td>11</td>\n",
       "      <td>Sunny</td>\n",
       "      <td>Mild</td>\n",
       "      <td>Normal</td>\n",
       "      <td>Strong</td>\n",
       "      <td>Yes</td>\n",
       "    </tr>\n",
       "    <tr>\n",
       "      <th>11</th>\n",
       "      <td>12</td>\n",
       "      <td>Overcast</td>\n",
       "      <td>Mild</td>\n",
       "      <td>High</td>\n",
       "      <td>Strong</td>\n",
       "      <td>Yes</td>\n",
       "    </tr>\n",
       "    <tr>\n",
       "      <th>12</th>\n",
       "      <td>13</td>\n",
       "      <td>Overcast</td>\n",
       "      <td>Hot</td>\n",
       "      <td>Normal</td>\n",
       "      <td>Weak</td>\n",
       "      <td>Yes</td>\n",
       "    </tr>\n",
       "    <tr>\n",
       "      <th>13</th>\n",
       "      <td>14</td>\n",
       "      <td>Rain</td>\n",
       "      <td>Mild</td>\n",
       "      <td>High</td>\n",
       "      <td>Strong</td>\n",
       "      <td>No</td>\n",
       "    </tr>\n",
       "  </tbody>\n",
       "</table>\n",
       "</div>"
      ],
      "text/plain": [
       "    Day   Outlook Temperature Humidity    Wind Play\n",
       "0     1     Sunny         Hot     High    Weak   No\n",
       "1     2     Sunny         Hot     High  Strong   No\n",
       "2     3  Overcast         Hot     High    Weak  Yes\n",
       "3     4      Rain        Mild     High    Weak  Yes\n",
       "4     5      Rain        Cool   Normal    Weak  Yes\n",
       "5     6      Rain        Cool   Normal  Strong   No\n",
       "6     7  Overcast        Cool   Normal  Strong  Yes\n",
       "7     8     Sunny        Mild     High    Weak   No\n",
       "8     9     Sunny        Cool   Normal    Weak  Yes\n",
       "9    10      Rain        Mild   Normal    Weak  Yes\n",
       "10   11     Sunny        Mild   Normal  Strong  Yes\n",
       "11   12  Overcast        Mild     High  Strong  Yes\n",
       "12   13  Overcast         Hot   Normal    Weak  Yes\n",
       "13   14      Rain        Mild     High  Strong   No"
      ]
     },
     "execution_count": 16,
     "metadata": {},
     "output_type": "execute_result"
    }
   ],
   "source": [
    "df = pd.read_csv(r\"C:\\Users\\User\\Downloads\\weather_prob.csv\")\n",
    "df"
   ]
  },
  {
   "cell_type": "markdown",
   "id": "754ba164",
   "metadata": {},
   "source": [
    "**Impurity of Sunny**"
   ]
  },
  {
   "cell_type": "code",
   "execution_count": 21,
   "id": "29d0b293",
   "metadata": {},
   "outputs": [],
   "source": [
    "def entropy(y):\n",
    "    total = sum(y)\n",
    "    entropy = 0\n",
    "    for fav in y:\n",
    "        entropy += (fav/total) * np.log2(fav/total)\n",
    "    return -1 * entropy"
   ]
  },
  {
   "cell_type": "code",
   "execution_count": 27,
   "id": "e624b48b",
   "metadata": {},
   "outputs": [
    {
     "data": {
      "text/plain": [
       "0.9709505944546686"
      ]
     },
     "execution_count": 27,
     "metadata": {},
     "output_type": "execute_result"
    }
   ],
   "source": [
    "entropy([2,3])"
   ]
  },
  {
   "cell_type": "markdown",
   "id": "449fc1f5",
   "metadata": {},
   "source": [
    "**Impurity of Overcast**"
   ]
  },
  {
   "cell_type": "code",
   "execution_count": 23,
   "id": "5d7a10ef",
   "metadata": {},
   "outputs": [
    {
     "name": "stderr",
     "output_type": "stream",
     "text": [
      "C:\\Users\\User\\AppData\\Local\\Temp\\ipykernel_8976\\1695141843.py:5: RuntimeWarning: divide by zero encountered in log2\n",
      "  entropy += (fav/total) * np.log2(fav/total)\n",
      "C:\\Users\\User\\AppData\\Local\\Temp\\ipykernel_8976\\1695141843.py:5: RuntimeWarning: invalid value encountered in scalar multiply\n",
      "  entropy += (fav/total) * np.log2(fav/total)\n"
     ]
    },
    {
     "data": {
      "text/plain": [
       "nan"
      ]
     },
     "execution_count": 23,
     "metadata": {},
     "output_type": "execute_result"
    }
   ],
   "source": [
    "entropy([4,0])"
   ]
  },
  {
   "cell_type": "markdown",
   "id": "fd4585b2",
   "metadata": {},
   "source": [
    "**Impurity of Rain**"
   ]
  },
  {
   "cell_type": "code",
   "execution_count": 28,
   "id": "6e2a82c0",
   "metadata": {},
   "outputs": [
    {
     "data": {
      "text/plain": [
       "0.9709505944546686"
      ]
     },
     "execution_count": 28,
     "metadata": {},
     "output_type": "execute_result"
    }
   ],
   "source": [
    "entropy([3,2])"
   ]
  },
  {
   "cell_type": "markdown",
   "id": "e1e04c2a",
   "metadata": {},
   "source": [
    "**Information Gain**"
   ]
  },
  {
   "cell_type": "code",
   "execution_count": 30,
   "id": "1457c6df",
   "metadata": {},
   "outputs": [
    {
     "data": {
      "text/plain": [
       "0.9182958340544896"
      ]
     },
     "execution_count": 30,
     "metadata": {},
     "output_type": "execute_result"
    }
   ],
   "source": [
    "entropy([4,2])"
   ]
  },
  {
   "cell_type": "code",
   "execution_count": 31,
   "id": "d09e0221",
   "metadata": {},
   "outputs": [
    {
     "data": {
      "text/plain": [
       "0.8112781244591328"
      ]
     },
     "execution_count": 31,
     "metadata": {},
     "output_type": "execute_result"
    }
   ],
   "source": [
    "entropy([3,1])"
   ]
  },
  {
   "cell_type": "code",
   "execution_count": 41,
   "id": "d57ed109",
   "metadata": {},
   "outputs": [
    {
     "data": {
      "text/plain": [
       "0.7849999999999999"
      ]
     },
     "execution_count": 41,
     "metadata": {},
     "output_type": "execute_result"
    }
   ],
   "source": [
    "((7/14)*0.98) + ((7/14)*0.59) "
   ]
  },
  {
   "cell_type": "code",
   "execution_count": 42,
   "id": "364583ef",
   "metadata": {},
   "outputs": [
    {
     "data": {
      "text/plain": [
       "0.15999999999999992"
      ]
     },
     "execution_count": 42,
     "metadata": {},
     "output_type": "execute_result"
    }
   ],
   "source": [
    "0.94-0.78"
   ]
  },
  {
   "cell_type": "code",
   "execution_count": 36,
   "id": "b3acee7e",
   "metadata": {},
   "outputs": [
    {
     "data": {
      "text/plain": [
       "0.25"
      ]
     },
     "execution_count": 36,
     "metadata": {},
     "output_type": "execute_result"
    }
   ],
   "source": [
    "0.90-0.65"
   ]
  },
  {
   "cell_type": "code",
   "execution_count": null,
   "id": "732dc215",
   "metadata": {},
   "outputs": [],
   "source": [
    "3/14 , 11,14"
   ]
  },
  {
   "cell_type": "code",
   "execution_count": null,
   "id": "0d62c949",
   "metadata": {},
   "outputs": [],
   "source": []
  },
  {
   "cell_type": "code",
   "execution_count": 68,
   "id": "cba576b5",
   "metadata": {},
   "outputs": [
    {
     "data": {
      "text/plain": [
       "0.8112781244591328"
      ]
     },
     "execution_count": 68,
     "metadata": {},
     "output_type": "execute_result"
    }
   ],
   "source": [
    "entropy([2,6])"
   ]
  },
  {
   "cell_type": "code",
   "execution_count": 5,
   "id": "35e8db35",
   "metadata": {},
   "outputs": [
    {
     "data": {
      "text/plain": [
       "0.546"
      ]
     },
     "execution_count": 5,
     "metadata": {},
     "output_type": "execute_result"
    }
   ],
   "source": [
    "3/5 *0.91 "
   ]
  },
  {
   "cell_type": "code",
   "execution_count": 70,
   "id": "73406c83",
   "metadata": {},
   "outputs": [
    {
     "data": {
      "text/plain": [
       "0.8914285714285715"
      ]
     },
     "execution_count": 70,
     "metadata": {},
     "output_type": "execute_result"
    }
   ],
   "source": [
    "((8/14)*0.81) + ((6/14)*1)"
   ]
  },
  {
   "cell_type": "code",
   "execution_count": 72,
   "id": "55b29f4c",
   "metadata": {},
   "outputs": [
    {
     "data": {
      "text/plain": [
       "0.039999999999999925"
      ]
     },
     "execution_count": 72,
     "metadata": {},
     "output_type": "execute_result"
    }
   ],
   "source": [
    "0.94-0.90"
   ]
  },
  {
   "cell_type": "code",
   "execution_count": null,
   "id": "20a14f4f",
   "metadata": {},
   "outputs": [],
   "source": [
    " "
   ]
  },
  {
   "cell_type": "code",
   "execution_count": 10,
   "id": "15685508",
   "metadata": {},
   "outputs": [
    {
     "data": {
      "text/plain": [
       "0.5"
      ]
     },
     "execution_count": 10,
     "metadata": {},
     "output_type": "execute_result"
    }
   ],
   "source": [
    "1-((3/6)**2 + (3/6)**2)"
   ]
  },
  {
   "cell_type": "code",
   "execution_count": 12,
   "id": "30dcf0f6",
   "metadata": {},
   "outputs": [
    {
     "data": {
      "text/plain": [
       "0.0"
      ]
     },
     "execution_count": 12,
     "metadata": {},
     "output_type": "execute_result"
    }
   ],
   "source": [
    "1-((6/6)**2)"
   ]
  },
  {
   "cell_type": "code",
   "execution_count": null,
   "id": "70447d0e",
   "metadata": {},
   "outputs": [],
   "source": []
  }
 ],
 "metadata": {
  "kernelspec": {
   "display_name": "Python 3 (ipykernel)",
   "language": "python",
   "name": "python3"
  },
  "language_info": {
   "codemirror_mode": {
    "name": "ipython",
    "version": 3
   },
   "file_extension": ".py",
   "mimetype": "text/x-python",
   "name": "python",
   "nbconvert_exporter": "python",
   "pygments_lexer": "ipython3",
   "version": "3.11.4"
  }
 },
 "nbformat": 4,
 "nbformat_minor": 5
}
