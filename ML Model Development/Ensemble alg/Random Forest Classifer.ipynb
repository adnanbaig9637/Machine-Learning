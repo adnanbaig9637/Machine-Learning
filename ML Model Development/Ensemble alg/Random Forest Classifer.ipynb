{
 "cells": [
  {
   "cell_type": "code",
   "execution_count": 4,
   "id": "8458ae43",
   "metadata": {},
   "outputs": [],
   "source": [
    "import pandas as pd\n",
    "import numpy as np\n",
    "import seaborn as sns\n",
    "from sklearn.model_selection import train_test_split\n",
    "from sklearn import metrics\n",
    "from sklearn.datasets import make_classification\n",
    "from sklearn.neighbors import KNeighborsClassifier\n",
    "from sklearn.linear_model import LogisticRegression\n",
    "from sklearn.tree import DecisionTreeClassifier\n",
    "from sklearn.svm import SVC\n",
    "\n",
    "from sklearn.ensemble import VotingClassifier\n",
    "\n",
    "import warnings\n",
    "warnings.filterwarnings(\"ignore\")\n",
    "\n",
    "from sklearn.ensemble import RandomForestClassifier"
   ]
  },
  {
   "cell_type": "code",
   "execution_count": 2,
   "id": "f5567416",
   "metadata": {},
   "outputs": [],
   "source": [
    "X , y = make_classification(n_samples=1000 , n_features=4 , class_sep= 0.2)"
   ]
  },
  {
   "cell_type": "code",
   "execution_count": 3,
   "id": "a01fce90",
   "metadata": {},
   "outputs": [],
   "source": [
    "X_train , X_test , y_train , y_test = train_test_split(X, y , test_size=0.2 , random_state=23)"
   ]
  },
  {
   "cell_type": "code",
   "execution_count": 9,
   "id": "c5438146",
   "metadata": {},
   "outputs": [
    {
     "name": "stderr",
     "output_type": "stream",
     "text": [
      "[Parallel(n_jobs=1)]: Using backend SequentialBackend with 1 concurrent workers.\n",
      "[Parallel(n_jobs=1)]: Done   1 out of   1 | elapsed:    0.0s remaining:    0.0s\n"
     ]
    },
    {
     "name": "stdout",
     "output_type": "stream",
     "text": [
      "building tree 1 of 150\n",
      "building tree 2 of 150\n",
      "building tree 3 of 150\n",
      "building tree 4 of 150\n",
      "building tree 5 of 150\n",
      "building tree 6 of 150\n",
      "building tree 7 of 150\n",
      "building tree 8 of 150\n",
      "building tree 9 of 150\n",
      "building tree 10 of 150\n",
      "building tree 11 of 150\n",
      "building tree 12 of 150\n",
      "building tree 13 of 150\n",
      "building tree 14 of 150\n",
      "building tree 15 of 150\n",
      "building tree 16 of 150\n",
      "building tree 17 of 150\n",
      "building tree 18 of 150\n",
      "building tree 19 of 150\n",
      "building tree 20 of 150\n",
      "building tree 21 of 150\n",
      "building tree 22 of 150\n",
      "building tree 23 of 150\n",
      "building tree 24 of 150\n",
      "building tree 25 of 150\n",
      "building tree 26 of 150\n",
      "building tree 27 of 150\n",
      "building tree 28 of 150\n",
      "building tree 29 of 150\n",
      "building tree 30 of 150\n",
      "building tree 31 of 150\n",
      "building tree 32 of 150\n",
      "building tree 33 of 150\n",
      "building tree 34 of 150\n",
      "building tree 35 of 150\n",
      "building tree 36 of 150\n",
      "building tree 37 of 150\n",
      "building tree 38 of 150\n",
      "building tree 39 of 150\n",
      "building tree 40 of 150\n",
      "building tree 41 of 150\n",
      "building tree 42 of 150\n",
      "building tree 43 of 150\n",
      "building tree 44 of 150\n",
      "building tree 45 of 150\n",
      "building tree 46 of 150\n",
      "building tree 47 of 150\n",
      "building tree 48 of 150\n",
      "building tree 49 of 150\n",
      "building tree 50 of 150\n",
      "building tree 51 of 150\n",
      "building tree 52 of 150\n",
      "building tree 53 of 150\n",
      "building tree 54 of 150\n",
      "building tree 55 of 150\n",
      "building tree 56 of 150\n",
      "building tree 57 of 150\n",
      "building tree 58 of 150\n",
      "building tree 59 of 150\n",
      "building tree 60 of 150\n",
      "building tree 61 of 150\n",
      "building tree 62 of 150\n",
      "building tree 63 of 150\n",
      "building tree 64 of 150\n",
      "building tree 65 of 150\n",
      "building tree 66 of 150\n",
      "building tree 67 of 150\n",
      "building tree 68 of 150\n",
      "building tree 69 of 150\n",
      "building tree 70 of 150\n",
      "building tree 71 of 150\n",
      "building tree 72 of 150\n",
      "building tree 73 of 150\n",
      "building tree 74 of 150\n",
      "building tree 75 of 150\n",
      "building tree 76 of 150\n",
      "building tree 77 of 150\n",
      "building tree 78 of 150\n",
      "building tree 79 of 150\n",
      "building tree 80 of 150\n",
      "building tree 81 of 150\n",
      "building tree 82 of 150\n",
      "building tree 83 of 150\n",
      "building tree 84 of 150\n",
      "building tree 85 of 150\n",
      "building tree 86 of 150\n",
      "building tree 87 of 150\n",
      "building tree 88 of 150\n",
      "building tree 89 of 150\n",
      "building tree 90 of 150\n",
      "building tree 91 of 150\n",
      "building tree 92 of 150\n",
      "building tree 93 of 150\n",
      "building tree 94 of 150\n",
      "building tree 95 of 150\n",
      "building tree 96 of 150\n",
      "building tree 97 of 150\n",
      "building tree 98 of 150\n",
      "building tree 99 of 150\n",
      "building tree 100 of 150\n",
      "building tree 101 of 150\n",
      "building tree 102 of 150\n",
      "building tree 103 of 150\n",
      "building tree 104 of 150\n",
      "building tree 105 of 150\n",
      "building tree 106 of 150\n",
      "building tree 107 of 150\n",
      "building tree 108 of 150\n",
      "building tree 109 of 150\n",
      "building tree 110 of 150\n",
      "building tree 111 of 150\n",
      "building tree 112 of 150\n",
      "building tree 113 of 150\n",
      "building tree 114 of 150\n",
      "building tree 115 of 150\n",
      "building tree 116 of 150\n",
      "building tree 117 of 150\n",
      "building tree 118 of 150\n",
      "building tree 119 of 150\n",
      "building tree 120 of 150\n",
      "building tree 121 of 150\n",
      "building tree 122 of 150\n",
      "building tree 123 of 150\n",
      "building tree 124 of 150\n",
      "building tree 125 of 150\n",
      "building tree 126 of 150\n",
      "building tree 127 of 150\n",
      "building tree 128 of 150\n",
      "building tree 129 of 150\n",
      "building tree 130 of 150\n",
      "building tree 131 of 150\n",
      "building tree 132 of 150\n",
      "building tree 133 of 150\n",
      "building tree 134 of 150\n",
      "building tree 135 of 150\n",
      "building tree 136 of 150\n",
      "building tree 137 of 150\n",
      "building tree 138 of 150\n",
      "building tree 139 of 150\n",
      "building tree 140 of 150\n",
      "building tree 141 of 150\n",
      "building tree 142 of 150\n",
      "building tree 143 of 150\n",
      "building tree 144 of 150\n",
      "building tree 145 of 150\n",
      "building tree 146 of 150\n",
      "building tree 147 of 150\n",
      "building tree 148 of 150\n",
      "building tree 149 of 150\n",
      "building tree 150 of 150\n"
     ]
    },
    {
     "name": "stderr",
     "output_type": "stream",
     "text": [
      "[Parallel(n_jobs=1)]: Done 150 out of 150 | elapsed:    0.7s finished\n",
      "[Parallel(n_jobs=1)]: Using backend SequentialBackend with 1 concurrent workers.\n",
      "[Parallel(n_jobs=1)]: Done   1 out of   1 | elapsed:    0.0s remaining:    0.0s\n",
      "[Parallel(n_jobs=1)]: Done 150 out of 150 | elapsed:    0.0s finished\n"
     ]
    }
   ],
   "source": [
    "rand = RandomForestClassifier(n_estimators=150 , verbose=2)\n",
    "rand.fit(X_train , y_train)\n",
    "y_pred = rand.predict(X_test)"
   ]
  },
  {
   "cell_type": "code",
   "execution_count": 10,
   "id": "116fd235",
   "metadata": {},
   "outputs": [
    {
     "data": {
      "text/plain": [
       "0.845"
      ]
     },
     "execution_count": 10,
     "metadata": {},
     "output_type": "execute_result"
    }
   ],
   "source": [
    "metrics.accuracy_score(y_test , y_pred)"
   ]
  },
  {
   "cell_type": "code",
   "execution_count": null,
   "id": "3600946d",
   "metadata": {},
   "outputs": [],
   "source": []
  }
 ],
 "metadata": {
  "kernelspec": {
   "display_name": "Python 3 (ipykernel)",
   "language": "python",
   "name": "python3"
  },
  "language_info": {
   "codemirror_mode": {
    "name": "ipython",
    "version": 3
   },
   "file_extension": ".py",
   "mimetype": "text/x-python",
   "name": "python",
   "nbconvert_exporter": "python",
   "pygments_lexer": "ipython3",
   "version": "3.11.4"
  }
 },
 "nbformat": 4,
 "nbformat_minor": 5
}
