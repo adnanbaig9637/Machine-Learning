{
 "cells": [
  {
   "cell_type": "markdown",
   "id": "8a103b5f",
   "metadata": {},
   "source": [
    "### Car mileage pridiction\n",
    "* Objective :- Maximize the Mileage\n",
    "* Constraint :- Minimize the consumptions\n",
    "* Data description :-\n",
    "    1. HP :  Horse Power   (Input Variable)\n",
    "    2. MPG :  Miles per Gallon  (Output Variable)\n",
    "    3. VOl : Volume        (Input Variable)\n",
    "    4. SP :  Speed of the car  (Input Variable)\n",
    "    5. WT :  weight of the carburetor of car  (Input Variable)\n",
    "* ML problem type :- Supervised Regression"
   ]
  },
  {
   "cell_type": "markdown",
   "id": "a6a1e64d",
   "metadata": {},
   "source": [
    "#### Importing liabraries"
   ]
  },
  {
   "cell_type": "code",
   "execution_count": 1,
   "id": "59c21d8e",
   "metadata": {},
   "outputs": [],
   "source": [
    "import pandas as pd\n",
    "import numpy as np\n",
    "from sklearn.model_selection import train_test_split\n",
    "from sklearn.linear_model import LinearRegression\n",
    "import warnings\n",
    "warnings.filterwarnings(\"ignore\")"
   ]
  },
  {
   "cell_type": "markdown",
   "id": "27308130",
   "metadata": {},
   "source": [
    "#### Importing Dataset"
   ]
  },
  {
   "cell_type": "code",
   "execution_count": 2,
   "id": "88b0ab80",
   "metadata": {},
   "outputs": [
    {
     "data": {
      "text/html": [
       "<div>\n",
       "<style scoped>\n",
       "    .dataframe tbody tr th:only-of-type {\n",
       "        vertical-align: middle;\n",
       "    }\n",
       "\n",
       "    .dataframe tbody tr th {\n",
       "        vertical-align: top;\n",
       "    }\n",
       "\n",
       "    .dataframe thead th {\n",
       "        text-align: right;\n",
       "    }\n",
       "</style>\n",
       "<table border=\"1\" class=\"dataframe\">\n",
       "  <thead>\n",
       "    <tr style=\"text-align: right;\">\n",
       "      <th></th>\n",
       "      <th>HP</th>\n",
       "      <th>MPG</th>\n",
       "      <th>VOL</th>\n",
       "      <th>SP</th>\n",
       "      <th>WT</th>\n",
       "    </tr>\n",
       "  </thead>\n",
       "  <tbody>\n",
       "    <tr>\n",
       "      <th>0</th>\n",
       "      <td>49</td>\n",
       "      <td>53.700681</td>\n",
       "      <td>89</td>\n",
       "      <td>104.185353</td>\n",
       "      <td>28.762059</td>\n",
       "    </tr>\n",
       "    <tr>\n",
       "      <th>1</th>\n",
       "      <td>55</td>\n",
       "      <td>50.013401</td>\n",
       "      <td>92</td>\n",
       "      <td>105.461264</td>\n",
       "      <td>30.466833</td>\n",
       "    </tr>\n",
       "    <tr>\n",
       "      <th>2</th>\n",
       "      <td>55</td>\n",
       "      <td>50.013401</td>\n",
       "      <td>92</td>\n",
       "      <td>105.461264</td>\n",
       "      <td>30.193597</td>\n",
       "    </tr>\n",
       "    <tr>\n",
       "      <th>3</th>\n",
       "      <td>70</td>\n",
       "      <td>45.696322</td>\n",
       "      <td>92</td>\n",
       "      <td>113.461264</td>\n",
       "      <td>30.632114</td>\n",
       "    </tr>\n",
       "    <tr>\n",
       "      <th>4</th>\n",
       "      <td>53</td>\n",
       "      <td>50.504232</td>\n",
       "      <td>92</td>\n",
       "      <td>104.461264</td>\n",
       "      <td>29.889149</td>\n",
       "    </tr>\n",
       "  </tbody>\n",
       "</table>\n",
       "</div>"
      ],
      "text/plain": [
       "   HP        MPG  VOL          SP         WT\n",
       "0  49  53.700681   89  104.185353  28.762059\n",
       "1  55  50.013401   92  105.461264  30.466833\n",
       "2  55  50.013401   92  105.461264  30.193597\n",
       "3  70  45.696322   92  113.461264  30.632114\n",
       "4  53  50.504232   92  104.461264  29.889149"
      ]
     },
     "execution_count": 2,
     "metadata": {},
     "output_type": "execute_result"
    }
   ],
   "source": [
    "df = pd.read_csv(r\"C:\\Users\\User\\Downloads\\Cars.csv\")\n",
    "df.head()"
   ]
  },
  {
   "cell_type": "markdown",
   "id": "04df7f64",
   "metadata": {},
   "source": [
    "#### Splitting Dataset into INPUT (X) and OUTPUT (y)\n",
    "#### Splitting INPUT and OUTPUT into Train and test"
   ]
  },
  {
   "cell_type": "code",
   "execution_count": 3,
   "id": "64dce8a8",
   "metadata": {},
   "outputs": [],
   "source": [
    "X = df[['HP' , 'VOL', 'SP', 'WT']]\n",
    "y = df[['MPG']]\n",
    "X_train,X_test,y_train,y_test = train_test_split(X,y , train_size = 0.75 , random_state = 42)"
   ]
  },
  {
   "cell_type": "code",
   "execution_count": 4,
   "id": "e3982acf",
   "metadata": {},
   "outputs": [
    {
     "data": {
      "text/html": [
       "<div>\n",
       "<style scoped>\n",
       "    .dataframe tbody tr th:only-of-type {\n",
       "        vertical-align: middle;\n",
       "    }\n",
       "\n",
       "    .dataframe tbody tr th {\n",
       "        vertical-align: top;\n",
       "    }\n",
       "\n",
       "    .dataframe thead th {\n",
       "        text-align: right;\n",
       "    }\n",
       "</style>\n",
       "<table border=\"1\" class=\"dataframe\">\n",
       "  <thead>\n",
       "    <tr style=\"text-align: right;\">\n",
       "      <th></th>\n",
       "      <th>HP</th>\n",
       "      <th>VOL</th>\n",
       "      <th>SP</th>\n",
       "      <th>WT</th>\n",
       "    </tr>\n",
       "  </thead>\n",
       "  <tbody>\n",
       "    <tr>\n",
       "      <th>0</th>\n",
       "      <td>49</td>\n",
       "      <td>89</td>\n",
       "      <td>104.185353</td>\n",
       "      <td>28.762059</td>\n",
       "    </tr>\n",
       "    <tr>\n",
       "      <th>1</th>\n",
       "      <td>55</td>\n",
       "      <td>92</td>\n",
       "      <td>105.461264</td>\n",
       "      <td>30.466833</td>\n",
       "    </tr>\n",
       "    <tr>\n",
       "      <th>2</th>\n",
       "      <td>55</td>\n",
       "      <td>92</td>\n",
       "      <td>105.461264</td>\n",
       "      <td>30.193597</td>\n",
       "    </tr>\n",
       "    <tr>\n",
       "      <th>3</th>\n",
       "      <td>70</td>\n",
       "      <td>92</td>\n",
       "      <td>113.461264</td>\n",
       "      <td>30.632114</td>\n",
       "    </tr>\n",
       "    <tr>\n",
       "      <th>4</th>\n",
       "      <td>53</td>\n",
       "      <td>92</td>\n",
       "      <td>104.461264</td>\n",
       "      <td>29.889149</td>\n",
       "    </tr>\n",
       "  </tbody>\n",
       "</table>\n",
       "</div>"
      ],
      "text/plain": [
       "   HP  VOL          SP         WT\n",
       "0  49   89  104.185353  28.762059\n",
       "1  55   92  105.461264  30.466833\n",
       "2  55   92  105.461264  30.193597\n",
       "3  70   92  113.461264  30.632114\n",
       "4  53   92  104.461264  29.889149"
      ]
     },
     "execution_count": 4,
     "metadata": {},
     "output_type": "execute_result"
    }
   ],
   "source": [
    "X.head()"
   ]
  },
  {
   "cell_type": "code",
   "execution_count": 5,
   "id": "6ee97b16",
   "metadata": {},
   "outputs": [
    {
     "data": {
      "text/html": [
       "<div>\n",
       "<style scoped>\n",
       "    .dataframe tbody tr th:only-of-type {\n",
       "        vertical-align: middle;\n",
       "    }\n",
       "\n",
       "    .dataframe tbody tr th {\n",
       "        vertical-align: top;\n",
       "    }\n",
       "\n",
       "    .dataframe thead th {\n",
       "        text-align: right;\n",
       "    }\n",
       "</style>\n",
       "<table border=\"1\" class=\"dataframe\">\n",
       "  <thead>\n",
       "    <tr style=\"text-align: right;\">\n",
       "      <th></th>\n",
       "      <th>MPG</th>\n",
       "    </tr>\n",
       "  </thead>\n",
       "  <tbody>\n",
       "    <tr>\n",
       "      <th>0</th>\n",
       "      <td>53.700681</td>\n",
       "    </tr>\n",
       "    <tr>\n",
       "      <th>1</th>\n",
       "      <td>50.013401</td>\n",
       "    </tr>\n",
       "    <tr>\n",
       "      <th>2</th>\n",
       "      <td>50.013401</td>\n",
       "    </tr>\n",
       "    <tr>\n",
       "      <th>3</th>\n",
       "      <td>45.696322</td>\n",
       "    </tr>\n",
       "    <tr>\n",
       "      <th>4</th>\n",
       "      <td>50.504232</td>\n",
       "    </tr>\n",
       "  </tbody>\n",
       "</table>\n",
       "</div>"
      ],
      "text/plain": [
       "         MPG\n",
       "0  53.700681\n",
       "1  50.013401\n",
       "2  50.013401\n",
       "3  45.696322\n",
       "4  50.504232"
      ]
     },
     "execution_count": 5,
     "metadata": {},
     "output_type": "execute_result"
    }
   ],
   "source": [
    "y.head()"
   ]
  },
  {
   "cell_type": "markdown",
   "id": "a550465a",
   "metadata": {},
   "source": [
    "#### ML Model Building "
   ]
  },
  {
   "cell_type": "code",
   "execution_count": 6,
   "id": "9f7ea2b4",
   "metadata": {},
   "outputs": [
    {
     "data": {
      "text/plain": [
       "array([[42.48506511]])"
      ]
     },
     "execution_count": 6,
     "metadata": {},
     "output_type": "execute_result"
    }
   ],
   "source": [
    "reg = LinearRegression()\n",
    "reg.fit(X_train, y_train)\n",
    "reg.predict([[67,94,109,35]])"
   ]
  },
  {
   "cell_type": "code",
   "execution_count": 7,
   "id": "ee1b3acd",
   "metadata": {},
   "outputs": [
    {
     "data": {
      "text/plain": [
       "array([19.86673611])"
      ]
     },
     "execution_count": 7,
     "metadata": {},
     "output_type": "execute_result"
    }
   ],
   "source": [
    "reg.intercept_"
   ]
  },
  {
   "cell_type": "code",
   "execution_count": 8,
   "id": "dd57b7fc",
   "metadata": {},
   "outputs": [
    {
     "data": {
      "text/plain": [
       "array([[-0.21342585, -0.46221991,  0.50624127,  0.71960668]])"
      ]
     },
     "execution_count": 8,
     "metadata": {},
     "output_type": "execute_result"
    }
   ],
   "source": [
    "reg.coef_"
   ]
  },
  {
   "cell_type": "markdown",
   "id": "efbaa483",
   "metadata": {},
   "source": [
    "#### ML Model Evaluation\n",
    "#### Linear Regression"
   ]
  },
  {
   "cell_type": "code",
   "execution_count": 9,
   "id": "b8292adc",
   "metadata": {},
   "outputs": [],
   "source": [
    "from sklearn.metrics import mean_squared_error\n",
    "from sklearn.linear_model import LinearRegression"
   ]
  },
  {
   "cell_type": "code",
   "execution_count": 10,
   "id": "b98f0f82",
   "metadata": {},
   "outputs": [
    {
     "data": {
      "text/plain": [
       "26.464146918755517"
      ]
     },
     "execution_count": 10,
     "metadata": {},
     "output_type": "execute_result"
    }
   ],
   "source": [
    "#Mean Squared Error\n",
    "reg = LinearRegression()\n",
    "reg.fit(X_train, y_train)\n",
    "y_pred = reg.predict(X_test)\n",
    "y_pred\n",
    "mean_squared_error(y_pred , y_test)"
   ]
  },
  {
   "cell_type": "code",
   "execution_count": 11,
   "id": "3c63650f",
   "metadata": {},
   "outputs": [
    {
     "data": {
      "text/plain": [
       "5.144331532741209"
      ]
     },
     "execution_count": 11,
     "metadata": {},
     "output_type": "execute_result"
    }
   ],
   "source": [
    "#Root Mean Squared Error\n",
    "reg = LinearRegression()\n",
    "reg.fit(X_train, y_train)\n",
    "y_pred = reg.predict(X_test)\n",
    "y_pred\n",
    "np.sqrt(mean_squared_error(y_pred , y_test))"
   ]
  },
  {
   "cell_type": "markdown",
   "id": "c493e19e",
   "metadata": {},
   "source": [
    "#### KNN"
   ]
  },
  {
   "cell_type": "code",
   "execution_count": 12,
   "id": "23f35726",
   "metadata": {},
   "outputs": [],
   "source": [
    "from sklearn.neighbors import KNeighborsRegressor"
   ]
  },
  {
   "cell_type": "code",
   "execution_count": 13,
   "id": "21f9a3f0",
   "metadata": {},
   "outputs": [
    {
     "data": {
      "text/plain": [
       "7.698138517989916"
      ]
     },
     "execution_count": 13,
     "metadata": {},
     "output_type": "execute_result"
    }
   ],
   "source": [
    "#Mean Squared Error\n",
    "knn = KNeighborsRegressor()\n",
    "knn.fit(X_train , y_train)\n",
    "y_pred = knn.predict(X_test)\n",
    "y_pred\n",
    "mean_squared_error(y_pred , y_test)"
   ]
  },
  {
   "cell_type": "code",
   "execution_count": 14,
   "id": "328deb4e",
   "metadata": {},
   "outputs": [
    {
     "data": {
      "text/plain": [
       "2.7745519490523"
      ]
     },
     "execution_count": 14,
     "metadata": {},
     "output_type": "execute_result"
    }
   ],
   "source": [
    "#Root Mean Squared Error\n",
    "knn = KNeighborsRegressor()\n",
    "knn.fit(X_train , y_train)\n",
    "y_pred = knn.predict(X_test)\n",
    "y_pred\n",
    "np.sqrt(mean_squared_error(y_pred , y_test))"
   ]
  },
  {
   "cell_type": "markdown",
   "id": "513d75a5",
   "metadata": {},
   "source": [
    "#### Decision Tree"
   ]
  },
  {
   "cell_type": "code",
   "execution_count": 15,
   "id": "d9160d3e",
   "metadata": {},
   "outputs": [],
   "source": [
    "from sklearn.tree import DecisionTreeRegressor"
   ]
  },
  {
   "cell_type": "code",
   "execution_count": 16,
   "id": "41a3b74c",
   "metadata": {},
   "outputs": [
    {
     "data": {
      "text/plain": [
       "19.961464045046306"
      ]
     },
     "execution_count": 16,
     "metadata": {},
     "output_type": "execute_result"
    }
   ],
   "source": [
    "#Mean Squared Error\n",
    "dt = DecisionTreeRegressor()\n",
    "dt.fit(X_train , y_train)\n",
    "y_pred = dt.predict(X_test)\n",
    "y_pred\n",
    "mean_squared_error(y_pred , y_test)"
   ]
  },
  {
   "cell_type": "code",
   "execution_count": 17,
   "id": "0f65720e",
   "metadata": {},
   "outputs": [
    {
     "data": {
      "text/plain": [
       "4.527889085462427"
      ]
     },
     "execution_count": 17,
     "metadata": {},
     "output_type": "execute_result"
    }
   ],
   "source": [
    "#Root Mean Squared Error\n",
    "dt = DecisionTreeRegressor()\n",
    "dt.fit(X_train , y_train)\n",
    "y_pred = dt.predict(X_test)\n",
    "y_pred\n",
    "np.sqrt(mean_squared_error(y_pred , y_test))"
   ]
  },
  {
   "cell_type": "markdown",
   "id": "ddd3ff06",
   "metadata": {},
   "source": [
    "#### Random Forest"
   ]
  },
  {
   "cell_type": "code",
   "execution_count": 18,
   "id": "92ae6a31",
   "metadata": {},
   "outputs": [],
   "source": [
    "from sklearn.ensemble import RandomForestRegressor"
   ]
  },
  {
   "cell_type": "code",
   "execution_count": 19,
   "id": "be59e592",
   "metadata": {},
   "outputs": [
    {
     "data": {
      "text/plain": [
       "18.268652295919747"
      ]
     },
     "execution_count": 19,
     "metadata": {},
     "output_type": "execute_result"
    }
   ],
   "source": [
    "#Mean Squared Error\n",
    "rf = RandomForestRegressor()\n",
    "rf.fit(X_train , y_train)\n",
    "y_pred = rf.predict(X_test)\n",
    "y_pred\n",
    "mean_squared_error(y_pred , y_test)"
   ]
  },
  {
   "cell_type": "code",
   "execution_count": 20,
   "id": "9607b1b1",
   "metadata": {},
   "outputs": [
    {
     "data": {
      "text/plain": [
       "4.1300300606482105"
      ]
     },
     "execution_count": 20,
     "metadata": {},
     "output_type": "execute_result"
    }
   ],
   "source": [
    "#Root Mean Squared Error\n",
    "rf = RandomForestRegressor()\n",
    "rf.fit(X_train , y_train)\n",
    "y_pred = rf.predict(X_test)\n",
    "y_pred\n",
    "np.sqrt(mean_squared_error(y_pred , y_test))"
   ]
  },
  {
   "cell_type": "code",
   "execution_count": null,
   "id": "476fe5aa",
   "metadata": {},
   "outputs": [],
   "source": []
  }
 ],
 "metadata": {
  "kernelspec": {
   "display_name": "Python 3 (ipykernel)",
   "language": "python",
   "name": "python3"
  },
  "language_info": {
   "codemirror_mode": {
    "name": "ipython",
    "version": 3
   },
   "file_extension": ".py",
   "mimetype": "text/x-python",
   "name": "python",
   "nbconvert_exporter": "python",
   "pygments_lexer": "ipython3",
   "version": "3.11.4"
  }
 },
 "nbformat": 4,
 "nbformat_minor": 5
}
