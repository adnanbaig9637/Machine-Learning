{
 "cells": [
  {
   "cell_type": "code",
   "execution_count": 1,
   "id": "c3d0077c",
   "metadata": {},
   "outputs": [],
   "source": [
    "import pandas as pd\n",
    "import numpy as np"
   ]
  },
  {
   "cell_type": "code",
   "execution_count": 2,
   "id": "6212c984",
   "metadata": {},
   "outputs": [],
   "source": [
    "df = pd.read_csv(r\"C:\\Users\\User\\Downloads\\credit_risk_dataset.csv\")"
   ]
  },
  {
   "cell_type": "code",
   "execution_count": 3,
   "id": "5e0f1021",
   "metadata": {},
   "outputs": [
    {
     "data": {
      "text/html": [
       "<div>\n",
       "<style scoped>\n",
       "    .dataframe tbody tr th:only-of-type {\n",
       "        vertical-align: middle;\n",
       "    }\n",
       "\n",
       "    .dataframe tbody tr th {\n",
       "        vertical-align: top;\n",
       "    }\n",
       "\n",
       "    .dataframe thead th {\n",
       "        text-align: right;\n",
       "    }\n",
       "</style>\n",
       "<table border=\"1\" class=\"dataframe\">\n",
       "  <thead>\n",
       "    <tr style=\"text-align: right;\">\n",
       "      <th></th>\n",
       "      <th>person_age</th>\n",
       "      <th>person_income</th>\n",
       "      <th>person_home_ownership</th>\n",
       "      <th>person_emp_length</th>\n",
       "      <th>loan_intent</th>\n",
       "      <th>loan_grade</th>\n",
       "      <th>loan_amnt</th>\n",
       "      <th>loan_int_rate</th>\n",
       "      <th>loan_status</th>\n",
       "      <th>loan_percent_income</th>\n",
       "      <th>cb_person_default_on_file</th>\n",
       "      <th>cb_person_cred_hist_length</th>\n",
       "    </tr>\n",
       "  </thead>\n",
       "  <tbody>\n",
       "    <tr>\n",
       "      <th>0</th>\n",
       "      <td>22</td>\n",
       "      <td>59000</td>\n",
       "      <td>RENT</td>\n",
       "      <td>123.0</td>\n",
       "      <td>PERSONAL</td>\n",
       "      <td>D</td>\n",
       "      <td>35000</td>\n",
       "      <td>16.02</td>\n",
       "      <td>1</td>\n",
       "      <td>0.59</td>\n",
       "      <td>Y</td>\n",
       "      <td>3</td>\n",
       "    </tr>\n",
       "    <tr>\n",
       "      <th>1</th>\n",
       "      <td>21</td>\n",
       "      <td>9600</td>\n",
       "      <td>OWN</td>\n",
       "      <td>5.0</td>\n",
       "      <td>EDUCATION</td>\n",
       "      <td>B</td>\n",
       "      <td>1000</td>\n",
       "      <td>11.14</td>\n",
       "      <td>0</td>\n",
       "      <td>0.10</td>\n",
       "      <td>N</td>\n",
       "      <td>2</td>\n",
       "    </tr>\n",
       "    <tr>\n",
       "      <th>2</th>\n",
       "      <td>25</td>\n",
       "      <td>9600</td>\n",
       "      <td>MORTGAGE</td>\n",
       "      <td>1.0</td>\n",
       "      <td>MEDICAL</td>\n",
       "      <td>C</td>\n",
       "      <td>5500</td>\n",
       "      <td>12.87</td>\n",
       "      <td>1</td>\n",
       "      <td>0.57</td>\n",
       "      <td>N</td>\n",
       "      <td>3</td>\n",
       "    </tr>\n",
       "    <tr>\n",
       "      <th>3</th>\n",
       "      <td>23</td>\n",
       "      <td>65500</td>\n",
       "      <td>RENT</td>\n",
       "      <td>4.0</td>\n",
       "      <td>MEDICAL</td>\n",
       "      <td>C</td>\n",
       "      <td>35000</td>\n",
       "      <td>15.23</td>\n",
       "      <td>1</td>\n",
       "      <td>0.53</td>\n",
       "      <td>N</td>\n",
       "      <td>2</td>\n",
       "    </tr>\n",
       "    <tr>\n",
       "      <th>4</th>\n",
       "      <td>24</td>\n",
       "      <td>54400</td>\n",
       "      <td>RENT</td>\n",
       "      <td>8.0</td>\n",
       "      <td>MEDICAL</td>\n",
       "      <td>C</td>\n",
       "      <td>35000</td>\n",
       "      <td>14.27</td>\n",
       "      <td>1</td>\n",
       "      <td>0.55</td>\n",
       "      <td>Y</td>\n",
       "      <td>4</td>\n",
       "    </tr>\n",
       "    <tr>\n",
       "      <th>...</th>\n",
       "      <td>...</td>\n",
       "      <td>...</td>\n",
       "      <td>...</td>\n",
       "      <td>...</td>\n",
       "      <td>...</td>\n",
       "      <td>...</td>\n",
       "      <td>...</td>\n",
       "      <td>...</td>\n",
       "      <td>...</td>\n",
       "      <td>...</td>\n",
       "      <td>...</td>\n",
       "      <td>...</td>\n",
       "    </tr>\n",
       "    <tr>\n",
       "      <th>32576</th>\n",
       "      <td>57</td>\n",
       "      <td>53000</td>\n",
       "      <td>MORTGAGE</td>\n",
       "      <td>1.0</td>\n",
       "      <td>PERSONAL</td>\n",
       "      <td>C</td>\n",
       "      <td>5800</td>\n",
       "      <td>13.16</td>\n",
       "      <td>0</td>\n",
       "      <td>0.11</td>\n",
       "      <td>N</td>\n",
       "      <td>30</td>\n",
       "    </tr>\n",
       "    <tr>\n",
       "      <th>32577</th>\n",
       "      <td>54</td>\n",
       "      <td>120000</td>\n",
       "      <td>MORTGAGE</td>\n",
       "      <td>4.0</td>\n",
       "      <td>PERSONAL</td>\n",
       "      <td>A</td>\n",
       "      <td>17625</td>\n",
       "      <td>7.49</td>\n",
       "      <td>0</td>\n",
       "      <td>0.15</td>\n",
       "      <td>N</td>\n",
       "      <td>19</td>\n",
       "    </tr>\n",
       "    <tr>\n",
       "      <th>32578</th>\n",
       "      <td>65</td>\n",
       "      <td>76000</td>\n",
       "      <td>RENT</td>\n",
       "      <td>3.0</td>\n",
       "      <td>HOMEIMPROVEMENT</td>\n",
       "      <td>B</td>\n",
       "      <td>35000</td>\n",
       "      <td>10.99</td>\n",
       "      <td>1</td>\n",
       "      <td>0.46</td>\n",
       "      <td>N</td>\n",
       "      <td>28</td>\n",
       "    </tr>\n",
       "    <tr>\n",
       "      <th>32579</th>\n",
       "      <td>56</td>\n",
       "      <td>150000</td>\n",
       "      <td>MORTGAGE</td>\n",
       "      <td>5.0</td>\n",
       "      <td>PERSONAL</td>\n",
       "      <td>B</td>\n",
       "      <td>15000</td>\n",
       "      <td>11.48</td>\n",
       "      <td>0</td>\n",
       "      <td>0.10</td>\n",
       "      <td>N</td>\n",
       "      <td>26</td>\n",
       "    </tr>\n",
       "    <tr>\n",
       "      <th>32580</th>\n",
       "      <td>66</td>\n",
       "      <td>42000</td>\n",
       "      <td>RENT</td>\n",
       "      <td>2.0</td>\n",
       "      <td>MEDICAL</td>\n",
       "      <td>B</td>\n",
       "      <td>6475</td>\n",
       "      <td>9.99</td>\n",
       "      <td>0</td>\n",
       "      <td>0.15</td>\n",
       "      <td>N</td>\n",
       "      <td>30</td>\n",
       "    </tr>\n",
       "  </tbody>\n",
       "</table>\n",
       "<p>32581 rows × 12 columns</p>\n",
       "</div>"
      ],
      "text/plain": [
       "       person_age  person_income person_home_ownership  person_emp_length  \\\n",
       "0              22          59000                  RENT              123.0   \n",
       "1              21           9600                   OWN                5.0   \n",
       "2              25           9600              MORTGAGE                1.0   \n",
       "3              23          65500                  RENT                4.0   \n",
       "4              24          54400                  RENT                8.0   \n",
       "...           ...            ...                   ...                ...   \n",
       "32576          57          53000              MORTGAGE                1.0   \n",
       "32577          54         120000              MORTGAGE                4.0   \n",
       "32578          65          76000                  RENT                3.0   \n",
       "32579          56         150000              MORTGAGE                5.0   \n",
       "32580          66          42000                  RENT                2.0   \n",
       "\n",
       "           loan_intent loan_grade  loan_amnt  loan_int_rate  loan_status  \\\n",
       "0             PERSONAL          D      35000          16.02            1   \n",
       "1            EDUCATION          B       1000          11.14            0   \n",
       "2              MEDICAL          C       5500          12.87            1   \n",
       "3              MEDICAL          C      35000          15.23            1   \n",
       "4              MEDICAL          C      35000          14.27            1   \n",
       "...                ...        ...        ...            ...          ...   \n",
       "32576         PERSONAL          C       5800          13.16            0   \n",
       "32577         PERSONAL          A      17625           7.49            0   \n",
       "32578  HOMEIMPROVEMENT          B      35000          10.99            1   \n",
       "32579         PERSONAL          B      15000          11.48            0   \n",
       "32580          MEDICAL          B       6475           9.99            0   \n",
       "\n",
       "       loan_percent_income cb_person_default_on_file  \\\n",
       "0                     0.59                         Y   \n",
       "1                     0.10                         N   \n",
       "2                     0.57                         N   \n",
       "3                     0.53                         N   \n",
       "4                     0.55                         Y   \n",
       "...                    ...                       ...   \n",
       "32576                 0.11                         N   \n",
       "32577                 0.15                         N   \n",
       "32578                 0.46                         N   \n",
       "32579                 0.10                         N   \n",
       "32580                 0.15                         N   \n",
       "\n",
       "       cb_person_cred_hist_length  \n",
       "0                               3  \n",
       "1                               2  \n",
       "2                               3  \n",
       "3                               2  \n",
       "4                               4  \n",
       "...                           ...  \n",
       "32576                          30  \n",
       "32577                          19  \n",
       "32578                          28  \n",
       "32579                          26  \n",
       "32580                          30  \n",
       "\n",
       "[32581 rows x 12 columns]"
      ]
     },
     "execution_count": 3,
     "metadata": {},
     "output_type": "execute_result"
    }
   ],
   "source": [
    "df"
   ]
  },
  {
   "cell_type": "code",
   "execution_count": 4,
   "id": "45576435",
   "metadata": {},
   "outputs": [
    {
     "data": {
      "text/plain": [
       "(32581, 12)"
      ]
     },
     "execution_count": 4,
     "metadata": {},
     "output_type": "execute_result"
    }
   ],
   "source": [
    "df.shape"
   ]
  },
  {
   "cell_type": "code",
   "execution_count": 5,
   "id": "07dd51f1",
   "metadata": {},
   "outputs": [
    {
     "name": "stdout",
     "output_type": "stream",
     "text": [
      "<class 'pandas.core.frame.DataFrame'>\n",
      "RangeIndex: 32581 entries, 0 to 32580\n",
      "Data columns (total 12 columns):\n",
      " #   Column                      Non-Null Count  Dtype  \n",
      "---  ------                      --------------  -----  \n",
      " 0   person_age                  32581 non-null  int64  \n",
      " 1   person_income               32581 non-null  int64  \n",
      " 2   person_home_ownership       32581 non-null  object \n",
      " 3   person_emp_length           31686 non-null  float64\n",
      " 4   loan_intent                 32581 non-null  object \n",
      " 5   loan_grade                  32581 non-null  object \n",
      " 6   loan_amnt                   32581 non-null  int64  \n",
      " 7   loan_int_rate               29465 non-null  float64\n",
      " 8   loan_status                 32581 non-null  int64  \n",
      " 9   loan_percent_income         32581 non-null  float64\n",
      " 10  cb_person_default_on_file   32581 non-null  object \n",
      " 11  cb_person_cred_hist_length  32581 non-null  int64  \n",
      "dtypes: float64(3), int64(5), object(4)\n",
      "memory usage: 3.0+ MB\n"
     ]
    }
   ],
   "source": [
    "df.info()"
   ]
  },
  {
   "cell_type": "code",
   "execution_count": 6,
   "id": "c7615d73",
   "metadata": {},
   "outputs": [
    {
     "data": {
      "text/plain": [
       "person_age                      int64\n",
       "person_income                   int64\n",
       "person_home_ownership          object\n",
       "person_emp_length             float64\n",
       "loan_intent                    object\n",
       "loan_grade                     object\n",
       "loan_amnt                       int64\n",
       "loan_int_rate                 float64\n",
       "loan_status                     int64\n",
       "loan_percent_income           float64\n",
       "cb_person_default_on_file      object\n",
       "cb_person_cred_hist_length      int64\n",
       "dtype: object"
      ]
     },
     "execution_count": 6,
     "metadata": {},
     "output_type": "execute_result"
    }
   ],
   "source": [
    "df.dtypes"
   ]
  },
  {
   "cell_type": "markdown",
   "id": "0707f643",
   "metadata": {},
   "source": [
    "**Duplicates**"
   ]
  },
  {
   "cell_type": "code",
   "execution_count": 7,
   "id": "e3386fa1",
   "metadata": {},
   "outputs": [
    {
     "data": {
      "text/plain": [
       "165"
      ]
     },
     "execution_count": 7,
     "metadata": {},
     "output_type": "execute_result"
    }
   ],
   "source": [
    "df.duplicated().sum()"
   ]
  },
  {
   "cell_type": "code",
   "execution_count": 8,
   "id": "03337b05",
   "metadata": {},
   "outputs": [],
   "source": [
    "df.drop_duplicates(inplace = True)"
   ]
  },
  {
   "cell_type": "code",
   "execution_count": 9,
   "id": "f1c8f8df",
   "metadata": {},
   "outputs": [
    {
     "data": {
      "text/plain": [
       "0"
      ]
     },
     "execution_count": 9,
     "metadata": {},
     "output_type": "execute_result"
    }
   ],
   "source": [
    "df.duplicated().sum()"
   ]
  },
  {
   "cell_type": "markdown",
   "id": "d0a438db",
   "metadata": {},
   "source": [
    "**Missing Values**"
   ]
  },
  {
   "cell_type": "code",
   "execution_count": 10,
   "id": "4b1fa3fd",
   "metadata": {},
   "outputs": [
    {
     "data": {
      "text/plain": [
       "person_age                       0\n",
       "person_income                    0\n",
       "person_home_ownership            0\n",
       "person_emp_length              887\n",
       "loan_intent                      0\n",
       "loan_grade                       0\n",
       "loan_amnt                        0\n",
       "loan_int_rate                 3095\n",
       "loan_status                      0\n",
       "loan_percent_income              0\n",
       "cb_person_default_on_file        0\n",
       "cb_person_cred_hist_length       0\n",
       "dtype: int64"
      ]
     },
     "execution_count": 10,
     "metadata": {},
     "output_type": "execute_result"
    }
   ],
   "source": [
    "df.isna().sum()"
   ]
  },
  {
   "cell_type": "code",
   "execution_count": 11,
   "id": "ffbf98b4",
   "metadata": {},
   "outputs": [
    {
     "data": {
      "text/plain": [
       "(32416, 12)"
      ]
     },
     "execution_count": 11,
     "metadata": {},
     "output_type": "execute_result"
    }
   ],
   "source": [
    "df.shape"
   ]
  },
  {
   "cell_type": "code",
   "execution_count": 12,
   "id": "343e4b97",
   "metadata": {},
   "outputs": [],
   "source": [
    "df['person_emp_length'] = df['person_emp_length'].fillna(df['person_emp_length'].median())\n",
    "df['loan_int_rate'] = df['loan_int_rate'].fillna(df['loan_int_rate'].median())"
   ]
  },
  {
   "cell_type": "code",
   "execution_count": 13,
   "id": "eb55b004",
   "metadata": {},
   "outputs": [
    {
     "data": {
      "text/plain": [
       "person_age                    0\n",
       "person_income                 0\n",
       "person_home_ownership         0\n",
       "person_emp_length             0\n",
       "loan_intent                   0\n",
       "loan_grade                    0\n",
       "loan_amnt                     0\n",
       "loan_int_rate                 0\n",
       "loan_status                   0\n",
       "loan_percent_income           0\n",
       "cb_person_default_on_file     0\n",
       "cb_person_cred_hist_length    0\n",
       "dtype: int64"
      ]
     },
     "execution_count": 13,
     "metadata": {},
     "output_type": "execute_result"
    }
   ],
   "source": [
    "df.isna().sum()"
   ]
  },
  {
   "cell_type": "markdown",
   "id": "731e22e0",
   "metadata": {},
   "source": [
    "**Structural Error**"
   ]
  },
  {
   "cell_type": "code",
   "execution_count": 14,
   "id": "c82e26ae",
   "metadata": {},
   "outputs": [
    {
     "name": "stdout",
     "output_type": "stream",
     "text": [
      "person_age [ 22  21  25  23  24  26 144 123  20  32  34  29  33  28  35  31  27  30\n",
      "  36  40  50  45  37  39  44  43  41  46  38  47  42  48  49  58  65  51\n",
      "  53  66  61  54  57  59  62  60  55  52  64  70  78  69  56  73  63  94\n",
      "  80  84  76  67]\n",
      "person_income [  59000    9600   65500 ...  720000 1900000    4888]\n",
      "person_home_ownership ['RENT' 'OWN' 'MORTGAGE' 'OTHER']\n",
      "person_emp_length [123.   5.   1.   4.   8.   2.   6.   7.   0.   9.   3.  10.  11.  18.\n",
      "  12.  17.  14.  16.  13.  19.  15.  20.  22.  21.  24.  23.  26.  25.\n",
      "  27.  28.  31.  41.  34.  29.  38.  30.]\n",
      "loan_intent ['PERSONAL' 'EDUCATION' 'MEDICAL' 'VENTURE' 'HOMEIMPROVEMENT'\n",
      " 'DEBTCONSOLIDATION']\n",
      "loan_grade ['D' 'B' 'C' 'A' 'E' 'F' 'G']\n",
      "loan_amnt [35000  1000  5500  2500  1600  4500 30000  1750 34800 34000  1500 33950\n",
      " 33000  4575  1400 32500  4000  2000 32000 31050 24250  7800 20000 10000\n",
      " 25000 18000 12000 29100 28000  9600  3000  6100  4200  4750  4800  2700\n",
      " 27600  3250 27500 27050 27000 26000 25600 25475 21600 11900 25300  3650\n",
      "  6000  2400  3600  7500  4950 21000 16000 22000  7750 24000 15000 15500\n",
      "  9000 23050  5375  6250  5000  2100 14000  6200  9950  4475  2600  8000\n",
      "  4600  3500  7200  8800  3175  2800 13000  1800  3300  3200  2275  5600\n",
      "  3625  4375 24750 24500  3900 13750 15250 24150  2250  4975  4900 23975\n",
      " 23750 23600 23575  5400  3375 23400 23000  1200 22750 22500 22400 22250\n",
      "  7400 21700  7000 21500 21450 21250  9250 20900 20500 20400 20375 20050\n",
      "  6400  5650 16600  7125  3550  1275  3800  1625  8500  7575  5200  4025\n",
      "  4400  3825  6500  5875  1550  7350  6700  8300 10625 19900 19800   500\n",
      "   700   750 19000 18950 18800 18750 18725 18550  7100 18500 18400 18250\n",
      "  1300  5800 18225 18200  1375 17950 17800 17750 17700  3975 17625 17600\n",
      " 17500 17475 17400 17200 17000 16950 16875 16800 16750 16700 16525 16500\n",
      " 11500 16425 16400 16300 16250 16075 16050 11100  1525 10800  7850 11325\n",
      " 14500  5975  1075  1100  1150  3025  9475  1325  2750  1350  3725  1925\n",
      "  5175  6300  8400  1450  9800  1475 14125 12300  9500  5225 12200 10750\n",
      "  1675  1700  8875  5150  1775  6075  1825  1850  1875  1900  1950 11000\n",
      " 14950 14900  7600 14850 14800 13250  5125  2050  2125  2150  3075  2200\n",
      "  2225  2300  2350  6600  6950  2425  2450 13600 13500  9200 13475 13450\n",
      " 13400 13350 13300 13275 13225 13200 13100 13050 12250  7550 11200  1050\n",
      " 11225  8250 11050  2850  2875  2900  2925  2975 12500 10150  8325  1250\n",
      " 12375  8125  6425  9750 14400  5100 10950  6800  9450 22550  6900  8575\n",
      "  3050  3100  3125  3150  7775 13650  2950 12800   800  3325  3350  3400\n",
      "  3450  5775  8700 11625 11300  5250  7275 14775  5300  6725  3525  3575\n",
      " 15800 14600  6350 10900 10875 12400 10775 10700 10600 10500 10450 10400\n",
      " 10375 10325 10300 10250 10200  3700  3750  3850  3950  5550  7675  5700\n",
      "  5325  9875  4350  4450  4300 10850  8100  4550  4650  4700  4725 13025\n",
      "  2525 15450  6625 17050  7975  9700  8200  4850 19200 13975  8675  9350\n",
      "  9975  9100  9900 14750  7050  5750 15075 12600 15600 22800  6650 13800\n",
      "  8475 18900 14300  8975  8950  8900  8850  8650 14550  4150  9050  4075\n",
      " 14650  8450  9125  4325  5950  9925  7375 11700  9225 10075  5275 23500\n",
      "  8600  5425  5450 12725 13850  5525  5575  5625  5675  5825  5850  5900\n",
      "  5925  2550 15750 19500 10525 18650 13700  9825  9175  7075  7025 11400\n",
      "  8375  6025  6150 15825  6225 15200 14100  2650  6975  6325  6375 19750\n",
      "  2625  6550  6575  5025  6850  6750  6775  6475  6450  6825  6875  6925\n",
      "  8525  3775 24200 11075  7150  7175  4225  7875 21825  7250  7300 19125\n",
      "  7325  7475 17300  9575 12875 11425 19725   900 17450 14075 12275 31300\n",
      "  7525 15700 11600 14825  7650  7700  7900  7925  7950 13375 25850 21200\n",
      " 23275 10425 15850  6125  5075  5050 12900  9525 29800 21650  8050  8075\n",
      " 23525  8150  8350 27250  2475  8550  8625  8725  8750  8775  7425  9150\n",
      "  9300  9325  9375  9400  9425  9550 29000 12150 19600 26400 15900  4275\n",
      "  4250 13950  7450  4125  4100  4050 11875 18300 31825 11125 16100 29700\n",
      "  6675 15350 10675 10025 10100 10125  3425 14200 11250 17825 11525 11550\n",
      " 11575 11650 11750 11775 11800 11850 11975 25975 14625  8825 27525 19075\n",
      " 14700 18600  2825  4925 21400  1125 20675 16200 12475 18150 12100 12125\n",
      " 13675 12450  2775  2725  2675  4175 12950 12700 12750 24175 10925 13625\n",
      " 13900 25200 12975 14350  3275 14275 20600 23800 29175 21850  9850 14525\n",
      " 14575 27300 12075 17325  9625 19950  4525 22600 19400 20800 15125 12225\n",
      " 15400 18325 15550 15625 15650 15675 23450 10575 19425 19550 19650  2375\n",
      "  2325 31000 30750 29550 28800 14725 22200 24625 23850 23475 22950 22650\n",
      " 21725 20200  2075  5725 19975 19850 19775   725   950 18825 17975 17900\n",
      " 17725 17250 16775 16450 14975 13575 13425 13150 13075 10225  3925  5350\n",
      " 10725 10550 10275  3675 12775  9775  1425 14675  4625  4425  4675 12650\n",
      "  4875  1225 17350  9275 10825 10175 15150  5475 17375 10650  8275 15025\n",
      "  9725  6525 15875 10475 27575 10975 12625  8025  7225 10050  4775 20475\n",
      "  7725  8225 23200 16725 21100 22100  7625 25500 20150 18050 23700 19700\n",
      " 15275 11175 11350 11450 11475 19150 19450  9075 21125 24800 24400 12325\n",
      " 12350  2575 12025 14150 17875 11025 14475 26375 13125 27400 14050 28250\n",
      " 15975 33250  6275 22350 24100 15050 17525 15175 23100 11275 13175 19925\n",
      " 32400 30600 31400 27175 24375  8175 23325 18125  3225 26800 17925 14250\n",
      " 12925 13775 17850 20700 11375 15575 15775 19275 29850]\n",
      "loan_int_rate [16.02 11.14 12.87 15.23 14.27  7.14 12.42 11.11  8.9  14.74 10.37  8.63\n",
      "  7.9  18.39 10.65 20.25 18.25 10.99  7.49 16.77 17.58  7.29 14.54 12.68\n",
      " 17.74  9.32  9.99 12.84 11.12  6.62 14.17 13.85 13.49  7.51 16.89 17.99\n",
      " 12.69  7.88 19.41 10.38 15.33 16.45 18.62 15.96 11.48  5.99 11.58 15.7\n",
      " 15.99 14.84 14.42  6.99 13.61  9.91 13.48 12.98 13.57 15.68 13.06 15.62\n",
      " 11.71  8.88 12.18 13.99  5.42 12.73 11.49 19.91 11.83 14.59  9.64 16.35\n",
      " 18.67 10.08 10.36 12.23 16.07 14.22 14.79 13.22 11.86 13.43 15.28 17.93\n",
      "  9.25 10.62 18.43 11.36 15.65 13.04 17.04 14.83 14.65 16.82 10.25 14.96\n",
      " 11.99  8.49  6.17 16.32 14.35 15.21 14.09 17.49 13.92 16.49  5.79 13.11\n",
      "  6.54 12.53 15.95 10.74 15.27 14.72 13.35  7.68 14.46 13.47  6.03 12.92\n",
      " 18.64 16.7  18.3   9.63 14.7  15.37 14.26  8.   11.26 19.04 13.98 15.58\n",
      " 15.31  9.33 11.91  8.38 10.59 16.   11.54 12.61 17.27 15.05 10.75  6.39\n",
      " 18.09 19.74  6.91 14.93 17.14 11.03  8.94 11.46  7.66 17.56 10.39 16.29\n",
      " 17.8  19.69 15.83 20.03 20.16 13.79 11.89 14.5  11.34  9.62  9.96 18.99\n",
      " 14.11 17.19  7.4  17.51 14.61 21.21 14.91 17.26 10.71 10.   16.95 11.97\n",
      " 12.99 13.16  9.76 11.22 16.69 12.21  7.74 11.78 11.66 19.79  9.88 13.87\n",
      " 17.39 12.29 10.83 15.2  14.82 14.88 13.36  6.76 13.23  9.45 10.96 13.72\n",
      " 12.36 11.41 14.3  10.91 16.63  6.92 10.95  8.7  12.67 12.41 20.11 14.18\n",
      " 12.8  13.24 12.09 17.15 19.47  7.91 10.46  7.37 11.28  8.59 19.03 15.57\n",
      "  8.32 10.14 19.29 11.63 12.72 13.8   7.12 13.3  16.59 21.27  8.07  9.67\n",
      " 11.72 12.22 13.75  9.38 10.2  16.4  10.33 12.54 21.74  7.43  9.07  6.\n",
      "  9.7  10.01  7.05 10.28 20.3  13.67  7.42 19.42 21.36 12.17  9.83 18.79\n",
      " 14.38  7.75 14.75 10.51 13.12 17.88  9.2  11.59 17.43 13.93 15.76 18.21\n",
      " 13.55 15.13  9.01 16.08 16.11 14.12 12.86 19.39 13.17 15.45 22.11 12.62\n",
      " 19.13 12.49 16.2  18.84 16.33 19.82 20.89 10.78 15.88 19.16 20.62 20.2\n",
      "  9.51 14.67 12.12 12.04 15.07 17.06 13.62 20.48 18.53 17.9  11.09 13.84\n",
      " 18.78 15.01 18.07 17.03 21.14 17.46 20.99 21.64 18.36 20.17 18.17 22.06\n",
      " 17.54 17.44 18.49 20.86 20.52 15.25 18.72 20.9  16.96 15.38 17.34 14.62\n",
      " 14.25 14.07 10.64 22.48 19.66 23.22 20.4  16.71 18.54 20.69 16.15 20.53]\n",
      "loan_status [1 0]\n",
      "loan_percent_income [0.59 0.1  0.57 0.53 0.55 0.25 0.45 0.44 0.42 0.16 0.41 0.37 0.32 0.3\n",
      " 0.06 0.29 0.31 0.22 0.52 0.14 0.49 0.13 0.5  0.35 0.17 0.27 0.33 0.08\n",
      " 0.03 0.21 0.63 0.47 0.4  0.07 0.38 0.34 0.04 0.23 0.15 0.11 0.43 0.51\n",
      " 0.02 0.28 0.26 0.19 0.39 0.09 0.05 0.61 0.18 0.6  0.01 0.48 0.12 0.54\n",
      " 0.56 0.46 0.36 0.24 0.2  0.72 0.64 0.69 0.77 0.83 0.65 0.67 0.58 0.71\n",
      " 0.68 0.7  0.66 0.   0.76 0.62 0.78]\n",
      "cb_person_default_on_file ['Y' 'N']\n",
      "cb_person_cred_hist_length [ 3  2  4  8  7  6  9 10  5 11 16 15 12 13 17 14 25 28 27 22 19 29 23 26\n",
      " 20 21 30 24 18]\n"
     ]
    }
   ],
   "source": [
    "for i in df.columns:\n",
    "    print(i , df[i].unique())"
   ]
  },
  {
   "cell_type": "markdown",
   "id": "a6464df6",
   "metadata": {},
   "source": [
    "**Outliers**"
   ]
  },
  {
   "cell_type": "code",
   "execution_count": 15,
   "id": "1eca5f95",
   "metadata": {},
   "outputs": [],
   "source": [
    "df_cat = df.select_dtypes(exclude=['int' , 'float'])"
   ]
  },
  {
   "cell_type": "code",
   "execution_count": 16,
   "id": "64e36a1f",
   "metadata": {},
   "outputs": [],
   "source": [
    "df_numeric = df.select_dtypes(include=['int' , 'float'])"
   ]
  },
  {
   "cell_type": "code",
   "execution_count": 17,
   "id": "46394ac9",
   "metadata": {},
   "outputs": [
    {
     "data": {
      "text/plain": [
       "person_age                       Axes(0.125,0.712609;0.352273x0.167391)\n",
       "person_income                 Axes(0.547727,0.712609;0.352273x0.167391)\n",
       "person_emp_length                Axes(0.125,0.511739;0.352273x0.167391)\n",
       "loan_amnt                     Axes(0.547727,0.511739;0.352273x0.167391)\n",
       "loan_int_rate                     Axes(0.125,0.31087;0.352273x0.167391)\n",
       "loan_status                    Axes(0.547727,0.31087;0.352273x0.167391)\n",
       "loan_percent_income                  Axes(0.125,0.11;0.352273x0.167391)\n",
       "cb_person_cred_hist_length        Axes(0.547727,0.11;0.352273x0.167391)\n",
       "dtype: object"
      ]
     },
     "execution_count": 17,
     "metadata": {},
     "output_type": "execute_result"
    },
    {
     "data": {
      "image/png": "[encoded data removed]",
      "text/plain": [
       "<Figure size 1000x1500 with 8 Axes>"
      ]
     },
     "metadata": {},
     "output_type": "display_data"
    }
   ],
   "source": [
    "df_numeric.plot(kind='box' , subplots=True , layout=(4,2) , figsize = (10,15) )"
   ]
  },
  {
   "cell_type": "code",
   "execution_count": 18,
   "id": "f1fc8842",
   "metadata": {},
   "outputs": [],
   "source": [
    "from feature_engine.outliers import Winsorizer"
   ]
  },
  {
   "cell_type": "code",
   "execution_count": 19,
   "id": "a305d35b",
   "metadata": {},
   "outputs": [],
   "source": [
    "wins = Winsorizer(capping_method='quantiles' , tail='both' , fold = 3)\n",
    "wins.fit(df_numeric)\n",
    "numeric_df = wins.transform(df_numeric)"
   ]
  },
  {
   "cell_type": "code",
   "execution_count": 20,
   "id": "09f5c3af",
   "metadata": {},
   "outputs": [
    {
     "data": {
      "text/plain": [
       "person_age                       Axes(0.125,0.712609;0.352273x0.167391)\n",
       "person_income                 Axes(0.547727,0.712609;0.352273x0.167391)\n",
       "person_emp_length                Axes(0.125,0.511739;0.352273x0.167391)\n",
       "loan_amnt                     Axes(0.547727,0.511739;0.352273x0.167391)\n",
       "loan_int_rate                     Axes(0.125,0.31087;0.352273x0.167391)\n",
       "loan_status                    Axes(0.547727,0.31087;0.352273x0.167391)\n",
       "loan_percent_income                  Axes(0.125,0.11;0.352273x0.167391)\n",
       "cb_person_cred_hist_length        Axes(0.547727,0.11;0.352273x0.167391)\n",
       "dtype: object"
      ]
     },
     "execution_count": 20,
     "metadata": {},
     "output_type": "execute_result"
    },
    {
     "data": {
      "image/png": "[encoded data removed]",
      "text/plain": [
       "<Figure size 1000x1500 with 8 Axes>"
      ]
     },
     "metadata": {},
     "output_type": "display_data"
    }
   ],
   "source": [
    "numeric_df.plot(kind='box' , subplots=True , layout=(4,2) , figsize=(10,15))"
   ]
  },
  {
   "cell_type": "code",
   "execution_count": 21,
   "id": "1034c9f3",
   "metadata": {},
   "outputs": [],
   "source": [
    "df['loan_status'] = df['loan_status'].astype('object')"
   ]
  },
  {
   "cell_type": "code",
   "execution_count": 22,
   "id": "d66a9c92",
   "metadata": {},
   "outputs": [],
   "source": [
    "numeric_df['loan_status'].replace(0 , \"No\" , inplace=True)\n",
    "numeric_df['loan_status'].replace(1 , \"Yes\" , inplace=True)"
   ]
  },
  {
   "cell_type": "code",
   "execution_count": 23,
   "id": "9789687d",
   "metadata": {},
   "outputs": [],
   "source": [
    "df = pd.concat([numeric_df , df_cat] , axis = 1)"
   ]
  },
  {
   "cell_type": "code",
   "execution_count": 24,
   "id": "588d53e5",
   "metadata": {},
   "outputs": [
    {
     "data": {
      "text/html": [
       "<div>\n",
       "<style scoped>\n",
       "    .dataframe tbody tr th:only-of-type {\n",
       "        vertical-align: middle;\n",
       "    }\n",
       "\n",
       "    .dataframe tbody tr th {\n",
       "        vertical-align: top;\n",
       "    }\n",
       "\n",
       "    .dataframe thead th {\n",
       "        text-align: right;\n",
       "    }\n",
       "</style>\n",
       "<table border=\"1\" class=\"dataframe\">\n",
       "  <thead>\n",
       "    <tr style=\"text-align: right;\">\n",
       "      <th></th>\n",
       "      <th>person_age</th>\n",
       "      <th>person_income</th>\n",
       "      <th>person_emp_length</th>\n",
       "      <th>loan_amnt</th>\n",
       "      <th>loan_int_rate</th>\n",
       "      <th>loan_status</th>\n",
       "      <th>loan_percent_income</th>\n",
       "      <th>cb_person_cred_hist_length</th>\n",
       "      <th>person_home_ownership</th>\n",
       "      <th>loan_intent</th>\n",
       "      <th>loan_grade</th>\n",
       "      <th>cb_person_default_on_file</th>\n",
       "    </tr>\n",
       "  </thead>\n",
       "  <tbody>\n",
       "    <tr>\n",
       "      <th>0</th>\n",
       "      <td>22</td>\n",
       "      <td>59000</td>\n",
       "      <td>12.0</td>\n",
       "      <td>24000</td>\n",
       "      <td>16.02</td>\n",
       "      <td>Yes</td>\n",
       "      <td>0.38</td>\n",
       "      <td>3</td>\n",
       "      <td>RENT</td>\n",
       "      <td>PERSONAL</td>\n",
       "      <td>D</td>\n",
       "      <td>Y</td>\n",
       "    </tr>\n",
       "    <tr>\n",
       "      <th>1</th>\n",
       "      <td>22</td>\n",
       "      <td>22932</td>\n",
       "      <td>5.0</td>\n",
       "      <td>2000</td>\n",
       "      <td>11.14</td>\n",
       "      <td>No</td>\n",
       "      <td>0.10</td>\n",
       "      <td>2</td>\n",
       "      <td>OWN</td>\n",
       "      <td>EDUCATION</td>\n",
       "      <td>B</td>\n",
       "      <td>N</td>\n",
       "    </tr>\n",
       "    <tr>\n",
       "      <th>2</th>\n",
       "      <td>25</td>\n",
       "      <td>22932</td>\n",
       "      <td>1.0</td>\n",
       "      <td>5500</td>\n",
       "      <td>12.87</td>\n",
       "      <td>Yes</td>\n",
       "      <td>0.38</td>\n",
       "      <td>3</td>\n",
       "      <td>MORTGAGE</td>\n",
       "      <td>MEDICAL</td>\n",
       "      <td>C</td>\n",
       "      <td>N</td>\n",
       "    </tr>\n",
       "    <tr>\n",
       "      <th>3</th>\n",
       "      <td>23</td>\n",
       "      <td>65500</td>\n",
       "      <td>4.0</td>\n",
       "      <td>24000</td>\n",
       "      <td>15.23</td>\n",
       "      <td>Yes</td>\n",
       "      <td>0.38</td>\n",
       "      <td>2</td>\n",
       "      <td>RENT</td>\n",
       "      <td>MEDICAL</td>\n",
       "      <td>C</td>\n",
       "      <td>N</td>\n",
       "    </tr>\n",
       "    <tr>\n",
       "      <th>4</th>\n",
       "      <td>24</td>\n",
       "      <td>54400</td>\n",
       "      <td>8.0</td>\n",
       "      <td>24000</td>\n",
       "      <td>14.27</td>\n",
       "      <td>Yes</td>\n",
       "      <td>0.38</td>\n",
       "      <td>4</td>\n",
       "      <td>RENT</td>\n",
       "      <td>MEDICAL</td>\n",
       "      <td>C</td>\n",
       "      <td>Y</td>\n",
       "    </tr>\n",
       "    <tr>\n",
       "      <th>...</th>\n",
       "      <td>...</td>\n",
       "      <td>...</td>\n",
       "      <td>...</td>\n",
       "      <td>...</td>\n",
       "      <td>...</td>\n",
       "      <td>...</td>\n",
       "      <td>...</td>\n",
       "      <td>...</td>\n",
       "      <td>...</td>\n",
       "      <td>...</td>\n",
       "      <td>...</td>\n",
       "      <td>...</td>\n",
       "    </tr>\n",
       "    <tr>\n",
       "      <th>32576</th>\n",
       "      <td>40</td>\n",
       "      <td>53000</td>\n",
       "      <td>1.0</td>\n",
       "      <td>5800</td>\n",
       "      <td>13.16</td>\n",
       "      <td>No</td>\n",
       "      <td>0.11</td>\n",
       "      <td>14</td>\n",
       "      <td>MORTGAGE</td>\n",
       "      <td>PERSONAL</td>\n",
       "      <td>C</td>\n",
       "      <td>N</td>\n",
       "    </tr>\n",
       "    <tr>\n",
       "      <th>32577</th>\n",
       "      <td>40</td>\n",
       "      <td>120000</td>\n",
       "      <td>4.0</td>\n",
       "      <td>17625</td>\n",
       "      <td>7.49</td>\n",
       "      <td>No</td>\n",
       "      <td>0.15</td>\n",
       "      <td>14</td>\n",
       "      <td>MORTGAGE</td>\n",
       "      <td>PERSONAL</td>\n",
       "      <td>A</td>\n",
       "      <td>N</td>\n",
       "    </tr>\n",
       "    <tr>\n",
       "      <th>32578</th>\n",
       "      <td>40</td>\n",
       "      <td>76000</td>\n",
       "      <td>3.0</td>\n",
       "      <td>24000</td>\n",
       "      <td>10.99</td>\n",
       "      <td>Yes</td>\n",
       "      <td>0.38</td>\n",
       "      <td>14</td>\n",
       "      <td>RENT</td>\n",
       "      <td>HOMEIMPROVEMENT</td>\n",
       "      <td>B</td>\n",
       "      <td>N</td>\n",
       "    </tr>\n",
       "    <tr>\n",
       "      <th>32579</th>\n",
       "      <td>40</td>\n",
       "      <td>138000</td>\n",
       "      <td>5.0</td>\n",
       "      <td>15000</td>\n",
       "      <td>11.48</td>\n",
       "      <td>No</td>\n",
       "      <td>0.10</td>\n",
       "      <td>14</td>\n",
       "      <td>MORTGAGE</td>\n",
       "      <td>PERSONAL</td>\n",
       "      <td>B</td>\n",
       "      <td>N</td>\n",
       "    </tr>\n",
       "    <tr>\n",
       "      <th>32580</th>\n",
       "      <td>40</td>\n",
       "      <td>42000</td>\n",
       "      <td>2.0</td>\n",
       "      <td>6475</td>\n",
       "      <td>9.99</td>\n",
       "      <td>No</td>\n",
       "      <td>0.15</td>\n",
       "      <td>14</td>\n",
       "      <td>RENT</td>\n",
       "      <td>MEDICAL</td>\n",
       "      <td>B</td>\n",
       "      <td>N</td>\n",
       "    </tr>\n",
       "  </tbody>\n",
       "</table>\n",
       "<p>32416 rows × 12 columns</p>\n",
       "</div>"
      ],
      "text/plain": [
       "       person_age  person_income  person_emp_length  loan_amnt  loan_int_rate  \\\n",
       "0              22          59000               12.0      24000          16.02   \n",
       "1              22          22932                5.0       2000          11.14   \n",
       "2              25          22932                1.0       5500          12.87   \n",
       "3              23          65500                4.0      24000          15.23   \n",
       "4              24          54400                8.0      24000          14.27   \n",
       "...           ...            ...                ...        ...            ...   \n",
       "32576          40          53000                1.0       5800          13.16   \n",
       "32577          40         120000                4.0      17625           7.49   \n",
       "32578          40          76000                3.0      24000          10.99   \n",
       "32579          40         138000                5.0      15000          11.48   \n",
       "32580          40          42000                2.0       6475           9.99   \n",
       "\n",
       "      loan_status  loan_percent_income  cb_person_cred_hist_length  \\\n",
       "0             Yes                 0.38                           3   \n",
       "1              No                 0.10                           2   \n",
       "2             Yes                 0.38                           3   \n",
       "3             Yes                 0.38                           2   \n",
       "4             Yes                 0.38                           4   \n",
       "...           ...                  ...                         ...   \n",
       "32576          No                 0.11                          14   \n",
       "32577          No                 0.15                          14   \n",
       "32578         Yes                 0.38                          14   \n",
       "32579          No                 0.10                          14   \n",
       "32580          No                 0.15                          14   \n",
       "\n",
       "      person_home_ownership      loan_intent loan_grade  \\\n",
       "0                      RENT         PERSONAL          D   \n",
       "1                       OWN        EDUCATION          B   \n",
       "2                  MORTGAGE          MEDICAL          C   \n",
       "3                      RENT          MEDICAL          C   \n",
       "4                      RENT          MEDICAL          C   \n",
       "...                     ...              ...        ...   \n",
       "32576              MORTGAGE         PERSONAL          C   \n",
       "32577              MORTGAGE         PERSONAL          A   \n",
       "32578                  RENT  HOMEIMPROVEMENT          B   \n",
       "32579              MORTGAGE         PERSONAL          B   \n",
       "32580                  RENT          MEDICAL          B   \n",
       "\n",
       "      cb_person_default_on_file  \n",
       "0                             Y  \n",
       "1                             N  \n",
       "2                             N  \n",
       "3                             N  \n",
       "4                             Y  \n",
       "...                         ...  \n",
       "32576                         N  \n",
       "32577                         N  \n",
       "32578                         N  \n",
       "32579                         N  \n",
       "32580                         N  \n",
       "\n",
       "[32416 rows x 12 columns]"
      ]
     },
     "execution_count": 24,
     "metadata": {},
     "output_type": "execute_result"
    }
   ],
   "source": [
    "df"
   ]
  },
  {
   "cell_type": "markdown",
   "id": "33ed70fb",
   "metadata": {},
   "source": [
    "**Univariate Analysis**"
   ]
  },
  {
   "cell_type": "code",
   "execution_count": 28,
   "id": "781f020c",
   "metadata": {},
   "outputs": [],
   "source": [
    "import matplotlib.pyplot as plt"
   ]
  },
  {
   "cell_type": "code",
   "execution_count": null,
   "id": "c8e03ad5",
   "metadata": {},
   "outputs": [],
   "source": []
  },
  {
   "cell_type": "code",
   "execution_count": null,
   "id": "200465c3",
   "metadata": {},
   "outputs": [],
   "source": []
  }
 ],
 "metadata": {
  "kernelspec": {
   "display_name": "Python 3 (ipykernel)",
   "language": "python",
   "name": "python3"
  },
  "language_info": {
   "codemirror_mode": {
    "name": "ipython",
    "version": 3
   },
   "file_extension": ".py",
   "mimetype": "text/x-python",
   "name": "python",
   "nbconvert_exporter": "python",
   "pygments_lexer": "ipython3",
   "version": "3.11.4"
  }
 },
 "nbformat": 4,
 "nbformat_minor": 5
}
