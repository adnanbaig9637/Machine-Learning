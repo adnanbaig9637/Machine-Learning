{
 "cells": [
  {
   "cell_type": "markdown",
   "id": "0e374b43",
   "metadata": {},
   "source": [
    "### Textual Data Preprocessing"
   ]
  },
  {
   "cell_type": "code",
   "execution_count": 1,
   "id": "a20bdea0",
   "metadata": {},
   "outputs": [],
   "source": [
    "import re\n",
    "import autocorrect\n",
    "from nltk.corpus import stopwords\n",
    "from nltk.tokenize import word_tokenize, sent_tokenize\n",
    "import textblob\n",
    "import emoji\n",
    "from textblob import TextBlob\n",
    "from nltk.stem import PorterStemmer , WordNetLemmatizer"
   ]
  },
  {
   "cell_type": "code",
   "execution_count": 16,
   "id": "3caa2989",
   "metadata": {},
   "outputs": [],
   "source": [
    "file  = open(r\"C:\\Users\\User\\Downloads\\text (1).txt\" , encoding = 'utf8')"
   ]
  },
  {
   "cell_type": "markdown",
   "id": "d246e51d",
   "metadata": {},
   "source": [
    "#### 1. Emoji Prediction"
   ]
  },
  {
   "cell_type": "code",
   "execution_count": 3,
   "id": "c92f56bb",
   "metadata": {},
   "outputs": [
    {
     "data": {
      "text/plain": [
       "\"👭 Once upon a tim in Harmonyville, childhood friends Lily and Jake drifted apart, but a trip down memory lane throuh old photos brought them back together.However the wants to meet using www.friendhsip.com. 📷 Nostalgia struck, promting Lily to reach out, and they decided to reunite at their favorite cafe. ☕️ Amidst shared laughter and stories, it became evident that their bond was as stong as ever. 🌟 Inspired, they planed a spontaneous weekend getaway to rekindle their past adventures. 🔥 By the mountain cabin's fireplace, they realized that some friendships, like fine wine, only get better with time.\""
      ]
     },
     "execution_count": 3,
     "metadata": {},
     "output_type": "execute_result"
    }
   ],
   "source": [
    "file = file.read()\n",
    "file"
   ]
  },
  {
   "cell_type": "code",
   "execution_count": 4,
   "id": "bc519740",
   "metadata": {},
   "outputs": [
    {
     "data": {
      "text/plain": [
       "\"women_holding_hands Once upon a tim in Harmonyville, childhood friends Lily and Jake drifted apart, but a trip down memory lane throuh old photos brought them back together.However the wants to meet using www.friendhsip.com. camera Nostalgia struck, promting Lily to reach out, and they decided to reunite at their favorite cafe. hot_beverage Amidst shared laughter and stories, it became evident that their bond was as stong as ever. glowing_star Inspired, they planed a spontaneous weekend getaway to rekindle their past adventures. fire By the mountain cabin's fireplace, they realized that some friendships, like fine wine, only get better with time.\""
      ]
     },
     "execution_count": 4,
     "metadata": {},
     "output_type": "execute_result"
    }
   ],
   "source": [
    "files = emoji.demojize(file).replace(\":\",\"\")\n",
    "files"
   ]
  },
  {
   "cell_type": "markdown",
   "id": "bc652cd8",
   "metadata": {},
   "source": [
    "#### 2. Spelling Correction"
   ]
  },
  {
   "cell_type": "code",
   "execution_count": 5,
   "id": "f79aad49",
   "metadata": {},
   "outputs": [
    {
     "data": {
      "text/plain": [
       "\"women_holding_hands Once upon a tim in Harmonyville, childhood friends Lily and Jake drifted apart, but a trip down memory lane through old photos brought them back together.However the wants to meet using www.friendship.com. camera Nostalgia struck, promoting Lily to reach out, and they decided to reunite at their favorite cafe. hot_beverage Midst shared laughter and stories, it became evident that their bond was as song as ever. glowing_star Inspired, they played a spontaneous weekend getaway to rekindle their past adventures. fire By the mountain cabin's fireplace, they realized that some friendships, like fine wine, only get better with time.\""
      ]
     },
     "execution_count": 5,
     "metadata": {},
     "output_type": "execute_result"
    }
   ],
   "source": [
    "spell = autocorrect.Speller()\n",
    "filess = spell.autocorrect_sentence(files)\n",
    "filess"
   ]
  },
  {
   "cell_type": "markdown",
   "id": "e86cecfe",
   "metadata": {},
   "source": [
    "#### 3. Lowercase"
   ]
  },
  {
   "cell_type": "code",
   "execution_count": 6,
   "id": "2ed9e9de",
   "metadata": {},
   "outputs": [
    {
     "data": {
      "text/plain": [
       "\"women_holding_hands once upon a tim in harmonyville, childhood friends lily and jake drifted apart, but a trip down memory lane through old photos brought them back together.however the wants to meet using www.friendship.com. camera nostalgia struck, promoting lily to reach out, and they decided to reunite at their favorite cafe. hot_beverage midst shared laughter and stories, it became evident that their bond was as song as ever. glowing_star inspired, they played a spontaneous weekend getaway to rekindle their past adventures. fire by the mountain cabin's fireplace, they realized that some friendships, like fine wine, only get better with time.\""
      ]
     },
     "execution_count": 6,
     "metadata": {},
     "output_type": "execute_result"
    }
   ],
   "source": [
    "filess = filess.lower()\n",
    "filess"
   ]
  },
  {
   "cell_type": "markdown",
   "id": "26b6f617",
   "metadata": {},
   "source": [
    "#### 4. Removal of URL"
   ]
  },
  {
   "cell_type": "code",
   "execution_count": 7,
   "id": "26400b3c",
   "metadata": {},
   "outputs": [
    {
     "data": {
      "text/plain": [
       "\"women_holding_hands once upon a tim in harmonyville, childhood friends lily and jake drifted apart, but a trip down memory lane through old photos brought them back together.however the wants to meet using friendship camera nostalgia struck, promoting lily to reach out, and they decided to reunite at their favorite cafe. hot_beverage midst shared laughter and stories, it became evident that their bond was as song as ever. glowing_star inspired, they played a spontaneous weekend getaway to rekindle their past adventures. fire by the mountain cabin's fireplace, they realized that some friendships, like fine wine, only get better with time.\""
      ]
     },
     "execution_count": 7,
     "metadata": {},
     "output_type": "execute_result"
    }
   ],
   "source": [
    "filess = re.sub(r'https?:\\S+| www.\\S+',' friendship' ,filess)\n",
    "filess"
   ]
  },
  {
   "cell_type": "markdown",
   "id": "756f7931",
   "metadata": {},
   "source": [
    "#### 5. Removing Punctuation Marks"
   ]
  },
  {
   "cell_type": "code",
   "execution_count": 8,
   "id": "b45be557",
   "metadata": {},
   "outputs": [
    {
     "data": {
      "text/plain": [
       "'women holding hands once upon a tim in harmonyville  childhood friends lily and jake drifted apart  but a trip down memory lane through old photos brought them back together however the wants to meet using friendship camera nostalgia struck  promoting lily to reach out  and they decided to reunite at their favorite cafe  hot beverage midst shared laughter and stories  it became evident that their bond was as song as ever  glowing star inspired  they played a spontaneous weekend getaway to rekindle their past adventures  fire by the mountain cabin s fireplace  they realized that some friendships  like fine wine  only get better with time '"
      ]
     },
     "execution_count": 8,
     "metadata": {},
     "output_type": "execute_result"
    }
   ],
   "source": [
    "filess = re.sub(r'[^a-zA-Z0-9]' ,' ', filess)\n",
    "filess"
   ]
  },
  {
   "cell_type": "markdown",
   "id": "d30a595d",
   "metadata": {},
   "source": [
    "#### 6. Stemming "
   ]
  },
  {
   "cell_type": "code",
   "execution_count": 9,
   "id": "6f75a588",
   "metadata": {},
   "outputs": [],
   "source": [
    "porter = PorterStemmer()"
   ]
  },
  {
   "cell_type": "code",
   "execution_count": 10,
   "id": "9ec3a5ce",
   "metadata": {},
   "outputs": [
    {
     "data": {
      "text/plain": [
       "'women holding hands once upon a tim in harmonyville  childhood friends lily and jake drifted apart  but a trip down memory lane through old photos brought them back together however the wants to meet using friendship camera nostalgia struck  promoting lily to reach out  and they decided to reunite at their favorite cafe  hot beverage midst shared laughter and stories  it became evident that their bond was as song as ever  glowing star inspired  they played a spontaneous weekend getaway to rekindle their past adventures  fire by the mountain cabin s fireplace  they realized that some friendships  like fine wine  only get better with time '"
      ]
     },
     "execution_count": 10,
     "metadata": {},
     "output_type": "execute_result"
    }
   ],
   "source": [
    "porter = porter.stem(filess)\n",
    "porter"
   ]
  },
  {
   "cell_type": "markdown",
   "id": "f389efe9",
   "metadata": {},
   "source": [
    "#### 7. Lemmatization"
   ]
  },
  {
   "cell_type": "code",
   "execution_count": 11,
   "id": "0ba571f4",
   "metadata": {},
   "outputs": [],
   "source": [
    "lemm = WordNetLemmatizer()"
   ]
  },
  {
   "cell_type": "code",
   "execution_count": 12,
   "id": "368d2e6d",
   "metadata": {},
   "outputs": [
    {
     "data": {
      "text/plain": [
       "'women holding hands once upon a tim in harmonyville  childhood friends lily and jake drifted apart  but a trip down memory lane through old photos brought them back together however the wants to meet using friendship camera nostalgia struck  promoting lily to reach out  and they decided to reunite at their favorite cafe  hot beverage midst shared laughter and stories  it became evident that their bond was as song as ever  glowing star inspired  they played a spontaneous weekend getaway to rekindle their past adventures  fire by the mountain cabin s fireplace  they realized that some friendships  like fine wine  only get better with time '"
      ]
     },
     "execution_count": 12,
     "metadata": {},
     "output_type": "execute_result"
    }
   ],
   "source": [
    "lemma = lemm.lemmatize(filess)\n",
    "lemma"
   ]
  },
  {
   "cell_type": "markdown",
   "id": "13d56c15",
   "metadata": {},
   "source": [
    "#### 8. Removing Stopwords"
   ]
  },
  {
   "cell_type": "code",
   "execution_count": 13,
   "id": "909e8858",
   "metadata": {},
   "outputs": [],
   "source": [
    "Adnan = []\n",
    "filess = lemma.split()\n",
    "for i in filess:\n",
    "    if i not in stopwords.words(\"english\"):\n",
    "        Adnan.append(i)"
   ]
  },
  {
   "cell_type": "code",
   "execution_count": 14,
   "id": "e381ec08",
   "metadata": {},
   "outputs": [
    {
     "name": "stdout",
     "output_type": "stream",
     "text": [
      "women holding hands upon tim harmonyville childhood friends lily jake drifted apart trip memory lane old photos brought back together however wants meet using friendship camera nostalgia struck promoting lily reach decided reunite favorite cafe hot beverage midst shared laughter stories became evident bond song ever glowing star inspired played spontaneous weekend getaway rekindle past adventures fire mountain cabin fireplace realized friendships like fine wine get better time "
     ]
    }
   ],
   "source": [
    "for AdnanBaig in Adnan:\n",
    "    print(AdnanBaig, end=' ')"
   ]
  },
  {
   "cell_type": "code",
   "execution_count": null,
   "id": "8ee41a5c",
   "metadata": {},
   "outputs": [],
   "source": []
  },
  {
   "cell_type": "code",
   "execution_count": null,
   "id": "709d686f",
   "metadata": {},
   "outputs": [],
   "source": []
  }
 ],
 "metadata": {
  "kernelspec": {
   "display_name": "Python 3 (ipykernel)",
   "language": "python",
   "name": "python3"
  },
  "language_info": {
   "codemirror_mode": {
    "name": "ipython",
    "version": 3
   },
   "file_extension": ".py",
   "mimetype": "text/x-python",
   "name": "python",
   "nbconvert_exporter": "python",
   "pygments_lexer": "ipython3",
   "version": "3.11.4"
  }
 },
 "nbformat": 4,
 "nbformat_minor": 5
}
