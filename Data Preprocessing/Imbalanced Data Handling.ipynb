{
 "cells": [
  {
   "cell_type": "markdown",
   "metadata": {},
   "source": [
    "### IMBALACED DATA HANDLING"
   ]
  },
  {
   "cell_type": "code",
   "execution_count": 1,
   "metadata": {
    "executionInfo": {
     "elapsed": 2773,
     "status": "ok",
     "timestamp": 1714293310002,
     "user": {
      "displayName": "Baig Adnan",
      "userId": "14238850421853052232"
     },
     "user_tz": -330
    },
    "id": "3NKVveqh10FY"
   },
   "outputs": [],
   "source": [
    "import pandas as pd\n",
    "import imblearn"
   ]
  },
  {
   "cell_type": "code",
   "execution_count": 40,
   "metadata": {
    "colab": {
     "base_uri": "https://localhost:8080/",
     "height": 206
    },
    "executionInfo": {
     "elapsed": 407,
     "status": "ok",
     "timestamp": 1714295394425,
     "user": {
      "displayName": "Baig Adnan",
      "userId": "14238850421853052232"
     },
     "user_tz": -330
    },
    "id": "a5KUKVYf19SC",
    "outputId": "148ad891-8c77-4f73-e53d-6e50f2b08a29"
   },
   "outputs": [
    {
     "data": {
      "application/vnd.google.colaboratory.intrinsic+json": {
       "summary": "{\n  \"name\": \"df\",\n  \"rows\": 1000,\n  \"fields\": [\n    {\n      \"column\": \"Feature1\",\n      \"properties\": {\n        \"dtype\": \"number\",\n        \"std\": 0.9935411655252515,\n        \"min\": -3.046143054799926,\n        \"max\": 2.759355114021582,\n        \"num_unique_values\": 1000,\n        \"samples\": [\n          0.4986902749098275,\n          1.4893559620744805,\n          -0.2680033709513804\n        ],\n        \"semantic_type\": \"\",\n        \"description\": \"\"\n      }\n    },\n    {\n      \"column\": \"Feature2\",\n      \"properties\": {\n        \"dtype\": \"number\",\n        \"std\": 0.9622689732028656,\n        \"min\": -2.994612860227619,\n        \"max\": 3.17097477329018,\n        \"num_unique_values\": 1000,\n        \"samples\": [\n          0.0675168571743248,\n          -0.9711706648243909,\n          0.0983779068154756\n        ],\n        \"semantic_type\": \"\",\n        \"description\": \"\"\n      }\n    },\n    {\n      \"column\": \"Class\",\n      \"properties\": {\n        \"dtype\": \"number\",\n        \"std\": 0,\n        \"min\": 1,\n        \"max\": 2,\n        \"num_unique_values\": 2,\n        \"samples\": [\n          2,\n          1\n        ],\n        \"semantic_type\": \"\",\n        \"description\": \"\"\n      }\n    }\n  ]\n}",
       "type": "dataframe",
       "variable_name": "df"
      },
      "text/html": [
       "\n",
       "  <div id=\"df-36a9d38b-6b5b-441f-ac0b-cccd0e6dccfb\" class=\"colab-df-container\">\n",
       "    <div>\n",
       "<style scoped>\n",
       "    .dataframe tbody tr th:only-of-type {\n",
       "        vertical-align: middle;\n",
       "    }\n",
       "\n",
       "    .dataframe tbody tr th {\n",
       "        vertical-align: top;\n",
       "    }\n",
       "\n",
       "    .dataframe thead th {\n",
       "        text-align: right;\n",
       "    }\n",
       "</style>\n",
       "<table border=\"1\" class=\"dataframe\">\n",
       "  <thead>\n",
       "    <tr style=\"text-align: right;\">\n",
       "      <th></th>\n",
       "      <th>Feature1</th>\n",
       "      <th>Feature2</th>\n",
       "      <th>Class</th>\n",
       "    </tr>\n",
       "  </thead>\n",
       "  <tbody>\n",
       "    <tr>\n",
       "      <th>0</th>\n",
       "      <td>-2.552990</td>\n",
       "      <td>-0.657926</td>\n",
       "      <td>1</td>\n",
       "    </tr>\n",
       "    <tr>\n",
       "      <th>1</th>\n",
       "      <td>1.764052</td>\n",
       "      <td>-0.947489</td>\n",
       "      <td>1</td>\n",
       "    </tr>\n",
       "    <tr>\n",
       "      <th>2</th>\n",
       "      <td>0.040071</td>\n",
       "      <td>0.198989</td>\n",
       "      <td>2</td>\n",
       "    </tr>\n",
       "    <tr>\n",
       "      <th>3</th>\n",
       "      <td>-1.214077</td>\n",
       "      <td>-0.952645</td>\n",
       "      <td>1</td>\n",
       "    </tr>\n",
       "    <tr>\n",
       "      <th>4</th>\n",
       "      <td>-1.006832</td>\n",
       "      <td>-1.649217</td>\n",
       "      <td>1</td>\n",
       "    </tr>\n",
       "  </tbody>\n",
       "</table>\n",
       "</div>\n",
       "    <div class=\"colab-df-buttons\">\n",
       "\n",
       "  <div class=\"colab-df-container\">\n",
       "    <button class=\"colab-df-convert\" onclick=\"convertToInteractive('df-36a9d38b-6b5b-441f-ac0b-cccd0e6dccfb')\"\n",
       "            title=\"Convert this dataframe to an interactive table.\"\n",
       "            style=\"display:none;\">\n",
       "\n",
       "  <svg xmlns=\"http://www.w3.org/2000/svg\" height=\"24px\" viewBox=\"0 -960 960 960\">\n",
       "    <path d=\"M120-120v-720h720v720H120Zm60-500h600v-160H180v160Zm220 220h160v-160H400v160Zm0 220h160v-160H400v160ZM180-400h160v-160H180v160Zm440 0h160v-160H620v160ZM180-180h160v-160H180v160Zm440 0h160v-160H620v160Z\"/>\n",
       "  </svg>\n",
       "    </button>\n",
       "\n",
       "  <style>\n",
       "    .colab-df-container {\n",
       "      display:flex;\n",
       "      gap: 12px;\n",
       "    }\n",
       "\n",
       "    .colab-df-convert {\n",
       "      background-color: #E8F0FE;\n",
       "      border: none;\n",
       "      border-radius: 50%;\n",
       "      cursor: pointer;\n",
       "      display: none;\n",
       "      fill: #1967D2;\n",
       "      height: 32px;\n",
       "      padding: 0 0 0 0;\n",
       "      width: 32px;\n",
       "    }\n",
       "\n",
       "    .colab-df-convert:hover {\n",
       "      background-color: #E2EBFA;\n",
       "      box-shadow: 0px 1px 2px rgba(60, 64, 67, 0.3), 0px 1px 3px 1px rgba(60, 64, 67, 0.15);\n",
       "      fill: #174EA6;\n",
       "    }\n",
       "\n",
       "    .colab-df-buttons div {\n",
       "      margin-bottom: 4px;\n",
       "    }\n",
       "\n",
       "    [theme=dark] .colab-df-convert {\n",
       "      background-color: #3B4455;\n",
       "      fill: #D2E3FC;\n",
       "    }\n",
       "\n",
       "    [theme=dark] .colab-df-convert:hover {\n",
       "      background-color: #434B5C;\n",
       "      box-shadow: 0px 1px 3px 1px rgba(0, 0, 0, 0.15);\n",
       "      filter: drop-shadow(0px 1px 2px rgba(0, 0, 0, 0.3));\n",
       "      fill: #FFFFFF;\n",
       "    }\n",
       "  </style>\n",
       "\n",
       "    <script>\n",
       "      const buttonEl =\n",
       "        document.querySelector('#df-36a9d38b-6b5b-441f-ac0b-cccd0e6dccfb button.colab-df-convert');\n",
       "      buttonEl.style.display =\n",
       "        google.colab.kernel.accessAllowed ? 'block' : 'none';\n",
       "\n",
       "      async function convertToInteractive(key) {\n",
       "        const element = document.querySelector('#df-36a9d38b-6b5b-441f-ac0b-cccd0e6dccfb');\n",
       "        const dataTable =\n",
       "          await google.colab.kernel.invokeFunction('convertToInteractive',\n",
       "                                                    [key], {});\n",
       "        if (!dataTable) return;\n",
       "\n",
       "        const docLinkHtml = 'Like what you see? Visit the ' +\n",
       "          '<a target=\"_blank\" href=https://colab.research.google.com/notebooks/data_table.ipynb>data table notebook</a>'\n",
       "          + ' to learn more about interactive tables.';\n",
       "        element.innerHTML = '';\n",
       "        dataTable['output_type'] = 'display_data';\n",
       "        await google.colab.output.renderOutput(dataTable, element);\n",
       "        const docLink = document.createElement('div');\n",
       "        docLink.innerHTML = docLinkHtml;\n",
       "        element.appendChild(docLink);\n",
       "      }\n",
       "    </script>\n",
       "  </div>\n",
       "\n",
       "\n",
       "<div id=\"df-dbf8f2be-acc4-4818-ab7a-a04c261bf634\">\n",
       "  <button class=\"colab-df-quickchart\" onclick=\"quickchart('df-dbf8f2be-acc4-4818-ab7a-a04c261bf634')\"\n",
       "            title=\"Suggest charts\"\n",
       "            style=\"display:none;\">\n",
       "\n",
       "<svg xmlns=\"http://www.w3.org/2000/svg\" height=\"24px\"viewBox=\"0 0 24 24\"\n",
       "     width=\"24px\">\n",
       "    <g>\n",
       "        <path d=\"M19 3H5c-1.1 0-2 .9-2 2v14c0 1.1.9 2 2 2h14c1.1 0 2-.9 2-2V5c0-1.1-.9-2-2-2zM9 17H7v-7h2v7zm4 0h-2V7h2v10zm4 0h-2v-4h2v4z\"/>\n",
       "    </g>\n",
       "</svg>\n",
       "  </button>\n",
       "\n",
       "<style>\n",
       "  .colab-df-quickchart {\n",
       "      --bg-color: #E8F0FE;\n",
       "      --fill-color: #1967D2;\n",
       "      --hover-bg-color: #E2EBFA;\n",
       "      --hover-fill-color: #174EA6;\n",
       "      --disabled-fill-color: #AAA;\n",
       "      --disabled-bg-color: #DDD;\n",
       "  }\n",
       "\n",
       "  [theme=dark] .colab-df-quickchart {\n",
       "      --bg-color: #3B4455;\n",
       "      --fill-color: #D2E3FC;\n",
       "      --hover-bg-color: #434B5C;\n",
       "      --hover-fill-color: #FFFFFF;\n",
       "      --disabled-bg-color: #3B4455;\n",
       "      --disabled-fill-color: #666;\n",
       "  }\n",
       "\n",
       "  .colab-df-quickchart {\n",
       "    background-color: var(--bg-color);\n",
       "    border: none;\n",
       "    border-radius: 50%;\n",
       "    cursor: pointer;\n",
       "    display: none;\n",
       "    fill: var(--fill-color);\n",
       "    height: 32px;\n",
       "    padding: 0;\n",
       "    width: 32px;\n",
       "  }\n",
       "\n",
       "  .colab-df-quickchart:hover {\n",
       "    background-color: var(--hover-bg-color);\n",
       "    box-shadow: 0 1px 2px rgba(60, 64, 67, 0.3), 0 1px 3px 1px rgba(60, 64, 67, 0.15);\n",
       "    fill: var(--button-hover-fill-color);\n",
       "  }\n",
       "\n",
       "  .colab-df-quickchart-complete:disabled,\n",
       "  .colab-df-quickchart-complete:disabled:hover {\n",
       "    background-color: var(--disabled-bg-color);\n",
       "    fill: var(--disabled-fill-color);\n",
       "    box-shadow: none;\n",
       "  }\n",
       "\n",
       "  .colab-df-spinner {\n",
       "    border: 2px solid var(--fill-color);\n",
       "    border-color: transparent;\n",
       "    border-bottom-color: var(--fill-color);\n",
       "    animation:\n",
       "      spin 1s steps(1) infinite;\n",
       "  }\n",
       "\n",
       "  @keyframes spin {\n",
       "    0% {\n",
       "      border-color: transparent;\n",
       "      border-bottom-color: var(--fill-color);\n",
       "      border-left-color: var(--fill-color);\n",
       "    }\n",
       "    20% {\n",
       "      border-color: transparent;\n",
       "      border-left-color: var(--fill-color);\n",
       "      border-top-color: var(--fill-color);\n",
       "    }\n",
       "    30% {\n",
       "      border-color: transparent;\n",
       "      border-left-color: var(--fill-color);\n",
       "      border-top-color: var(--fill-color);\n",
       "      border-right-color: var(--fill-color);\n",
       "    }\n",
       "    40% {\n",
       "      border-color: transparent;\n",
       "      border-right-color: var(--fill-color);\n",
       "      border-top-color: var(--fill-color);\n",
       "    }\n",
       "    60% {\n",
       "      border-color: transparent;\n",
       "      border-right-color: var(--fill-color);\n",
       "    }\n",
       "    80% {\n",
       "      border-color: transparent;\n",
       "      border-right-color: var(--fill-color);\n",
       "      border-bottom-color: var(--fill-color);\n",
       "    }\n",
       "    90% {\n",
       "      border-color: transparent;\n",
       "      border-bottom-color: var(--fill-color);\n",
       "    }\n",
       "  }\n",
       "</style>\n",
       "\n",
       "  <script>\n",
       "    async function quickchart(key) {\n",
       "      const quickchartButtonEl =\n",
       "        document.querySelector('#' + key + ' button');\n",
       "      quickchartButtonEl.disabled = true;  // To prevent multiple clicks.\n",
       "      quickchartButtonEl.classList.add('colab-df-spinner');\n",
       "      try {\n",
       "        const charts = await google.colab.kernel.invokeFunction(\n",
       "            'suggestCharts', [key], {});\n",
       "      } catch (error) {\n",
       "        console.error('Error during call to suggestCharts:', error);\n",
       "      }\n",
       "      quickchartButtonEl.classList.remove('colab-df-spinner');\n",
       "      quickchartButtonEl.classList.add('colab-df-quickchart-complete');\n",
       "    }\n",
       "    (() => {\n",
       "      let quickchartButtonEl =\n",
       "        document.querySelector('#df-dbf8f2be-acc4-4818-ab7a-a04c261bf634 button');\n",
       "      quickchartButtonEl.style.display =\n",
       "        google.colab.kernel.accessAllowed ? 'block' : 'none';\n",
       "    })();\n",
       "  </script>\n",
       "</div>\n",
       "\n",
       "    </div>\n",
       "  </div>\n"
      ],
      "text/plain": [
       "   Feature1  Feature2  Class\n",
       "0 -2.552990 -0.657926      1\n",
       "1  1.764052 -0.947489      1\n",
       "2  0.040071  0.198989      2\n",
       "3 -1.214077 -0.952645      1\n",
       "4 -1.006832 -1.649217      1"
      ]
     },
     "execution_count": 40,
     "metadata": {},
     "output_type": "execute_result"
    }
   ],
   "source": [
    "df = pd.read_csv(r\"/content/Imbalanced_Dataset.csv\")\n",
    "df.head()"
   ]
  },
  {
   "cell_type": "code",
   "execution_count": 41,
   "metadata": {
    "colab": {
     "base_uri": "https://localhost:8080/"
    },
    "executionInfo": {
     "elapsed": 401,
     "status": "ok",
     "timestamp": 1714295417048,
     "user": {
      "displayName": "Baig Adnan",
      "userId": "14238850421853052232"
     },
     "user_tz": -330
    },
    "id": "n-UVmVX32ITn",
    "outputId": "f363b6ef-6b52-42dc-cc89-a303cd10a439"
   },
   "outputs": [
    {
     "data": {
      "text/plain": [
       "Class\n",
       "1    950\n",
       "2     50\n",
       "Name: count, dtype: int64"
      ]
     },
     "execution_count": 41,
     "metadata": {},
     "output_type": "execute_result"
    }
   ],
   "source": [
    "df['Class'].value_counts()"
   ]
  },
  {
   "cell_type": "code",
   "execution_count": 42,
   "metadata": {
    "colab": {
     "base_uri": "https://localhost:8080/"
    },
    "executionInfo": {
     "elapsed": 388,
     "status": "ok",
     "timestamp": 1714295420869,
     "user": {
      "displayName": "Baig Adnan",
      "userId": "14238850421853052232"
     },
     "user_tz": -330
    },
    "id": "2BScVgMA2wXn",
    "outputId": "ff822381-fa42-457b-ef03-dc101b4d4c13"
   },
   "outputs": [
    {
     "data": {
      "text/plain": [
       "Class\n",
       "1    0.95\n",
       "2    0.05\n",
       "Name: proportion, dtype: float64"
      ]
     },
     "execution_count": 42,
     "metadata": {},
     "output_type": "execute_result"
    }
   ],
   "source": [
    "df['Class'].value_counts(normalize=True)"
   ]
  },
  {
   "cell_type": "markdown",
   "metadata": {
    "executionInfo": {
     "elapsed": 454,
     "status": "ok",
     "timestamp": 1714295423872,
     "user": {
      "displayName": "Baig Adnan",
      "userId": "14238850421853052232"
     },
     "user_tz": -330
    },
    "id": "BUWoiYxX20A6"
   },
   "source": [
    "### 1. UNDER SAMPLING"
   ]
  },
  {
   "cell_type": "code",
   "execution_count": 44,
   "metadata": {
    "executionInfo": {
     "elapsed": 2,
     "status": "ok",
     "timestamp": 1714295424335,
     "user": {
      "displayName": "Baig Adnan",
      "userId": "14238850421853052232"
     },
     "user_tz": -330
    },
    "id": "LKHaOdhk25Bd"
   },
   "outputs": [],
   "source": [
    "from imblearn.under_sampling import RandomUnderSampler, ClusterCentroids"
   ]
  },
  {
   "cell_type": "code",
   "execution_count": 45,
   "metadata": {
    "executionInfo": {
     "elapsed": 2,
     "status": "ok",
     "timestamp": 1714295424725,
     "user": {
      "displayName": "Baig Adnan",
      "userId": "14238850421853052232"
     },
     "user_tz": -330
    },
    "id": "HQ4jWy403L1T"
   },
   "outputs": [],
   "source": [
    "X = df.drop('Class' , axis=1)\n",
    "y = df['Class']"
   ]
  },
  {
   "cell_type": "code",
   "execution_count": 19,
   "metadata": {
    "executionInfo": {
     "elapsed": 420,
     "status": "ok",
     "timestamp": 1714293824162,
     "user": {
      "displayName": "Baig Adnan",
      "userId": "14238850421853052232"
     },
     "user_tz": -330
    },
    "id": "V4Wnu__u3elE"
   },
   "outputs": [],
   "source": [
    "random = RandomUnderSampler(random_state=23)\n",
    "\n",
    "X_rr,y_rr = random.fit_resample(X,y)"
   ]
  },
  {
   "cell_type": "code",
   "execution_count": 22,
   "metadata": {
    "colab": {
     "base_uri": "https://localhost:8080/"
    },
    "executionInfo": {
     "elapsed": 8,
     "status": "ok",
     "timestamp": 1714293887339,
     "user": {
      "displayName": "Baig Adnan",
      "userId": "14238850421853052232"
     },
     "user_tz": -330
    },
    "id": "cZtD1Edg3uB8",
    "outputId": "0429586b-e5e9-4360-d528-cdaf0f034cb9"
   },
   "outputs": [
    {
     "data": {
      "text/plain": [
       "Class\n",
       "1    50\n",
       "2    50\n",
       "Name: count, dtype: int64"
      ]
     },
     "execution_count": 22,
     "metadata": {},
     "output_type": "execute_result"
    }
   ],
   "source": [
    "y_rr.value_counts()\n",
    "\n",
    "#Majority class reduced to approx minor class, imbalanced class compressed, we have loss data"
   ]
  },
  {
   "cell_type": "code",
   "execution_count": 23,
   "metadata": {
    "colab": {
     "base_uri": "https://localhost:8080/"
    },
    "executionInfo": {
     "elapsed": 1836,
     "status": "ok",
     "timestamp": 1714294421350,
     "user": {
      "displayName": "Baig Adnan",
      "userId": "14238850421853052232"
     },
     "user_tz": -330
    },
    "id": "GjR1f_WR3_IK",
    "outputId": "99a7a534-851c-4a30-890e-0d91798efa45"
   },
   "outputs": [
    {
     "name": "stderr",
     "output_type": "stream",
     "text": [
      "/usr/local/lib/python3.10/dist-packages/sklearn/cluster/_kmeans.py:870: FutureWarning: The default value of `n_init` will change from 10 to 'auto' in 1.4. Set the value of `n_init` explicitly to suppress the warning\n",
      "  warnings.warn(\n"
     ]
    }
   ],
   "source": [
    "ct = ClusterCentroids(random_state=4)\n",
    "\n",
    "X_c, y_c = ct.fit_resample(X,y)"
   ]
  },
  {
   "cell_type": "code",
   "execution_count": 25,
   "metadata": {
    "colab": {
     "base_uri": "https://localhost:8080/"
    },
    "executionInfo": {
     "elapsed": 9,
     "status": "ok",
     "timestamp": 1714294443281,
     "user": {
      "displayName": "Baig Adnan",
      "userId": "14238850421853052232"
     },
     "user_tz": -330
    },
    "id": "HcI1gg0L6OsA",
    "outputId": "4772cb66-12ae-4f4d-ae04-0e63a7d261e6"
   },
   "outputs": [
    {
     "data": {
      "text/plain": [
       "Class\n",
       "1    50\n",
       "2    50\n",
       "Name: count, dtype: int64"
      ]
     },
     "execution_count": 25,
     "metadata": {},
     "output_type": "execute_result"
    }
   ],
   "source": [
    "y_c.value_counts()\n",
    "\n",
    "#It works using clustering , group the data point in cluster and then reduce majority approx as minority"
   ]
  },
  {
   "cell_type": "code",
   "execution_count": 25,
   "metadata": {
    "executionInfo": {
     "elapsed": 513,
     "status": "ok",
     "timestamp": 1714294534712,
     "user": {
      "displayName": "Baig Adnan",
      "userId": "14238850421853052232"
     },
     "user_tz": -330
    },
    "id": "Vm3tTbQw6Rev"
   },
   "outputs": [],
   "source": []
  },
  {
   "cell_type": "markdown",
   "metadata": {
    "executionInfo": {
     "elapsed": 8,
     "status": "ok",
     "timestamp": 1714294547640,
     "user": {
      "displayName": "Baig Adnan",
      "userId": "14238850421853052232"
     },
     "user_tz": -330
    },
    "id": "n3zMvs-96rXU"
   },
   "source": [
    "### 2. Over Sampling"
   ]
  },
  {
   "cell_type": "code",
   "execution_count": 27,
   "metadata": {
    "executionInfo": {
     "elapsed": 5,
     "status": "ok",
     "timestamp": 1714294586939,
     "user": {
      "displayName": "Baig Adnan",
      "userId": "14238850421853052232"
     },
     "user_tz": -330
    },
    "id": "h-ey-v8F6t8r"
   },
   "outputs": [],
   "source": [
    "from imblearn.over_sampling import RandomOverSampler , SMOTE"
   ]
  },
  {
   "cell_type": "code",
   "execution_count": 28,
   "metadata": {
    "colab": {
     "base_uri": "https://localhost:8080/"
    },
    "executionInfo": {
     "elapsed": 10,
     "status": "ok",
     "timestamp": 1714294691904,
     "user": {
      "displayName": "Baig Adnan",
      "userId": "14238850421853052232"
     },
     "user_tz": -330
    },
    "id": "MaB_NKfJ63gJ",
    "outputId": "609b130f-f3b0-4cef-a6f2-a00d157286db"
   },
   "outputs": [
    {
     "data": {
      "text/plain": [
       "Class\n",
       "1    950\n",
       "2    950\n",
       "Name: count, dtype: int64"
      ]
     },
     "execution_count": 28,
     "metadata": {},
     "output_type": "execute_result"
    }
   ],
   "source": [
    "random = RandomOverSampler(random_state=23)\n",
    "\n",
    "X_o , y_o = random.fit_resample(X,y)\n",
    "\n",
    "y_o.value_counts()\n",
    "\n",
    "#Minority class in increased approx as majority class\n",
    "#Its increasing using duplicate , Duplicate causes data leakage, Its not preferable , we will do another approach"
   ]
  },
  {
   "cell_type": "code",
   "execution_count": 34,
   "metadata": {
    "colab": {
     "base_uri": "https://localhost:8080/"
    },
    "executionInfo": {
     "elapsed": 5,
     "status": "ok",
     "timestamp": 1714294995320,
     "user": {
      "displayName": "Baig Adnan",
      "userId": "14238850421853052232"
     },
     "user_tz": -330
    },
    "id": "YZTDMVXM8IqY",
    "outputId": "42446bb2-e90d-4385-c308-e30382a53bad"
   },
   "outputs": [
    {
     "data": {
      "text/plain": [
       "900"
      ]
     },
     "execution_count": 34,
     "metadata": {},
     "output_type": "execute_result"
    }
   ],
   "source": [
    "X_o.duplicated().sum()\n",
    "#See duplicates"
   ]
  },
  {
   "cell_type": "markdown",
   "metadata": {
    "executionInfo": {
     "elapsed": 397,
     "status": "ok",
     "timestamp": 1714294823898,
     "user": {
      "displayName": "Baig Adnan",
      "userId": "14238850421853052232"
     },
     "user_tz": -330
    },
    "id": "g-AGWETt7Q1n"
   },
   "source": [
    "### SMOTE--Synthetic Minority Over-sampling Technique."
   ]
  },
  {
   "cell_type": "code",
   "execution_count": 30,
   "metadata": {
    "colab": {
     "base_uri": "https://localhost:8080/"
    },
    "executionInfo": {
     "elapsed": 10,
     "status": "ok",
     "timestamp": 1714294909506,
     "user": {
      "displayName": "Baig Adnan",
      "userId": "14238850421853052232"
     },
     "user_tz": -330
    },
    "id": "8ZtlTc5E7xc9",
    "outputId": "42fdd315-31f6-4cbc-81fa-2d65ea5b3151"
   },
   "outputs": [
    {
     "data": {
      "text/plain": [
       "Class\n",
       "1    950\n",
       "2    950\n",
       "Name: count, dtype: int64"
      ]
     },
     "execution_count": 30,
     "metadata": {},
     "output_type": "execute_result"
    }
   ],
   "source": [
    "smote = SMOTE(random_state=23)\n",
    "\n",
    "X_s , y_s = smote.fit_resample(X,y)\n",
    "\n",
    "y_s.value_counts()"
   ]
  },
  {
   "cell_type": "code",
   "execution_count": 35,
   "metadata": {
    "colab": {
     "base_uri": "https://localhost:8080/"
    },
    "executionInfo": {
     "elapsed": 3,
     "status": "ok",
     "timestamp": 1714295039319,
     "user": {
      "displayName": "Baig Adnan",
      "userId": "14238850421853052232"
     },
     "user_tz": -330
    },
    "id": "HE3vZtPT8Gbf",
    "outputId": "57463789-f89b-47ab-b01b-154924a17024"
   },
   "outputs": [
    {
     "data": {
      "text/plain": [
       "0"
      ]
     },
     "execution_count": 35,
     "metadata": {},
     "output_type": "execute_result"
    }
   ],
   "source": [
    "X_s.duplicated().sum()\n",
    "\n",
    "#SMOTE Will increase minor class but  not take duplicated rows, SMOTE IS PREFERABLE METHOD"
   ]
  },
  {
   "cell_type": "code",
   "execution_count": 35,
   "metadata": {
    "executionInfo": {
     "elapsed": 393,
     "status": "ok",
     "timestamp": 1714295180802,
     "user": {
      "displayName": "Baig Adnan",
      "userId": "14238850421853052232"
     },
     "user_tz": -330
    },
    "id": "u4iGrzte8mDd"
   },
   "outputs": [],
   "source": []
  },
  {
   "cell_type": "markdown",
   "metadata": {
    "executionInfo": {
     "elapsed": 466,
     "status": "ok",
     "timestamp": 1714295198216,
     "user": {
      "displayName": "Baig Adnan",
      "userId": "14238850421853052232"
     },
     "user_tz": -330
    },
    "id": "S102zN-29JLG"
   },
   "source": [
    "### 3. UNDER + OVER Combine Sampling"
   ]
  },
  {
   "cell_type": "code",
   "execution_count": 37,
   "metadata": {
    "executionInfo": {
     "elapsed": 393,
     "status": "ok",
     "timestamp": 1714295250504,
     "user": {
      "displayName": "Baig Adnan",
      "userId": "14238850421853052232"
     },
     "user_tz": -330
    },
    "id": "7n3fdwdT9Mvf"
   },
   "outputs": [],
   "source": [
    "from imblearn.combine import SMOTEENN, SMOTETomek"
   ]
  },
  {
   "cell_type": "code",
   "execution_count": 46,
   "metadata": {
    "colab": {
     "base_uri": "https://localhost:8080/"
    },
    "executionInfo": {
     "elapsed": 403,
     "status": "ok",
     "timestamp": 1714295429917,
     "user": {
      "displayName": "Baig Adnan",
      "userId": "14238850421853052232"
     },
     "user_tz": -330
    },
    "id": "RiKyW1699Zgg",
    "outputId": "14b6b1cd-9fc2-4626-f615-ded83d0c3ca4"
   },
   "outputs": [
    {
     "data": {
      "text/plain": [
       "Class\n",
       "1    863\n",
       "2    863\n",
       "Name: count, dtype: int64"
      ]
     },
     "execution_count": 46,
     "metadata": {},
     "output_type": "execute_result"
    }
   ],
   "source": [
    "smt = SMOTETomek(random_state=23)\n",
    "\n",
    "X_smt,y_smt = smt.fit_resample(X,y)\n",
    "\n",
    "y_smt.value_counts()"
   ]
  },
  {
   "cell_type": "code",
   "execution_count": 48,
   "metadata": {
    "executionInfo": {
     "elapsed": 379,
     "status": "ok",
     "timestamp": 1714295528095,
     "user": {
      "displayName": "Baig Adnan",
      "userId": "14238850421853052232"
     },
     "user_tz": -330
    },
    "id": "050zLmPq9r4w"
   },
   "outputs": [],
   "source": [
    "#Majority class is decreasing ans minority class increasing at a time, combination of over and under sampling"
   ]
  },
  {
   "cell_type": "code",
   "execution_count": null,
   "metadata": {
    "id": "hdZGdhq5-Jvq"
   },
   "outputs": [],
   "source": []
  }
 ],
 "metadata": {
  "colab": {
   "authorship_tag": "ABX9TyM4XamQmxWGjlL8miBikZnV",
   "provenance": []
  },
  "kernelspec": {
   "display_name": "Python 3 (ipykernel)",
   "language": "python",
   "name": "python3"
  },
  "language_info": {
   "codemirror_mode": {
    "name": "ipython",
    "version": 3
   },
   "file_extension": ".py",
   "mimetype": "text/x-python",
   "name": "python",
   "nbconvert_exporter": "python",
   "pygments_lexer": "ipython3",
   "version": "3.11.4"
  }
 },
 "nbformat": 4,
 "nbformat_minor": 1
}
