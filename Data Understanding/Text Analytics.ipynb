{
 "cells": [
  {
   "cell_type": "markdown",
   "id": "11036f31",
   "metadata": {},
   "source": [
    "### Text Data Processing \n",
    "#### 1. Converting to LowerCase"
   ]
  },
  {
   "cell_type": "code",
   "execution_count": 20,
   "id": "d16e8081",
   "metadata": {},
   "outputs": [],
   "source": [
    "Name = 'Python is python'"
   ]
  },
  {
   "cell_type": "code",
   "execution_count": 21,
   "id": "ff70ec45",
   "metadata": {},
   "outputs": [],
   "source": [
    "Name = Name.lower()"
   ]
  },
  {
   "cell_type": "code",
   "execution_count": 6,
   "id": "a8ecc787",
   "metadata": {},
   "outputs": [],
   "source": [
    "import pandas as pd"
   ]
  },
  {
   "cell_type": "code",
   "execution_count": 9,
   "id": "2456c67a",
   "metadata": {},
   "outputs": [],
   "source": [
    "df = pd.DataFrame([['Hello world'], ['I am a data scientist'], ['I am from Achalpur']] , columns = ['My data'])"
   ]
  },
  {
   "cell_type": "code",
   "execution_count": 10,
   "id": "408352c6",
   "metadata": {},
   "outputs": [
    {
     "data": {
      "text/html": [
       "<div>\n",
       "<style scoped>\n",
       "    .dataframe tbody tr th:only-of-type {\n",
       "        vertical-align: middle;\n",
       "    }\n",
       "\n",
       "    .dataframe tbody tr th {\n",
       "        vertical-align: top;\n",
       "    }\n",
       "\n",
       "    .dataframe thead th {\n",
       "        text-align: right;\n",
       "    }\n",
       "</style>\n",
       "<table border=\"1\" class=\"dataframe\">\n",
       "  <thead>\n",
       "    <tr style=\"text-align: right;\">\n",
       "      <th></th>\n",
       "      <th>My data</th>\n",
       "    </tr>\n",
       "  </thead>\n",
       "  <tbody>\n",
       "    <tr>\n",
       "      <th>0</th>\n",
       "      <td>Hello world</td>\n",
       "    </tr>\n",
       "    <tr>\n",
       "      <th>1</th>\n",
       "      <td>I am a data scientist</td>\n",
       "    </tr>\n",
       "    <tr>\n",
       "      <th>2</th>\n",
       "      <td>I am from Achalpur</td>\n",
       "    </tr>\n",
       "  </tbody>\n",
       "</table>\n",
       "</div>"
      ],
      "text/plain": [
       "                 My data\n",
       "0            Hello world\n",
       "1  I am a data scientist\n",
       "2     I am from Achalpur"
      ]
     },
     "execution_count": 10,
     "metadata": {},
     "output_type": "execute_result"
    }
   ],
   "source": [
    "df"
   ]
  },
  {
   "cell_type": "code",
   "execution_count": 14,
   "id": "bf76341b",
   "metadata": {},
   "outputs": [
    {
     "name": "stdout",
     "output_type": "stream",
     "text": [
      "hello world\n",
      "i am a data scientist\n",
      "i am from achalpur\n"
     ]
    }
   ],
   "source": [
    "for i in df['My data']:\n",
    "    print(i.lower())"
   ]
  },
  {
   "cell_type": "code",
   "execution_count": 16,
   "id": "2a3dbc7e",
   "metadata": {},
   "outputs": [],
   "source": [
    "df['My data'] = df['My data'].str.lower()"
   ]
  },
  {
   "cell_type": "code",
   "execution_count": 17,
   "id": "9000f51d",
   "metadata": {},
   "outputs": [
    {
     "data": {
      "text/html": [
       "<div>\n",
       "<style scoped>\n",
       "    .dataframe tbody tr th:only-of-type {\n",
       "        vertical-align: middle;\n",
       "    }\n",
       "\n",
       "    .dataframe tbody tr th {\n",
       "        vertical-align: top;\n",
       "    }\n",
       "\n",
       "    .dataframe thead th {\n",
       "        text-align: right;\n",
       "    }\n",
       "</style>\n",
       "<table border=\"1\" class=\"dataframe\">\n",
       "  <thead>\n",
       "    <tr style=\"text-align: right;\">\n",
       "      <th></th>\n",
       "      <th>My data</th>\n",
       "    </tr>\n",
       "  </thead>\n",
       "  <tbody>\n",
       "    <tr>\n",
       "      <th>0</th>\n",
       "      <td>hello world</td>\n",
       "    </tr>\n",
       "    <tr>\n",
       "      <th>1</th>\n",
       "      <td>i am a data scientist</td>\n",
       "    </tr>\n",
       "    <tr>\n",
       "      <th>2</th>\n",
       "      <td>i am from achalpur</td>\n",
       "    </tr>\n",
       "  </tbody>\n",
       "</table>\n",
       "</div>"
      ],
      "text/plain": [
       "                 My data\n",
       "0            hello world\n",
       "1  i am a data scientist\n",
       "2     i am from achalpur"
      ]
     },
     "execution_count": 17,
     "metadata": {},
     "output_type": "execute_result"
    }
   ],
   "source": [
    "df"
   ]
  },
  {
   "cell_type": "markdown",
   "id": "ad448e5b",
   "metadata": {},
   "source": [
    "#### 2. Tokenization"
   ]
  },
  {
   "cell_type": "code",
   "execution_count": 25,
   "id": "03d1dd57",
   "metadata": {},
   "outputs": [
    {
     "data": {
      "text/plain": [
       "'python is python'"
      ]
     },
     "execution_count": 25,
     "metadata": {},
     "output_type": "execute_result"
    }
   ],
   "source": [
    "Name"
   ]
  },
  {
   "cell_type": "code",
   "execution_count": 26,
   "id": "1f06b5bf",
   "metadata": {},
   "outputs": [
    {
     "data": {
      "text/plain": [
       "['python', 'is', 'python']"
      ]
     },
     "execution_count": 26,
     "metadata": {},
     "output_type": "execute_result"
    }
   ],
   "source": [
    "Name.split()"
   ]
  },
  {
   "cell_type": "code",
   "execution_count": 28,
   "id": "b3b7aee0",
   "metadata": {},
   "outputs": [
    {
     "data": {
      "text/plain": [
       "0                 [hello, world]\n",
       "1    [i, am, a, data, scientist]\n",
       "2        [i, am, from, achalpur]\n",
       "Name: My data, dtype: object"
      ]
     },
     "execution_count": 28,
     "metadata": {},
     "output_type": "execute_result"
    }
   ],
   "source": [
    "df['My data'].str.split()"
   ]
  },
  {
   "cell_type": "code",
   "execution_count": 3,
   "id": "5dc57336",
   "metadata": {},
   "outputs": [],
   "source": [
    "import nltk"
   ]
  },
  {
   "cell_type": "code",
   "execution_count": 4,
   "id": "95db9120",
   "metadata": {},
   "outputs": [],
   "source": [
    "from nltk.tokenize import word_tokenize, sent_tokenize"
   ]
  },
  {
   "cell_type": "code",
   "execution_count": 9,
   "id": "b244c107",
   "metadata": {},
   "outputs": [
    {
     "data": {
      "text/plain": [
       "['python', 'is', 'python']"
      ]
     },
     "execution_count": 9,
     "metadata": {},
     "output_type": "execute_result"
    }
   ],
   "source": [
    "word_tokenize(Name)"
   ]
  },
  {
   "cell_type": "code",
   "execution_count": 8,
   "id": "1ad5a5be",
   "metadata": {},
   "outputs": [
    {
     "name": "stderr",
     "output_type": "stream",
     "text": [
      "[nltk_data] Downloading package punkt to\n",
      "[nltk_data]     C:\\Users\\User\\AppData\\Roaming\\nltk_data...\n",
      "[nltk_data]   Unzipping tokenizers\\punkt.zip.\n"
     ]
    },
    {
     "data": {
      "text/plain": [
       "True"
      ]
     },
     "execution_count": 8,
     "metadata": {},
     "output_type": "execute_result"
    }
   ],
   "source": [
    "nltk.download('punkt')"
   ]
  },
  {
   "cell_type": "code",
   "execution_count": 11,
   "id": "7d4f71a6",
   "metadata": {},
   "outputs": [
    {
     "data": {
      "text/plain": [
       "['python', 'is', 'python']"
      ]
     },
     "execution_count": 11,
     "metadata": {},
     "output_type": "execute_result"
    }
   ],
   "source": [
    "word_tokenize(Name)"
   ]
  },
  {
   "cell_type": "code",
   "execution_count": 22,
   "id": "11775603",
   "metadata": {},
   "outputs": [
    {
     "data": {
      "text/plain": [
       "['python is python']"
      ]
     },
     "execution_count": 22,
     "metadata": {},
     "output_type": "execute_result"
    }
   ],
   "source": [
    "sent_tokenize(Name)"
   ]
  },
  {
   "cell_type": "markdown",
   "id": "5c6bfa84",
   "metadata": {},
   "source": [
    "### 3. Speeling Correctiomn"
   ]
  },
  {
   "cell_type": "markdown",
   "id": "ba13cd61",
   "metadata": {},
   "source": []
  },
  {
   "cell_type": "code",
   "execution_count": 41,
   "id": "c9f47103",
   "metadata": {},
   "outputs": [],
   "source": [
    "name = 'Helo wold i am a dara scientst'"
   ]
  },
  {
   "cell_type": "markdown",
   "id": "251e58c5",
   "metadata": {},
   "source": [
    "#### 1."
   ]
  },
  {
   "cell_type": "code",
   "execution_count": 27,
   "id": "bbbd9637",
   "metadata": {},
   "outputs": [],
   "source": [
    "from textblob import TextBlob"
   ]
  },
  {
   "cell_type": "code",
   "execution_count": 44,
   "id": "aa918eea",
   "metadata": {},
   "outputs": [],
   "source": [
    "txt = TextBlob(name)"
   ]
  },
  {
   "cell_type": "code",
   "execution_count": 45,
   "id": "bcb01506",
   "metadata": {},
   "outputs": [
    {
     "data": {
      "text/plain": [
       "TextBlob(\"Helo wold i am a dara scientst\")"
      ]
     },
     "execution_count": 45,
     "metadata": {},
     "output_type": "execute_result"
    }
   ],
   "source": [
    "txt"
   ]
  },
  {
   "cell_type": "markdown",
   "id": "cbe858c4",
   "metadata": {},
   "source": [
    "#### 2. "
   ]
  },
  {
   "cell_type": "code",
   "execution_count": 32,
   "id": "45ec339f",
   "metadata": {},
   "outputs": [],
   "source": [
    "import autocorrect"
   ]
  },
  {
   "cell_type": "code",
   "execution_count": 42,
   "id": "d2cbd75e",
   "metadata": {},
   "outputs": [],
   "source": [
    "spell = autocorrect.Speller()"
   ]
  },
  {
   "cell_type": "code",
   "execution_count": 48,
   "id": "c071ae95",
   "metadata": {},
   "outputs": [
    {
     "data": {
      "text/plain": [
       "'data scientist'"
      ]
     },
     "execution_count": 48,
     "metadata": {},
     "output_type": "execute_result"
    }
   ],
   "source": [
    "spell.autocorrect_sentence('dara scientist')"
   ]
  },
  {
   "cell_type": "code",
   "execution_count": 50,
   "id": "ea0580f4",
   "metadata": {},
   "outputs": [
    {
     "data": {
      "text/plain": [
       "'Held would i am a data scientist'"
      ]
     },
     "execution_count": 50,
     "metadata": {},
     "output_type": "execute_result"
    }
   ],
   "source": [
    "spell.autocorrect_sentence(name)"
   ]
  },
  {
   "cell_type": "markdown",
   "id": "6ec577ae",
   "metadata": {},
   "source": [
    "#### 4. Emoji Pridiction"
   ]
  },
  {
   "cell_type": "code",
   "execution_count": 51,
   "id": "0368bf82",
   "metadata": {},
   "outputs": [],
   "source": [
    "emoj = '🤩'"
   ]
  },
  {
   "cell_type": "code",
   "execution_count": 52,
   "id": "36d699fb",
   "metadata": {},
   "outputs": [
    {
     "data": {
      "text/plain": [
       "'🤩'"
      ]
     },
     "execution_count": 52,
     "metadata": {},
     "output_type": "execute_result"
    }
   ],
   "source": [
    "emoj"
   ]
  },
  {
   "cell_type": "code",
   "execution_count": 55,
   "id": "07cbb5bd",
   "metadata": {},
   "outputs": [],
   "source": [
    "import emoji"
   ]
  },
  {
   "cell_type": "code",
   "execution_count": 56,
   "id": "1769d9ca",
   "metadata": {},
   "outputs": [
    {
     "data": {
      "text/plain": [
       "':star-struck:'"
      ]
     },
     "execution_count": 56,
     "metadata": {},
     "output_type": "execute_result"
    }
   ],
   "source": [
    "emoji.demojize(emoj)"
   ]
  },
  {
   "cell_type": "code",
   "execution_count": 57,
   "id": "105bd23b",
   "metadata": {},
   "outputs": [],
   "source": [
    " emo = '😡'"
   ]
  },
  {
   "cell_type": "code",
   "execution_count": 60,
   "id": "5253a117",
   "metadata": {},
   "outputs": [
    {
     "data": {
      "text/plain": [
       "':enraged_face:'"
      ]
     },
     "execution_count": 60,
     "metadata": {},
     "output_type": "execute_result"
    }
   ],
   "source": [
    "emoji.demojize(emo)"
   ]
  },
  {
   "cell_type": "code",
   "execution_count": 59,
   "id": "68dd9b7c",
   "metadata": {},
   "outputs": [
    {
     "data": {
      "text/plain": [
       "'enraged_face'"
      ]
     },
     "execution_count": 59,
     "metadata": {},
     "output_type": "execute_result"
    }
   ],
   "source": [
    "emoji.demojize(emo).replace(':','')"
   ]
  },
  {
   "cell_type": "code",
   "execution_count": 65,
   "id": "b29ee0db",
   "metadata": {},
   "outputs": [],
   "source": [
    "em = '😁' "
   ]
  },
  {
   "cell_type": "code",
   "execution_count": 66,
   "id": "4886bec9",
   "metadata": {},
   "outputs": [
    {
     "data": {
      "text/plain": [
       "':beaming_face_with_smiling_eyes:'"
      ]
     },
     "execution_count": 66,
     "metadata": {},
     "output_type": "execute_result"
    }
   ],
   "source": [
    "emoji.demojize(em)"
   ]
  },
  {
   "cell_type": "code",
   "execution_count": 67,
   "id": "b792594e",
   "metadata": {},
   "outputs": [],
   "source": [
    "em = ['😁' , '😡']"
   ]
  },
  {
   "cell_type": "code",
   "execution_count": 68,
   "id": "a3005cba",
   "metadata": {},
   "outputs": [
    {
     "data": {
      "text/plain": [
       "':beaming_face_with_smiling_eyes::enraged_face:'"
      ]
     },
     "execution_count": 68,
     "metadata": {},
     "output_type": "execute_result"
    }
   ],
   "source": [
    "emoji.demojize(em)"
   ]
  },
  {
   "cell_type": "markdown",
   "id": "80a6b699",
   "metadata": {},
   "source": [
    "#### 5. HTML tags Handling"
   ]
  },
  {
   "cell_type": "code",
   "execution_count": 71,
   "id": "a147a72f",
   "metadata": {},
   "outputs": [],
   "source": [
    "text = '''<!DOCTYPE html>\n",
    "<html lang=\"en\">\n",
    "<head>\n",
    "    <meta charset=\"UTF-8\">\n",
    "    <meta name=\"viewport\" content=\"width=device-width, initial-scale=1.0\">\n",
    "    <title>Sample HTML Page</title>\n",
    "    <style>\n",
    "        body {\n",
    "            font-family: Arial, sans-serif;\n",
    "            line-height: 1.6;\n",
    "            \n",
    "        }\n",
    "        h1 {\n",
    "            color: #3366cc;\n",
    "        }\n",
    "        p {\n",
    "            color: #333;\n",
    "        }\n",
    "    </style>\n",
    "</head>\n",
    "<body>\n",
    "\n",
    "    <h1>Welcome to My Website</h1>\n",
    "\n",
    "    <p>This is a sample HTML page with some <strong>bold text</strong>, <em>italic text</em>, and a <a href=\"https://www.example.com\" target=\"_blank\">link</a>.</p>\n",
    "\n",
    "    <ul>\n",
    "        <li>List item 1</li>\n",
    "        <li>List item 2</li>\n",
    "        <li>List item 3</li>\n",
    "    </ul>\n",
    "\n",
    "    <p>Here's an image:</p>\n",
    "    <img src=\"https://via.placeholder.com/300\" alt=\"Placeholder Image\">\n",
    "\n",
    "    <p>Feel free to explore the content of this page!</p>\n",
    "\n",
    "</body>\n",
    "</html>\n",
    "'''"
   ]
  },
  {
   "cell_type": "code",
   "execution_count": 72,
   "id": "ab2dfa22",
   "metadata": {},
   "outputs": [
    {
     "data": {
      "text/plain": [
       "'<!DOCTYPE html>\\n<html lang=\"en\">\\n<head>\\n    <meta charset=\"UTF-8\">\\n    <meta name=\"viewport\" content=\"width=device-width, initial-scale=1.0\">\\n    <title>Sample HTML Page</title>\\n    <style>\\n        body {\\n            font-family: Arial, sans-serif;\\n            line-height: 1.6;\\n            \\n        }\\n        h1 {\\n            color: #3366cc;\\n        }\\n        p {\\n            color: #333;\\n        }\\n    </style>\\n</head>\\n<body>\\n\\n    <h1>Welcome to My Website</h1>\\n\\n    <p>This is a sample HTML page with some <strong>bold text</strong>, <em>italic text</em>, and a <a href=\"https://www.example.com\" target=\"_blank\">link</a>.</p>\\n\\n    <ul>\\n        <li>List item 1</li>\\n        <li>List item 2</li>\\n        <li>List item 3</li>\\n    </ul>\\n\\n    <p>Here\\'s an image:</p>\\n    <img src=\"https://via.placeholder.com/300\" alt=\"Placeholder Image\">\\n\\n    <p>Feel free to explore the content of this page!</p>\\n\\n</body>\\n</html>\\n'"
      ]
     },
     "execution_count": 72,
     "metadata": {},
     "output_type": "execute_result"
    }
   ],
   "source": [
    "text"
   ]
  },
  {
   "cell_type": "code",
   "execution_count": 73,
   "id": "c5f73940",
   "metadata": {},
   "outputs": [],
   "source": [
    "import re"
   ]
  },
  {
   "cell_type": "code",
   "execution_count": 78,
   "id": "88c0d9e9",
   "metadata": {},
   "outputs": [
    {
     "data": {
      "text/plain": [
       "['<!DOCTYPE html>',\n",
       " '<html lang=\"en\">',\n",
       " '<head>',\n",
       " '<meta charset=\"UTF-8\">',\n",
       " '<meta name=\"viewport\" content=\"width=device-width, initial-scale=1.0\">',\n",
       " '<title>',\n",
       " '</title>',\n",
       " '<style>',\n",
       " '</style>',\n",
       " '</head>',\n",
       " '<body>',\n",
       " '<h1>',\n",
       " '</h1>',\n",
       " '<p>',\n",
       " '<strong>',\n",
       " '</strong>',\n",
       " '<em>',\n",
       " '</em>',\n",
       " '<a href=\"https://www.example.com\" target=\"_blank\">',\n",
       " '</a>',\n",
       " '</p>',\n",
       " '<ul>',\n",
       " '<li>',\n",
       " '</li>',\n",
       " '<li>',\n",
       " '</li>',\n",
       " '<li>',\n",
       " '</li>',\n",
       " '</ul>',\n",
       " '<p>',\n",
       " '</p>',\n",
       " '<img src=\"https://via.placeholder.com/300\" alt=\"Placeholder Image\">',\n",
       " '<p>',\n",
       " '</p>',\n",
       " '</body>',\n",
       " '</html>']"
      ]
     },
     "execution_count": 78,
     "metadata": {},
     "output_type": "execute_result"
    }
   ],
   "source": [
    "re.findall(r'<[^>]+>', text)"
   ]
  },
  {
   "cell_type": "code",
   "execution_count": 81,
   "id": "208cb829",
   "metadata": {},
   "outputs": [
    {
     "name": "stdout",
     "output_type": "stream",
     "text": [
      "\n",
      "\n",
      "\n",
      "    \n",
      "    \n",
      "    Sample HTML Page\n",
      "    \n",
      "        body {\n",
      "            font-family: Arial, sans-serif;\n",
      "            line-height: 1.6;\n",
      "            \n",
      "        }\n",
      "        h1 {\n",
      "            color: #3366cc;\n",
      "        }\n",
      "        p {\n",
      "            color: #333;\n",
      "        }\n",
      "    \n",
      "\n",
      "\n",
      "\n",
      "    Welcome to My Website\n",
      "\n",
      "    This is a sample HTML page with some bold text, italic text, and a link.\n",
      "\n",
      "    \n",
      "        List item 1\n",
      "        List item 2\n",
      "        List item 3\n",
      "    \n",
      "\n",
      "    Here's an image:\n",
      "    \n",
      "\n",
      "    Feel free to explore the content of this page!\n",
      "\n",
      "\n",
      "\n",
      "\n"
     ]
    }
   ],
   "source": [
    "print(re.sub(r'<[^>]+>','' ,text))"
   ]
  },
  {
   "cell_type": "markdown",
   "id": "e142c61b",
   "metadata": {},
   "source": [
    "#### 6. Finding URLs"
   ]
  },
  {
   "cell_type": "code",
   "execution_count": 82,
   "id": "96fde293",
   "metadata": {},
   "outputs": [],
   "source": [
    "name = 'frequently i am using www.fb.com'"
   ]
  },
  {
   "cell_type": "code",
   "execution_count": 83,
   "id": "0b193191",
   "metadata": {},
   "outputs": [
    {
     "data": {
      "text/plain": [
       "['www.fb.com']"
      ]
     },
     "execution_count": 83,
     "metadata": {},
     "output_type": "execute_result"
    }
   ],
   "source": [
    "re.findall(r'www.\\S+' , name)"
   ]
  },
  {
   "cell_type": "code",
   "execution_count": 86,
   "id": "9eec3540",
   "metadata": {},
   "outputs": [
    {
     "data": {
      "text/plain": [
       "'frequently i am using Facebook'"
      ]
     },
     "execution_count": 86,
     "metadata": {},
     "output_type": "execute_result"
    }
   ],
   "source": [
    "re.sub(r'www.\\S+' ,'Facebook', name)"
   ]
  },
  {
   "cell_type": "code",
   "execution_count": null,
   "id": "5f9e602b",
   "metadata": {},
   "outputs": [],
   "source": []
  },
  {
   "cell_type": "code",
   "execution_count": 92,
   "id": "24802e13",
   "metadata": {},
   "outputs": [
    {
     "data": {
      "text/plain": [
       "['www.fb.com ', ' http://insta.com']"
      ]
     },
     "execution_count": 92,
     "metadata": {},
     "output_type": "execute_result"
    }
   ],
   "source": [
    "re.findall(r'www.\\S+ | https?://\\S+' , name)"
   ]
  },
  {
   "cell_type": "code",
   "execution_count": 95,
   "id": "5584b0c7",
   "metadata": {},
   "outputs": [
    {
     "data": {
      "text/plain": [
       "'frequently i am using and'"
      ]
     },
     "execution_count": 95,
     "metadata": {},
     "output_type": "execute_result"
    }
   ],
   "source": [
    "re.sub(r'www.\\S+ | https?://\\S+' , '' , name)"
   ]
  },
  {
   "cell_type": "markdown",
   "id": "45719f33",
   "metadata": {},
   "source": [
    "#### 7. Puntuations "
   ]
  },
  {
   "cell_type": "code",
   "execution_count": 116,
   "id": "d75e77fa",
   "metadata": {},
   "outputs": [],
   "source": [
    "name = 'Yesyterday, i went to@ resutrant with my# friend '"
   ]
  },
  {
   "cell_type": "code",
   "execution_count": 117,
   "id": "4b56310d",
   "metadata": {},
   "outputs": [
    {
     "data": {
      "text/plain": [
       "[', ', '@ ', '# ']"
      ]
     },
     "execution_count": 117,
     "metadata": {},
     "output_type": "execute_result"
    }
   ],
   "source": [
    "re.findall(r'[^a-zA-z0-9] ', name)"
   ]
  },
  {
   "cell_type": "markdown",
   "id": "f42ee150",
   "metadata": {},
   "source": [
    "#### 8. Numbers handling"
   ]
  },
  {
   "cell_type": "code",
   "execution_count": null,
   "id": "8db7de61",
   "metadata": {},
   "outputs": [],
   "source": []
  },
  {
   "cell_type": "code",
   "execution_count": null,
   "id": "2d4b9ad8",
   "metadata": {},
   "outputs": [],
   "source": []
  },
  {
   "cell_type": "markdown",
   "id": "b0443df7",
   "metadata": {},
   "source": [
    "#### 9. REmoval of Stop words"
   ]
  },
  {
   "cell_type": "code",
   "execution_count": 118,
   "id": "513a1abb",
   "metadata": {},
   "outputs": [],
   "source": [
    "name = 'python and java are the programming languages'"
   ]
  },
  {
   "cell_type": "code",
   "execution_count": 120,
   "id": "95385996",
   "metadata": {},
   "outputs": [],
   "source": [
    "from nltk.corpus import stopwords"
   ]
  },
  {
   "cell_type": "code",
   "execution_count": 121,
   "id": "01c94706",
   "metadata": {},
   "outputs": [
    {
     "ename": "LookupError",
     "evalue": "\n**********************************************************************\n  Resource \u001b[93mstopwords\u001b[0m not found.\n  Please use the NLTK Downloader to obtain the resource:\n\n  \u001b[31m>>> import nltk\n  >>> nltk.download('stopwords')\n  \u001b[0m\n  For more information see: https://www.nltk.org/data.html\n\n  Attempted to load \u001b[93mcorpora/stopwords\u001b[0m\n\n  Searched in:\n    - 'C:\\\\Users\\\\User/nltk_data'\n    - 'C:\\\\Users\\\\User\\\\anaconda3\\\\envs\\\\Python\\\\nltk_data'\n    - 'C:\\\\Users\\\\User\\\\anaconda3\\\\envs\\\\Python\\\\share\\\\nltk_data'\n    - 'C:\\\\Users\\\\User\\\\anaconda3\\\\envs\\\\Python\\\\lib\\\\nltk_data'\n    - 'C:\\\\Users\\\\User\\\\AppData\\\\Roaming\\\\nltk_data'\n    - 'C:\\\\nltk_data'\n    - 'D:\\\\nltk_data'\n    - 'E:\\\\nltk_data'\n**********************************************************************\n",
     "output_type": "error",
     "traceback": [
      "\u001b[1;31m---------------------------------------------------------------------------\u001b[0m",
      "\u001b[1;31mLookupError\u001b[0m                               Traceback (most recent call last)",
      "File \u001b[1;32m~\\anaconda3\\envs\\Python\\Lib\\site-packages\\nltk\\corpus\\util.py:84\u001b[0m, in \u001b[0;36mLazyCorpusLoader.__load\u001b[1;34m(self)\u001b[0m\n\u001b[0;32m     83\u001b[0m \u001b[38;5;28;01mtry\u001b[39;00m:\n\u001b[1;32m---> 84\u001b[0m     root \u001b[38;5;241m=\u001b[39m nltk\u001b[38;5;241m.\u001b[39mdata\u001b[38;5;241m.\u001b[39mfind(\u001b[38;5;124mf\u001b[39m\u001b[38;5;124m\"\u001b[39m\u001b[38;5;132;01m{\u001b[39;00m\u001b[38;5;28mself\u001b[39m\u001b[38;5;241m.\u001b[39msubdir\u001b[38;5;132;01m}\u001b[39;00m\u001b[38;5;124m/\u001b[39m\u001b[38;5;132;01m{\u001b[39;00mzip_name\u001b[38;5;132;01m}\u001b[39;00m\u001b[38;5;124m\"\u001b[39m)\n\u001b[0;32m     85\u001b[0m \u001b[38;5;28;01mexcept\u001b[39;00m \u001b[38;5;167;01mLookupError\u001b[39;00m:\n",
      "File \u001b[1;32m~\\anaconda3\\envs\\Python\\Lib\\site-packages\\nltk\\data.py:583\u001b[0m, in \u001b[0;36mfind\u001b[1;34m(resource_name, paths)\u001b[0m\n\u001b[0;32m    582\u001b[0m resource_not_found \u001b[38;5;241m=\u001b[39m \u001b[38;5;124mf\u001b[39m\u001b[38;5;124m\"\u001b[39m\u001b[38;5;130;01m\\n\u001b[39;00m\u001b[38;5;132;01m{\u001b[39;00msep\u001b[38;5;132;01m}\u001b[39;00m\u001b[38;5;130;01m\\n\u001b[39;00m\u001b[38;5;132;01m{\u001b[39;00mmsg\u001b[38;5;132;01m}\u001b[39;00m\u001b[38;5;130;01m\\n\u001b[39;00m\u001b[38;5;132;01m{\u001b[39;00msep\u001b[38;5;132;01m}\u001b[39;00m\u001b[38;5;130;01m\\n\u001b[39;00m\u001b[38;5;124m\"\u001b[39m\n\u001b[1;32m--> 583\u001b[0m \u001b[38;5;28;01mraise\u001b[39;00m \u001b[38;5;167;01mLookupError\u001b[39;00m(resource_not_found)\n",
      "\u001b[1;31mLookupError\u001b[0m: \n**********************************************************************\n  Resource \u001b[93mstopwords\u001b[0m not found.\n  Please use the NLTK Downloader to obtain the resource:\n\n  \u001b[31m>>> import nltk\n  >>> nltk.download('stopwords')\n  \u001b[0m\n  For more information see: https://www.nltk.org/data.html\n\n  Attempted to load \u001b[93mcorpora/stopwords.zip/stopwords/\u001b[0m\n\n  Searched in:\n    - 'C:\\\\Users\\\\User/nltk_data'\n    - 'C:\\\\Users\\\\User\\\\anaconda3\\\\envs\\\\Python\\\\nltk_data'\n    - 'C:\\\\Users\\\\User\\\\anaconda3\\\\envs\\\\Python\\\\share\\\\nltk_data'\n    - 'C:\\\\Users\\\\User\\\\anaconda3\\\\envs\\\\Python\\\\lib\\\\nltk_data'\n    - 'C:\\\\Users\\\\User\\\\AppData\\\\Roaming\\\\nltk_data'\n    - 'C:\\\\nltk_data'\n    - 'D:\\\\nltk_data'\n    - 'E:\\\\nltk_data'\n**********************************************************************\n",
      "\nDuring handling of the above exception, another exception occurred:\n",
      "\u001b[1;31mLookupError\u001b[0m                               Traceback (most recent call last)",
      "Cell \u001b[1;32mIn[121], line 1\u001b[0m\n\u001b[1;32m----> 1\u001b[0m stopwords\u001b[38;5;241m.\u001b[39mwords(\u001b[38;5;124m'\u001b[39m\u001b[38;5;124menglish\u001b[39m\u001b[38;5;124m'\u001b[39m)\n",
      "File \u001b[1;32m~\\anaconda3\\envs\\Python\\Lib\\site-packages\\nltk\\corpus\\util.py:121\u001b[0m, in \u001b[0;36mLazyCorpusLoader.__getattr__\u001b[1;34m(self, attr)\u001b[0m\n\u001b[0;32m    118\u001b[0m \u001b[38;5;28;01mif\u001b[39;00m attr \u001b[38;5;241m==\u001b[39m \u001b[38;5;124m\"\u001b[39m\u001b[38;5;124m__bases__\u001b[39m\u001b[38;5;124m\"\u001b[39m:\n\u001b[0;32m    119\u001b[0m     \u001b[38;5;28;01mraise\u001b[39;00m \u001b[38;5;167;01mAttributeError\u001b[39;00m(\u001b[38;5;124m\"\u001b[39m\u001b[38;5;124mLazyCorpusLoader object has no attribute \u001b[39m\u001b[38;5;124m'\u001b[39m\u001b[38;5;124m__bases__\u001b[39m\u001b[38;5;124m'\u001b[39m\u001b[38;5;124m\"\u001b[39m)\n\u001b[1;32m--> 121\u001b[0m \u001b[38;5;28mself\u001b[39m\u001b[38;5;241m.\u001b[39m__load()\n\u001b[0;32m    122\u001b[0m \u001b[38;5;66;03m# This looks circular, but its not, since __load() changes our\u001b[39;00m\n\u001b[0;32m    123\u001b[0m \u001b[38;5;66;03m# __class__ to something new:\u001b[39;00m\n\u001b[0;32m    124\u001b[0m \u001b[38;5;28;01mreturn\u001b[39;00m \u001b[38;5;28mgetattr\u001b[39m(\u001b[38;5;28mself\u001b[39m, attr)\n",
      "File \u001b[1;32m~\\anaconda3\\envs\\Python\\Lib\\site-packages\\nltk\\corpus\\util.py:86\u001b[0m, in \u001b[0;36mLazyCorpusLoader.__load\u001b[1;34m(self)\u001b[0m\n\u001b[0;32m     84\u001b[0m             root \u001b[38;5;241m=\u001b[39m nltk\u001b[38;5;241m.\u001b[39mdata\u001b[38;5;241m.\u001b[39mfind(\u001b[38;5;124mf\u001b[39m\u001b[38;5;124m\"\u001b[39m\u001b[38;5;132;01m{\u001b[39;00m\u001b[38;5;28mself\u001b[39m\u001b[38;5;241m.\u001b[39msubdir\u001b[38;5;132;01m}\u001b[39;00m\u001b[38;5;124m/\u001b[39m\u001b[38;5;132;01m{\u001b[39;00mzip_name\u001b[38;5;132;01m}\u001b[39;00m\u001b[38;5;124m\"\u001b[39m)\n\u001b[0;32m     85\u001b[0m         \u001b[38;5;28;01mexcept\u001b[39;00m \u001b[38;5;167;01mLookupError\u001b[39;00m:\n\u001b[1;32m---> 86\u001b[0m             \u001b[38;5;28;01mraise\u001b[39;00m e\n\u001b[0;32m     88\u001b[0m \u001b[38;5;66;03m# Load the corpus.\u001b[39;00m\n\u001b[0;32m     89\u001b[0m corpus \u001b[38;5;241m=\u001b[39m \u001b[38;5;28mself\u001b[39m\u001b[38;5;241m.\u001b[39m__reader_cls(root, \u001b[38;5;241m*\u001b[39m\u001b[38;5;28mself\u001b[39m\u001b[38;5;241m.\u001b[39m__args, \u001b[38;5;241m*\u001b[39m\u001b[38;5;241m*\u001b[39m\u001b[38;5;28mself\u001b[39m\u001b[38;5;241m.\u001b[39m__kwargs)\n",
      "File \u001b[1;32m~\\anaconda3\\envs\\Python\\Lib\\site-packages\\nltk\\corpus\\util.py:81\u001b[0m, in \u001b[0;36mLazyCorpusLoader.__load\u001b[1;34m(self)\u001b[0m\n\u001b[0;32m     79\u001b[0m \u001b[38;5;28;01melse\u001b[39;00m:\n\u001b[0;32m     80\u001b[0m     \u001b[38;5;28;01mtry\u001b[39;00m:\n\u001b[1;32m---> 81\u001b[0m         root \u001b[38;5;241m=\u001b[39m nltk\u001b[38;5;241m.\u001b[39mdata\u001b[38;5;241m.\u001b[39mfind(\u001b[38;5;124mf\u001b[39m\u001b[38;5;124m\"\u001b[39m\u001b[38;5;132;01m{\u001b[39;00m\u001b[38;5;28mself\u001b[39m\u001b[38;5;241m.\u001b[39msubdir\u001b[38;5;132;01m}\u001b[39;00m\u001b[38;5;124m/\u001b[39m\u001b[38;5;132;01m{\u001b[39;00m\u001b[38;5;28mself\u001b[39m\u001b[38;5;241m.\u001b[39m__name\u001b[38;5;132;01m}\u001b[39;00m\u001b[38;5;124m\"\u001b[39m)\n\u001b[0;32m     82\u001b[0m     \u001b[38;5;28;01mexcept\u001b[39;00m \u001b[38;5;167;01mLookupError\u001b[39;00m \u001b[38;5;28;01mas\u001b[39;00m e:\n\u001b[0;32m     83\u001b[0m         \u001b[38;5;28;01mtry\u001b[39;00m:\n",
      "File \u001b[1;32m~\\anaconda3\\envs\\Python\\Lib\\site-packages\\nltk\\data.py:583\u001b[0m, in \u001b[0;36mfind\u001b[1;34m(resource_name, paths)\u001b[0m\n\u001b[0;32m    581\u001b[0m sep \u001b[38;5;241m=\u001b[39m \u001b[38;5;124m\"\u001b[39m\u001b[38;5;124m*\u001b[39m\u001b[38;5;124m\"\u001b[39m \u001b[38;5;241m*\u001b[39m \u001b[38;5;241m70\u001b[39m\n\u001b[0;32m    582\u001b[0m resource_not_found \u001b[38;5;241m=\u001b[39m \u001b[38;5;124mf\u001b[39m\u001b[38;5;124m\"\u001b[39m\u001b[38;5;130;01m\\n\u001b[39;00m\u001b[38;5;132;01m{\u001b[39;00msep\u001b[38;5;132;01m}\u001b[39;00m\u001b[38;5;130;01m\\n\u001b[39;00m\u001b[38;5;132;01m{\u001b[39;00mmsg\u001b[38;5;132;01m}\u001b[39;00m\u001b[38;5;130;01m\\n\u001b[39;00m\u001b[38;5;132;01m{\u001b[39;00msep\u001b[38;5;132;01m}\u001b[39;00m\u001b[38;5;130;01m\\n\u001b[39;00m\u001b[38;5;124m\"\u001b[39m\n\u001b[1;32m--> 583\u001b[0m \u001b[38;5;28;01mraise\u001b[39;00m \u001b[38;5;167;01mLookupError\u001b[39;00m(resource_not_found)\n",
      "\u001b[1;31mLookupError\u001b[0m: \n**********************************************************************\n  Resource \u001b[93mstopwords\u001b[0m not found.\n  Please use the NLTK Downloader to obtain the resource:\n\n  \u001b[31m>>> import nltk\n  >>> nltk.download('stopwords')\n  \u001b[0m\n  For more information see: https://www.nltk.org/data.html\n\n  Attempted to load \u001b[93mcorpora/stopwords\u001b[0m\n\n  Searched in:\n    - 'C:\\\\Users\\\\User/nltk_data'\n    - 'C:\\\\Users\\\\User\\\\anaconda3\\\\envs\\\\Python\\\\nltk_data'\n    - 'C:\\\\Users\\\\User\\\\anaconda3\\\\envs\\\\Python\\\\share\\\\nltk_data'\n    - 'C:\\\\Users\\\\User\\\\anaconda3\\\\envs\\\\Python\\\\lib\\\\nltk_data'\n    - 'C:\\\\Users\\\\User\\\\AppData\\\\Roaming\\\\nltk_data'\n    - 'C:\\\\nltk_data'\n    - 'D:\\\\nltk_data'\n    - 'E:\\\\nltk_data'\n**********************************************************************\n"
     ]
    }
   ],
   "source": [
    "stopwords.words('english')"
   ]
  },
  {
   "cell_type": "code",
   "execution_count": 122,
   "id": "9dea90f3",
   "metadata": {},
   "outputs": [
    {
     "name": "stderr",
     "output_type": "stream",
     "text": [
      "[nltk_data] Downloading package stopwords to\n",
      "[nltk_data]     C:\\Users\\User\\AppData\\Roaming\\nltk_data...\n",
      "[nltk_data]   Unzipping corpora\\stopwords.zip.\n"
     ]
    },
    {
     "data": {
      "text/plain": [
       "True"
      ]
     },
     "execution_count": 122,
     "metadata": {},
     "output_type": "execute_result"
    }
   ],
   "source": [
    "nltk.download('stopwords')"
   ]
  },
  {
   "cell_type": "code",
   "execution_count": 123,
   "id": "daa471d9",
   "metadata": {},
   "outputs": [
    {
     "data": {
      "text/plain": [
       "['i',\n",
       " 'me',\n",
       " 'my',\n",
       " 'myself',\n",
       " 'we',\n",
       " 'our',\n",
       " 'ours',\n",
       " 'ourselves',\n",
       " 'you',\n",
       " \"you're\",\n",
       " \"you've\",\n",
       " \"you'll\",\n",
       " \"you'd\",\n",
       " 'your',\n",
       " 'yours',\n",
       " 'yourself',\n",
       " 'yourselves',\n",
       " 'he',\n",
       " 'him',\n",
       " 'his',\n",
       " 'himself',\n",
       " 'she',\n",
       " \"she's\",\n",
       " 'her',\n",
       " 'hers',\n",
       " 'herself',\n",
       " 'it',\n",
       " \"it's\",\n",
       " 'its',\n",
       " 'itself',\n",
       " 'they',\n",
       " 'them',\n",
       " 'their',\n",
       " 'theirs',\n",
       " 'themselves',\n",
       " 'what',\n",
       " 'which',\n",
       " 'who',\n",
       " 'whom',\n",
       " 'this',\n",
       " 'that',\n",
       " \"that'll\",\n",
       " 'these',\n",
       " 'those',\n",
       " 'am',\n",
       " 'is',\n",
       " 'are',\n",
       " 'was',\n",
       " 'were',\n",
       " 'be',\n",
       " 'been',\n",
       " 'being',\n",
       " 'have',\n",
       " 'has',\n",
       " 'had',\n",
       " 'having',\n",
       " 'do',\n",
       " 'does',\n",
       " 'did',\n",
       " 'doing',\n",
       " 'a',\n",
       " 'an',\n",
       " 'the',\n",
       " 'and',\n",
       " 'but',\n",
       " 'if',\n",
       " 'or',\n",
       " 'because',\n",
       " 'as',\n",
       " 'until',\n",
       " 'while',\n",
       " 'of',\n",
       " 'at',\n",
       " 'by',\n",
       " 'for',\n",
       " 'with',\n",
       " 'about',\n",
       " 'against',\n",
       " 'between',\n",
       " 'into',\n",
       " 'through',\n",
       " 'during',\n",
       " 'before',\n",
       " 'after',\n",
       " 'above',\n",
       " 'below',\n",
       " 'to',\n",
       " 'from',\n",
       " 'up',\n",
       " 'down',\n",
       " 'in',\n",
       " 'out',\n",
       " 'on',\n",
       " 'off',\n",
       " 'over',\n",
       " 'under',\n",
       " 'again',\n",
       " 'further',\n",
       " 'then',\n",
       " 'once',\n",
       " 'here',\n",
       " 'there',\n",
       " 'when',\n",
       " 'where',\n",
       " 'why',\n",
       " 'how',\n",
       " 'all',\n",
       " 'any',\n",
       " 'both',\n",
       " 'each',\n",
       " 'few',\n",
       " 'more',\n",
       " 'most',\n",
       " 'other',\n",
       " 'some',\n",
       " 'such',\n",
       " 'no',\n",
       " 'nor',\n",
       " 'not',\n",
       " 'only',\n",
       " 'own',\n",
       " 'same',\n",
       " 'so',\n",
       " 'than',\n",
       " 'too',\n",
       " 'very',\n",
       " 's',\n",
       " 't',\n",
       " 'can',\n",
       " 'will',\n",
       " 'just',\n",
       " 'don',\n",
       " \"don't\",\n",
       " 'should',\n",
       " \"should've\",\n",
       " 'now',\n",
       " 'd',\n",
       " 'll',\n",
       " 'm',\n",
       " 'o',\n",
       " 're',\n",
       " 've',\n",
       " 'y',\n",
       " 'ain',\n",
       " 'aren',\n",
       " \"aren't\",\n",
       " 'couldn',\n",
       " \"couldn't\",\n",
       " 'didn',\n",
       " \"didn't\",\n",
       " 'doesn',\n",
       " \"doesn't\",\n",
       " 'hadn',\n",
       " \"hadn't\",\n",
       " 'hasn',\n",
       " \"hasn't\",\n",
       " 'haven',\n",
       " \"haven't\",\n",
       " 'isn',\n",
       " \"isn't\",\n",
       " 'ma',\n",
       " 'mightn',\n",
       " \"mightn't\",\n",
       " 'mustn',\n",
       " \"mustn't\",\n",
       " 'needn',\n",
       " \"needn't\",\n",
       " 'shan',\n",
       " \"shan't\",\n",
       " 'shouldn',\n",
       " \"shouldn't\",\n",
       " 'wasn',\n",
       " \"wasn't\",\n",
       " 'weren',\n",
       " \"weren't\",\n",
       " 'won',\n",
       " \"won't\",\n",
       " 'wouldn',\n",
       " \"wouldn't\"]"
      ]
     },
     "execution_count": 123,
     "metadata": {},
     "output_type": "execute_result"
    }
   ],
   "source": [
    "stopwords.words('english')"
   ]
  },
  {
   "cell_type": "code",
   "execution_count": 141,
   "id": "23cb7bd5",
   "metadata": {},
   "outputs": [],
   "source": [
    "text = '''Python is a high-level, general-purpose programming language. Its design philosophy emphasizes code readability with the use of significant indentation. Python is dynamically typed and garbage-collected. It supports multiple programming paradigms, including structured, object-oriented and functional programming.'''"
   ]
  },
  {
   "cell_type": "code",
   "execution_count": 142,
   "id": "4a718bf4",
   "metadata": {},
   "outputs": [],
   "source": [
    "t = text.lower().split()"
   ]
  },
  {
   "cell_type": "code",
   "execution_count": 143,
   "id": "70007bd3",
   "metadata": {},
   "outputs": [
    {
     "data": {
      "text/plain": [
       "['python',\n",
       " 'is',\n",
       " 'a',\n",
       " 'high-level,',\n",
       " 'general-purpose',\n",
       " 'programming',\n",
       " 'language.',\n",
       " 'its',\n",
       " 'design',\n",
       " 'philosophy',\n",
       " 'emphasizes',\n",
       " 'code',\n",
       " 'readability',\n",
       " 'with',\n",
       " 'the',\n",
       " 'use',\n",
       " 'of',\n",
       " 'significant',\n",
       " 'indentation.',\n",
       " 'python',\n",
       " 'is',\n",
       " 'dynamically',\n",
       " 'typed',\n",
       " 'and',\n",
       " 'garbage-collected.',\n",
       " 'it',\n",
       " 'supports',\n",
       " 'multiple',\n",
       " 'programming',\n",
       " 'paradigms,',\n",
       " 'including',\n",
       " 'structured,',\n",
       " 'object-oriented',\n",
       " 'and',\n",
       " 'functional',\n",
       " 'programming.']"
      ]
     },
     "execution_count": 143,
     "metadata": {},
     "output_type": "execute_result"
    }
   ],
   "source": [
    "t"
   ]
  },
  {
   "cell_type": "code",
   "execution_count": 128,
   "id": "1089d29f",
   "metadata": {},
   "outputs": [],
   "source": [
    "info = []\n",
    "for i in t:\n",
    "    if i not in stopwords.words('english'):\n",
    "        info.append(i)"
   ]
  },
  {
   "cell_type": "code",
   "execution_count": 129,
   "id": "ca14e7e1",
   "metadata": {},
   "outputs": [
    {
     "data": {
      "text/plain": [
       "['python',\n",
       " 'high-level,',\n",
       " 'general-purpose',\n",
       " 'programming',\n",
       " 'language.',\n",
       " 'design',\n",
       " 'philosophy',\n",
       " 'emphasizes',\n",
       " 'code',\n",
       " 'readability',\n",
       " 'use',\n",
       " 'significant',\n",
       " 'indentation.',\n",
       " 'python',\n",
       " 'dynamically',\n",
       " 'typed',\n",
       " 'garbage-collected.',\n",
       " 'supports',\n",
       " 'multiple',\n",
       " 'programming',\n",
       " 'paradigms,',\n",
       " 'including',\n",
       " 'structured,',\n",
       " 'object-oriented',\n",
       " 'functional',\n",
       " 'programming.']"
      ]
     },
     "execution_count": 129,
     "metadata": {},
     "output_type": "execute_result"
    }
   ],
   "source": [
    "info"
   ]
  },
  {
   "cell_type": "markdown",
   "id": "0ba545f7",
   "metadata": {},
   "source": [
    "#### 10. Stemming and Lemmatization"
   ]
  },
  {
   "cell_type": "markdown",
   "id": "d8b2488d",
   "metadata": {},
   "source": [
    "##### 1. Stemming"
   ]
  },
  {
   "cell_type": "code",
   "execution_count": 131,
   "id": "58cdf3f8",
   "metadata": {},
   "outputs": [],
   "source": [
    "from nltk.stem import PorterStemmer"
   ]
  },
  {
   "cell_type": "code",
   "execution_count": 133,
   "id": "a2083715",
   "metadata": {},
   "outputs": [],
   "source": [
    "stemmer = PorterStemmer()"
   ]
  },
  {
   "cell_type": "code",
   "execution_count": 134,
   "id": "594d7df6",
   "metadata": {},
   "outputs": [
    {
     "data": {
      "text/plain": [
       "'play'"
      ]
     },
     "execution_count": 134,
     "metadata": {},
     "output_type": "execute_result"
    }
   ],
   "source": [
    "stemmer.stem('Playing')"
   ]
  },
  {
   "cell_type": "code",
   "execution_count": 135,
   "id": "ea7f6df6",
   "metadata": {},
   "outputs": [
    {
     "data": {
      "text/plain": [
       "'play'"
      ]
     },
     "execution_count": 135,
     "metadata": {},
     "output_type": "execute_result"
    }
   ],
   "source": [
    "stemmer.stem('Played')"
   ]
  },
  {
   "cell_type": "code",
   "execution_count": 136,
   "id": "cf1ae60c",
   "metadata": {},
   "outputs": [
    {
     "data": {
      "text/plain": [
       "'preprocess'"
      ]
     },
     "execution_count": 136,
     "metadata": {},
     "output_type": "execute_result"
    }
   ],
   "source": [
    "stemmer.stem('Preprocessing')"
   ]
  },
  {
   "cell_type": "code",
   "execution_count": 137,
   "id": "730039c5",
   "metadata": {},
   "outputs": [
    {
     "data": {
      "text/plain": [
       "'goe'"
      ]
     },
     "execution_count": 137,
     "metadata": {},
     "output_type": "execute_result"
    }
   ],
   "source": [
    "stemmer.stem('goes')       # to handle this challenges we'll  use lammentization"
   ]
  },
  {
   "cell_type": "markdown",
   "id": "1818ea85",
   "metadata": {},
   "source": [
    "##### 2. Lemmatization"
   ]
  },
  {
   "cell_type": "code",
   "execution_count": 145,
   "id": "e0d5a4b5",
   "metadata": {},
   "outputs": [],
   "source": [
    "from nltk.stem import WordNetLemmatizer"
   ]
  },
  {
   "cell_type": "code",
   "execution_count": 146,
   "id": "25184fe8",
   "metadata": {},
   "outputs": [],
   "source": [
    "lem = WordNetLemmatizer()"
   ]
  },
  {
   "cell_type": "code",
   "execution_count": 152,
   "id": "ef6e60f6",
   "metadata": {},
   "outputs": [
    {
     "data": {
      "text/plain": [
       "'go'"
      ]
     },
     "execution_count": 152,
     "metadata": {},
     "output_type": "execute_result"
    }
   ],
   "source": [
    "lem.lemmatize('goes')"
   ]
  },
  {
   "cell_type": "code",
   "execution_count": 153,
   "id": "117b18f4",
   "metadata": {},
   "outputs": [
    {
     "data": {
      "text/plain": [
       "'cleaning'"
      ]
     },
     "execution_count": 153,
     "metadata": {},
     "output_type": "execute_result"
    }
   ],
   "source": [
    "lem.lemmatize('cleaning')"
   ]
  },
  {
   "cell_type": "code",
   "execution_count": 150,
   "id": "247e16f9",
   "metadata": {},
   "outputs": [
    {
     "name": "stderr",
     "output_type": "stream",
     "text": [
      "[nltk_data] Downloading package wordnet to\n",
      "[nltk_data]     C:\\Users\\User\\AppData\\Roaming\\nltk_data...\n"
     ]
    },
    {
     "data": {
      "text/plain": [
       "True"
      ]
     },
     "execution_count": 150,
     "metadata": {},
     "output_type": "execute_result"
    }
   ],
   "source": [
    "nltk.download('wordnet')"
   ]
  },
  {
   "cell_type": "code",
   "execution_count": null,
   "id": "ad0a5950",
   "metadata": {},
   "outputs": [],
   "source": []
  },
  {
   "cell_type": "code",
   "execution_count": null,
   "id": "b13aa0ee",
   "metadata": {},
   "outputs": [],
   "source": []
  },
  {
   "cell_type": "code",
   "execution_count": 1,
   "id": "5103e48a",
   "metadata": {},
   "outputs": [],
   "source": [
    "from nltk.stem import PorterStemmer , LancasterStemmer , SnowballStemmer , WordNetLemmatizer"
   ]
  },
  {
   "cell_type": "code",
   "execution_count": 3,
   "id": "93b2765a",
   "metadata": {},
   "outputs": [],
   "source": [
    "n = \"acknowledgment\""
   ]
  },
  {
   "cell_type": "code",
   "execution_count": 2,
   "id": "80c22da5",
   "metadata": {},
   "outputs": [],
   "source": [
    "port = PorterStemmer()"
   ]
  },
  {
   "cell_type": "code",
   "execution_count": 4,
   "id": "0d8bde57",
   "metadata": {},
   "outputs": [
    {
     "data": {
      "text/plain": [
       "'acknowledg'"
      ]
     },
     "execution_count": 4,
     "metadata": {},
     "output_type": "execute_result"
    }
   ],
   "source": [
    "port.stem(n)"
   ]
  },
  {
   "cell_type": "code",
   "execution_count": 5,
   "id": "43abbca2",
   "metadata": {},
   "outputs": [],
   "source": [
    "lan = LancasterStemmer()"
   ]
  },
  {
   "cell_type": "code",
   "execution_count": 6,
   "id": "ad1725e2",
   "metadata": {},
   "outputs": [
    {
     "data": {
      "text/plain": [
       "'acknowledg'"
      ]
     },
     "execution_count": 6,
     "metadata": {},
     "output_type": "execute_result"
    }
   ],
   "source": [
    "lan.stem(n)"
   ]
  },
  {
   "cell_type": "code",
   "execution_count": 8,
   "id": "9ab1a749",
   "metadata": {},
   "outputs": [],
   "source": [
    "snow = SnowballStemmer('english')"
   ]
  },
  {
   "cell_type": "code",
   "execution_count": 9,
   "id": "07cf3882",
   "metadata": {},
   "outputs": [
    {
     "data": {
      "text/plain": [
       "'acknowledg'"
      ]
     },
     "execution_count": 9,
     "metadata": {},
     "output_type": "execute_result"
    }
   ],
   "source": [
    "snow.stem(n)"
   ]
  },
  {
   "cell_type": "markdown",
   "id": "171da912",
   "metadata": {},
   "source": [
    "### Feature Extraction / Vectorization:- Convering Text data to Numeric"
   ]
  },
  {
   "cell_type": "markdown",
   "id": "3461f9fe",
   "metadata": {},
   "source": [
    "**Techniques:**\n",
    "* One Hot Encoding\n",
    "* Index Based Encoding\n",
    "* Bag of words\n",
    "* TF-IDF\n",
    "* Word2Vec ---DL\n",
    "* Fastent  ---DL\n",
    "    "
   ]
  },
  {
   "cell_type": "markdown",
   "id": "6e1235b3",
   "metadata": {},
   "source": [
    "**1. One Hot Encoding**\n",
    "* Vacubulory(Set of unique words)\n",
    "* Vacubulory in Alphabetical Order\n",
    "* Vectors\n",
    " \n",
    "* DisAdvant:- \n",
    "    * 1. Sparse Matrix(If tha data contains more zero its called Sparse Matrix)\n",
    "            * If there is Sparse Matrix in data , We cant Extract the pattern\n",
    "    * 2. Input shape is not constant\n",
    "    * 3. Out of Vacubulry (If tha word is out of vacubulory, it will not extract pattern)\n",
    "    * 4. Missing sequential infromation\n",
    "    * 5. Lack of semantic meaning\n",
    "    \n",
    "**2. Index Based Encoding**\n",
    "* Vacubulory(Set of unique words)\n",
    "* Vacubulory in Alphabetical Order\n",
    "\n",
    "* Adv:- \n",
    "    * Input shape is constant\n",
    "    * Dense Matrix (0 values will be reduced)\n",
    "* DisAdv:-\n",
    "    * Out of Vacubulry (If tha word is out of vacubulory, it will not extract pattern)\n",
    "    * Missing sequential infromation\n",
    "    * Lack of semantic meaning\n",
    "    \n",
    "**3. Bag of Words(BOW):- It deals with count of word/tokenz**\n",
    "* Count- No of times a word is occured\n",
    "* Freqency-Count/Total no of words in document\n",
    "* Eg:-\n",
    "    * Biriyani is good and Biriyani is very tasty\n",
    "    * Count(\"Biriyani\")- 2\n",
    "    * Frequency(\"Biriyani\")- 2/8 = 0.25\n",
    "* Steps:-\n",
    "    * Text Preprocessing\n",
    "    * Vacubulory\n",
    "    * Alphabetical Order\n",
    "    "
   ]
  },
  {
   "cell_type": "markdown",
   "id": "7a7a8a81",
   "metadata": {},
   "source": [
    "#### Bag of Words(BOW):-"
   ]
  },
  {
   "cell_type": "code",
   "execution_count": 1,
   "id": "dc642512",
   "metadata": {},
   "outputs": [],
   "source": [
    "import pandas as pd"
   ]
  },
  {
   "cell_type": "code",
   "execution_count": 8,
   "id": "6bb37ca7",
   "metadata": {},
   "outputs": [],
   "source": [
    "df = pd.DataFrame([['biriyani is good'], ['biriyani is good, tasty and biriyani is spicy'], ['biriyani is good, tasty , deliciuos and spicy']], columns = ['Review'])"
   ]
  },
  {
   "cell_type": "code",
   "execution_count": 9,
   "id": "d4122d67",
   "metadata": {},
   "outputs": [
    {
     "data": {
      "text/html": [
       "<div>\n",
       "<style scoped>\n",
       "    .dataframe tbody tr th:only-of-type {\n",
       "        vertical-align: middle;\n",
       "    }\n",
       "\n",
       "    .dataframe tbody tr th {\n",
       "        vertical-align: top;\n",
       "    }\n",
       "\n",
       "    .dataframe thead th {\n",
       "        text-align: right;\n",
       "    }\n",
       "</style>\n",
       "<table border=\"1\" class=\"dataframe\">\n",
       "  <thead>\n",
       "    <tr style=\"text-align: right;\">\n",
       "      <th></th>\n",
       "      <th>Review</th>\n",
       "    </tr>\n",
       "  </thead>\n",
       "  <tbody>\n",
       "    <tr>\n",
       "      <th>0</th>\n",
       "      <td>biriyani is good</td>\n",
       "    </tr>\n",
       "    <tr>\n",
       "      <th>1</th>\n",
       "      <td>biriyani is good, tasty and biriyani is spicy</td>\n",
       "    </tr>\n",
       "    <tr>\n",
       "      <th>2</th>\n",
       "      <td>biriyani is good, tasty , deliciuos and spicy</td>\n",
       "    </tr>\n",
       "  </tbody>\n",
       "</table>\n",
       "</div>"
      ],
      "text/plain": [
       "                                          Review\n",
       "0                               biriyani is good\n",
       "1  biriyani is good, tasty and biriyani is spicy\n",
       "2  biriyani is good, tasty , deliciuos and spicy"
      ]
     },
     "execution_count": 9,
     "metadata": {},
     "output_type": "execute_result"
    }
   ],
   "source": [
    "df"
   ]
  },
  {
   "cell_type": "code",
   "execution_count": 10,
   "id": "bf879042",
   "metadata": {},
   "outputs": [],
   "source": [
    "from sklearn.feature_extraction.text import CountVectorizer"
   ]
  },
  {
   "cell_type": "code",
   "execution_count": 11,
   "id": "228291ec",
   "metadata": {},
   "outputs": [],
   "source": [
    "count = CountVectorizer()"
   ]
  },
  {
   "cell_type": "code",
   "execution_count": 13,
   "id": "01b83912",
   "metadata": {},
   "outputs": [],
   "source": [
    "numeric = count.fit_transform(df['Review']).toarray()"
   ]
  },
  {
   "cell_type": "code",
   "execution_count": 14,
   "id": "6cb754e9",
   "metadata": {},
   "outputs": [
    {
     "data": {
      "text/plain": [
       "array([[0, 1, 0, 1, 1, 0, 0],\n",
       "       [1, 2, 0, 1, 2, 1, 1],\n",
       "       [1, 1, 1, 1, 1, 1, 1]], dtype=int64)"
      ]
     },
     "execution_count": 14,
     "metadata": {},
     "output_type": "execute_result"
    }
   ],
   "source": [
    "numeric"
   ]
  },
  {
   "cell_type": "code",
   "execution_count": 16,
   "id": "b341fcd5",
   "metadata": {},
   "outputs": [
    {
     "data": {
      "text/html": [
       "<div>\n",
       "<style scoped>\n",
       "    .dataframe tbody tr th:only-of-type {\n",
       "        vertical-align: middle;\n",
       "    }\n",
       "\n",
       "    .dataframe tbody tr th {\n",
       "        vertical-align: top;\n",
       "    }\n",
       "\n",
       "    .dataframe thead th {\n",
       "        text-align: right;\n",
       "    }\n",
       "</style>\n",
       "<table border=\"1\" class=\"dataframe\">\n",
       "  <thead>\n",
       "    <tr style=\"text-align: right;\">\n",
       "      <th></th>\n",
       "      <th>and</th>\n",
       "      <th>biriyani</th>\n",
       "      <th>deliciuos</th>\n",
       "      <th>good</th>\n",
       "      <th>is</th>\n",
       "      <th>spicy</th>\n",
       "      <th>tasty</th>\n",
       "    </tr>\n",
       "  </thead>\n",
       "  <tbody>\n",
       "    <tr>\n",
       "      <th>0</th>\n",
       "      <td>0</td>\n",
       "      <td>1</td>\n",
       "      <td>0</td>\n",
       "      <td>1</td>\n",
       "      <td>1</td>\n",
       "      <td>0</td>\n",
       "      <td>0</td>\n",
       "    </tr>\n",
       "    <tr>\n",
       "      <th>1</th>\n",
       "      <td>1</td>\n",
       "      <td>2</td>\n",
       "      <td>0</td>\n",
       "      <td>1</td>\n",
       "      <td>2</td>\n",
       "      <td>1</td>\n",
       "      <td>1</td>\n",
       "    </tr>\n",
       "    <tr>\n",
       "      <th>2</th>\n",
       "      <td>1</td>\n",
       "      <td>1</td>\n",
       "      <td>1</td>\n",
       "      <td>1</td>\n",
       "      <td>1</td>\n",
       "      <td>1</td>\n",
       "      <td>1</td>\n",
       "    </tr>\n",
       "  </tbody>\n",
       "</table>\n",
       "</div>"
      ],
      "text/plain": [
       "   and  biriyani  deliciuos  good  is  spicy  tasty\n",
       "0    0         1          0     1   1      0      0\n",
       "1    1         2          0     1   2      1      1\n",
       "2    1         1          1     1   1      1      1"
      ]
     },
     "execution_count": 16,
     "metadata": {},
     "output_type": "execute_result"
    }
   ],
   "source": [
    "pd.DataFrame(numeric, columns = count.get_feature_names_out())"
   ]
  },
  {
   "cell_type": "code",
   "execution_count": 17,
   "id": "5d73b0de",
   "metadata": {},
   "outputs": [
    {
     "data": {
      "text/html": [
       "<div>\n",
       "<style scoped>\n",
       "    .dataframe tbody tr th:only-of-type {\n",
       "        vertical-align: middle;\n",
       "    }\n",
       "\n",
       "    .dataframe tbody tr th {\n",
       "        vertical-align: top;\n",
       "    }\n",
       "\n",
       "    .dataframe thead th {\n",
       "        text-align: right;\n",
       "    }\n",
       "</style>\n",
       "<table border=\"1\" class=\"dataframe\">\n",
       "  <thead>\n",
       "    <tr style=\"text-align: right;\">\n",
       "      <th></th>\n",
       "      <th>and</th>\n",
       "      <th>biriyani</th>\n",
       "      <th>deliciuos</th>\n",
       "      <th>good</th>\n",
       "      <th>is</th>\n",
       "      <th>spicy</th>\n",
       "      <th>tasty</th>\n",
       "    </tr>\n",
       "  </thead>\n",
       "  <tbody>\n",
       "    <tr>\n",
       "      <th>0</th>\n",
       "      <td>0</td>\n",
       "      <td>1</td>\n",
       "      <td>0</td>\n",
       "      <td>1</td>\n",
       "      <td>1</td>\n",
       "      <td>0</td>\n",
       "      <td>0</td>\n",
       "    </tr>\n",
       "    <tr>\n",
       "      <th>1</th>\n",
       "      <td>1</td>\n",
       "      <td>2</td>\n",
       "      <td>0</td>\n",
       "      <td>1</td>\n",
       "      <td>2</td>\n",
       "      <td>1</td>\n",
       "      <td>1</td>\n",
       "    </tr>\n",
       "    <tr>\n",
       "      <th>2</th>\n",
       "      <td>1</td>\n",
       "      <td>1</td>\n",
       "      <td>1</td>\n",
       "      <td>1</td>\n",
       "      <td>1</td>\n",
       "      <td>1</td>\n",
       "      <td>1</td>\n",
       "    </tr>\n",
       "  </tbody>\n",
       "</table>\n",
       "</div>"
      ],
      "text/plain": [
       "   and  biriyani  deliciuos  good  is  spicy  tasty\n",
       "0    0         1          0     1   1      0      0\n",
       "1    1         2          0     1   2      1      1\n",
       "2    1         1          1     1   1      1      1"
      ]
     },
     "execution_count": 17,
     "metadata": {},
     "output_type": "execute_result"
    }
   ],
   "source": [
    "from sklearn.feature_extraction.text import CountVectorizer\n",
    "count = CountVectorizer()\n",
    "numeric = count.fit_transform(df['Review']).toarray()\n",
    "pd.DataFrame(numeric, columns = count.get_feature_names_out())"
   ]
  },
  {
   "cell_type": "code",
   "execution_count": null,
   "id": "1d0983dc",
   "metadata": {},
   "outputs": [],
   "source": [
    "\n",
    "df = pd.DataFrame([['Python is Readability and Simplicity'], ['biriyani is good, tasty and biriyani is spicy'], ['biriyani is good, tasty , deliciuos and spicy']], columns = ['Review'])"
   ]
  },
  {
   "cell_type": "code",
   "execution_count": null,
   "id": "869fb743",
   "metadata": {},
   "outputs": [],
   "source": []
  },
  {
   "cell_type": "markdown",
   "id": "b3dc7b8b",
   "metadata": {},
   "source": [
    "#### Text Visualization"
   ]
  },
  {
   "cell_type": "code",
   "execution_count": 18,
   "id": "a42cccc5",
   "metadata": {},
   "outputs": [
    {
     "data": {
      "text/plain": [
       "0                                 biriyani is good\n",
       "1    biriyani is good, tasty and biriyani is spicy\n",
       "2    biriyani is good, tasty , deliciuos and spicy\n",
       "Name: Review, dtype: object"
      ]
     },
     "execution_count": 18,
     "metadata": {},
     "output_type": "execute_result"
    }
   ],
   "source": [
    "df['Review']"
   ]
  },
  {
   "cell_type": "code",
   "execution_count": 47,
   "id": "1cf3fe26",
   "metadata": {},
   "outputs": [
    {
     "data": {
      "text/plain": [
       "'b i r i y a n i   i s   g o o d b i r i y a n i   i s   g o o d ,   t a s t y   a n d   b i r i y a n i   i s   s p i c y b i r i y a n i   i s   g o o d ,   t a s t y   ,   d e l i c i u o s   a n d   s p i c y'"
      ]
     },
     "execution_count": 47,
     "metadata": {},
     "output_type": "execute_result"
    }
   ],
   "source": [
    "text = ' '.join(df['Review'])\n",
    "text"
   ]
  },
  {
   "cell_type": "code",
   "execution_count": 29,
   "id": "3ef67191",
   "metadata": {},
   "outputs": [],
   "source": [
    "from wordcloud import WordCloud\n",
    "import matplotlib.pyplot as plt"
   ]
  },
  {
   "cell_type": "code",
   "execution_count": 24,
   "id": "ecb8c884",
   "metadata": {},
   "outputs": [],
   "source": [
    "word = WordCloud()"
   ]
  },
  {
   "cell_type": "code",
   "execution_count": 42,
   "id": "1262cab0",
   "metadata": {},
   "outputs": [
    {
     "data": {
      "text/plain": [
       "<matplotlib.image.AxesImage at 0x25a7627c8d0>"
      ]
     },
     "execution_count": 42,
     "metadata": {},
     "output_type": "execute_result"
    },
    {
     "data": {
      "image/png": "[encoded data removed]",
      "text/plain": [
       "<Figure size 640x480 with 1 Axes>"
      ]
     },
     "metadata": {},
     "output_type": "display_data"
    }
   ],
   "source": [
    "data = WordCloud(width = 800, height = 600).generate(text)\n",
    "plt.imshow(data)"
   ]
  },
  {
   "cell_type": "code",
   "execution_count": 40,
   "id": "e7010708",
   "metadata": {},
   "outputs": [
    {
     "data": {
      "text/plain": [
       "<matplotlib.image.AxesImage at 0x25a760f5ad0>"
      ]
     },
     "execution_count": 40,
     "metadata": {},
     "output_type": "execute_result"
    },
    {
     "data": {
      "image/png": "[encoded data removed]",
      "text/plain": [
       "<Figure size 640x480 with 1 Axes>"
      ]
     },
     "metadata": {},
     "output_type": "display_data"
    }
   ],
   "source": [
    "data = WordCloud(background_color='white').generate(text)\n",
    "plt.imshow(data)"
   ]
  },
  {
   "cell_type": "code",
   "execution_count": 30,
   "id": "f587d78f",
   "metadata": {},
   "outputs": [],
   "source": [
    "plt.show(data)"
   ]
  },
  {
   "cell_type": "markdown",
   "id": "98fd8550",
   "metadata": {},
   "source": [
    "### Binary BOW\n",
    "reprenset on 0 and 1\n",
    "0 ---"
   ]
  },
  {
   "cell_type": "code",
   "execution_count": 11,
   "id": "42472ad8",
   "metadata": {},
   "outputs": [
    {
     "data": {
      "text/html": [
       "<div>\n",
       "<style scoped>\n",
       "    .dataframe tbody tr th:only-of-type {\n",
       "        vertical-align: middle;\n",
       "    }\n",
       "\n",
       "    .dataframe tbody tr th {\n",
       "        vertical-align: top;\n",
       "    }\n",
       "\n",
       "    .dataframe thead th {\n",
       "        text-align: right;\n",
       "    }\n",
       "</style>\n",
       "<table border=\"1\" class=\"dataframe\">\n",
       "  <thead>\n",
       "    <tr style=\"text-align: right;\">\n",
       "      <th></th>\n",
       "      <th>and</th>\n",
       "      <th>biriyani</th>\n",
       "      <th>deliciuos</th>\n",
       "      <th>good</th>\n",
       "      <th>is</th>\n",
       "      <th>spicy</th>\n",
       "      <th>tasty</th>\n",
       "    </tr>\n",
       "  </thead>\n",
       "  <tbody>\n",
       "    <tr>\n",
       "      <th>0</th>\n",
       "      <td>0</td>\n",
       "      <td>1</td>\n",
       "      <td>0</td>\n",
       "      <td>1</td>\n",
       "      <td>1</td>\n",
       "      <td>0</td>\n",
       "      <td>0</td>\n",
       "    </tr>\n",
       "    <tr>\n",
       "      <th>1</th>\n",
       "      <td>1</td>\n",
       "      <td>1</td>\n",
       "      <td>0</td>\n",
       "      <td>1</td>\n",
       "      <td>1</td>\n",
       "      <td>1</td>\n",
       "      <td>1</td>\n",
       "    </tr>\n",
       "    <tr>\n",
       "      <th>2</th>\n",
       "      <td>1</td>\n",
       "      <td>1</td>\n",
       "      <td>1</td>\n",
       "      <td>1</td>\n",
       "      <td>1</td>\n",
       "      <td>1</td>\n",
       "      <td>1</td>\n",
       "    </tr>\n",
       "  </tbody>\n",
       "</table>\n",
       "</div>"
      ],
      "text/plain": [
       "   and  biriyani  deliciuos  good  is  spicy  tasty\n",
       "0    0         1          0     1   1      0      0\n",
       "1    1         1          0     1   1      1      1\n",
       "2    1         1          1     1   1      1      1"
      ]
     },
     "execution_count": 11,
     "metadata": {},
     "output_type": "execute_result"
    }
   ],
   "source": [
    "df = pd.DataFrame([['biriyani is good'], ['biriyani is good, tasty and biriyani is spicy'], ['biriyani is good, tasty , deliciuos and spicy']], columns = ['Review'])\n",
    "count = CountVectorizer(binary=True)\n",
    "numeric = count.fit_transform(df['Review']).toarray()\n",
    "pd.DataFrame(numeric, columns = count.get_feature_names_out())"
   ]
  },
  {
   "cell_type": "code",
   "execution_count": null,
   "id": "56442523",
   "metadata": {},
   "outputs": [],
   "source": []
  },
  {
   "cell_type": "code",
   "execution_count": null,
   "id": "7fcc961e",
   "metadata": {},
   "outputs": [],
   "source": []
  },
  {
   "cell_type": "code",
   "execution_count": null,
   "id": "27e0fc94",
   "metadata": {},
   "outputs": [],
   "source": []
  },
  {
   "cell_type": "markdown",
   "id": "df274584",
   "metadata": {},
   "source": [
    "### N-Gram technique -- word combination"
   ]
  },
  {
   "cell_type": "code",
   "execution_count": 1,
   "id": "b999a97e",
   "metadata": {},
   "outputs": [],
   "source": [
    "import pandas as pd"
   ]
  },
  {
   "cell_type": "code",
   "execution_count": 2,
   "id": "acaf677d",
   "metadata": {},
   "outputs": [],
   "source": [
    "df = pd.DataFrame([['biriyani is good'], ['biriyani is good, tasty and biriyani is spicy'], ['biriyani is good, tasty , deliciuos and spicy']], columns = ['Review'])"
   ]
  },
  {
   "cell_type": "code",
   "execution_count": 3,
   "id": "e950cc55",
   "metadata": {},
   "outputs": [
    {
     "data": {
      "text/html": [
       "<div>\n",
       "<style scoped>\n",
       "    .dataframe tbody tr th:only-of-type {\n",
       "        vertical-align: middle;\n",
       "    }\n",
       "\n",
       "    .dataframe tbody tr th {\n",
       "        vertical-align: top;\n",
       "    }\n",
       "\n",
       "    .dataframe thead th {\n",
       "        text-align: right;\n",
       "    }\n",
       "</style>\n",
       "<table border=\"1\" class=\"dataframe\">\n",
       "  <thead>\n",
       "    <tr style=\"text-align: right;\">\n",
       "      <th></th>\n",
       "      <th>Review</th>\n",
       "    </tr>\n",
       "  </thead>\n",
       "  <tbody>\n",
       "    <tr>\n",
       "      <th>0</th>\n",
       "      <td>biriyani is good</td>\n",
       "    </tr>\n",
       "    <tr>\n",
       "      <th>1</th>\n",
       "      <td>biriyani is good, tasty and biriyani is spicy</td>\n",
       "    </tr>\n",
       "    <tr>\n",
       "      <th>2</th>\n",
       "      <td>biriyani is good, tasty , deliciuos and spicy</td>\n",
       "    </tr>\n",
       "  </tbody>\n",
       "</table>\n",
       "</div>"
      ],
      "text/plain": [
       "                                          Review\n",
       "0                               biriyani is good\n",
       "1  biriyani is good, tasty and biriyani is spicy\n",
       "2  biriyani is good, tasty , deliciuos and spicy"
      ]
     },
     "execution_count": 3,
     "metadata": {},
     "output_type": "execute_result"
    }
   ],
   "source": [
    "df"
   ]
  },
  {
   "cell_type": "code",
   "execution_count": 4,
   "id": "9d5a3ae0",
   "metadata": {},
   "outputs": [],
   "source": [
    "from sklearn.feature_extraction.text import CountVectorizer"
   ]
  },
  {
   "cell_type": "code",
   "execution_count": 5,
   "id": "cb643fe2",
   "metadata": {},
   "outputs": [],
   "source": [
    "count = CountVectorizer(ngram_range=(2,2))"
   ]
  },
  {
   "cell_type": "code",
   "execution_count": 6,
   "id": "cfb06bc1",
   "metadata": {},
   "outputs": [],
   "source": [
    "numeric = count.fit_transform(df['Review']).toarray()"
   ]
  },
  {
   "cell_type": "code",
   "execution_count": 8,
   "id": "7fba6033",
   "metadata": {},
   "outputs": [
    {
     "data": {
      "text/plain": [
       "array([[0, 0, 1, 0, 0, 1, 0, 0, 0],\n",
       "       [1, 0, 2, 0, 1, 1, 1, 1, 0],\n",
       "       [0, 1, 1, 1, 1, 1, 0, 0, 1]], dtype=int64)"
      ]
     },
     "execution_count": 8,
     "metadata": {},
     "output_type": "execute_result"
    }
   ],
   "source": [
    "numeric"
   ]
  },
  {
   "cell_type": "code",
   "execution_count": 7,
   "id": "05c1161c",
   "metadata": {},
   "outputs": [
    {
     "data": {
      "text/html": [
       "<div>\n",
       "<style scoped>\n",
       "    .dataframe tbody tr th:only-of-type {\n",
       "        vertical-align: middle;\n",
       "    }\n",
       "\n",
       "    .dataframe tbody tr th {\n",
       "        vertical-align: top;\n",
       "    }\n",
       "\n",
       "    .dataframe thead th {\n",
       "        text-align: right;\n",
       "    }\n",
       "</style>\n",
       "<table border=\"1\" class=\"dataframe\">\n",
       "  <thead>\n",
       "    <tr style=\"text-align: right;\">\n",
       "      <th></th>\n",
       "      <th>and biriyani</th>\n",
       "      <th>and spicy</th>\n",
       "      <th>biriyani is</th>\n",
       "      <th>deliciuos and</th>\n",
       "      <th>good tasty</th>\n",
       "      <th>is good</th>\n",
       "      <th>is spicy</th>\n",
       "      <th>tasty and</th>\n",
       "      <th>tasty deliciuos</th>\n",
       "    </tr>\n",
       "  </thead>\n",
       "  <tbody>\n",
       "    <tr>\n",
       "      <th>0</th>\n",
       "      <td>0</td>\n",
       "      <td>0</td>\n",
       "      <td>1</td>\n",
       "      <td>0</td>\n",
       "      <td>0</td>\n",
       "      <td>1</td>\n",
       "      <td>0</td>\n",
       "      <td>0</td>\n",
       "      <td>0</td>\n",
       "    </tr>\n",
       "    <tr>\n",
       "      <th>1</th>\n",
       "      <td>1</td>\n",
       "      <td>0</td>\n",
       "      <td>2</td>\n",
       "      <td>0</td>\n",
       "      <td>1</td>\n",
       "      <td>1</td>\n",
       "      <td>1</td>\n",
       "      <td>1</td>\n",
       "      <td>0</td>\n",
       "    </tr>\n",
       "    <tr>\n",
       "      <th>2</th>\n",
       "      <td>0</td>\n",
       "      <td>1</td>\n",
       "      <td>1</td>\n",
       "      <td>1</td>\n",
       "      <td>1</td>\n",
       "      <td>1</td>\n",
       "      <td>0</td>\n",
       "      <td>0</td>\n",
       "      <td>1</td>\n",
       "    </tr>\n",
       "  </tbody>\n",
       "</table>\n",
       "</div>"
      ],
      "text/plain": [
       "   and biriyani  and spicy  biriyani is  deliciuos and  good tasty  is good  \\\n",
       "0             0          0            1              0           0        1   \n",
       "1             1          0            2              0           1        1   \n",
       "2             0          1            1              1           1        1   \n",
       "\n",
       "   is spicy  tasty and  tasty deliciuos  \n",
       "0         0          0                0  \n",
       "1         1          1                0  \n",
       "2         0          0                1  "
      ]
     },
     "execution_count": 7,
     "metadata": {},
     "output_type": "execute_result"
    }
   ],
   "source": [
    "pd.DataFrame(numeric, columns = count.get_feature_names_out())"
   ]
  },
  {
   "cell_type": "code",
   "execution_count": 9,
   "id": "8625db03",
   "metadata": {},
   "outputs": [
    {
     "data": {
      "text/html": [
       "<div>\n",
       "<style scoped>\n",
       "    .dataframe tbody tr th:only-of-type {\n",
       "        vertical-align: middle;\n",
       "    }\n",
       "\n",
       "    .dataframe tbody tr th {\n",
       "        vertical-align: top;\n",
       "    }\n",
       "\n",
       "    .dataframe thead th {\n",
       "        text-align: right;\n",
       "    }\n",
       "</style>\n",
       "<table border=\"1\" class=\"dataframe\">\n",
       "  <thead>\n",
       "    <tr style=\"text-align: right;\">\n",
       "      <th></th>\n",
       "      <th>and biriyani is</th>\n",
       "      <th>biriyani is good</th>\n",
       "      <th>biriyani is spicy</th>\n",
       "      <th>deliciuos and spicy</th>\n",
       "      <th>good tasty and</th>\n",
       "      <th>good tasty deliciuos</th>\n",
       "      <th>is good tasty</th>\n",
       "      <th>tasty and biriyani</th>\n",
       "      <th>tasty deliciuos and</th>\n",
       "    </tr>\n",
       "  </thead>\n",
       "  <tbody>\n",
       "    <tr>\n",
       "      <th>0</th>\n",
       "      <td>0</td>\n",
       "      <td>1</td>\n",
       "      <td>0</td>\n",
       "      <td>0</td>\n",
       "      <td>0</td>\n",
       "      <td>0</td>\n",
       "      <td>0</td>\n",
       "      <td>0</td>\n",
       "      <td>0</td>\n",
       "    </tr>\n",
       "    <tr>\n",
       "      <th>1</th>\n",
       "      <td>1</td>\n",
       "      <td>1</td>\n",
       "      <td>1</td>\n",
       "      <td>0</td>\n",
       "      <td>1</td>\n",
       "      <td>0</td>\n",
       "      <td>1</td>\n",
       "      <td>1</td>\n",
       "      <td>0</td>\n",
       "    </tr>\n",
       "    <tr>\n",
       "      <th>2</th>\n",
       "      <td>0</td>\n",
       "      <td>1</td>\n",
       "      <td>0</td>\n",
       "      <td>1</td>\n",
       "      <td>0</td>\n",
       "      <td>1</td>\n",
       "      <td>1</td>\n",
       "      <td>0</td>\n",
       "      <td>1</td>\n",
       "    </tr>\n",
       "  </tbody>\n",
       "</table>\n",
       "</div>"
      ],
      "text/plain": [
       "   and biriyani is  biriyani is good  biriyani is spicy  deliciuos and spicy  \\\n",
       "0                0                 1                  0                    0   \n",
       "1                1                 1                  1                    0   \n",
       "2                0                 1                  0                    1   \n",
       "\n",
       "   good tasty and  good tasty deliciuos  is good tasty  tasty and biriyani  \\\n",
       "0               0                     0              0                   0   \n",
       "1               1                     0              1                   1   \n",
       "2               0                     1              1                   0   \n",
       "\n",
       "   tasty deliciuos and  \n",
       "0                    0  \n",
       "1                    0  \n",
       "2                    1  "
      ]
     },
     "execution_count": 9,
     "metadata": {},
     "output_type": "execute_result"
    }
   ],
   "source": [
    "df = pd.DataFrame([['biriyani is good'], ['biriyani is good, tasty and biriyani is spicy'], ['biriyani is good, tasty , deliciuos and spicy']], columns = ['Review'])\n",
    "count = CountVectorizer(ngram_range=(3,3))\n",
    "numeric = count.fit_transform(df['Review']).toarray()\n",
    "pd.DataFrame(numeric, columns = count.get_feature_names_out())"
   ]
  },
  {
   "cell_type": "markdown",
   "id": "83f0f693",
   "metadata": {},
   "source": [
    "### Max feature;- to get top max value colms "
   ]
  },
  {
   "cell_type": "code",
   "execution_count": 12,
   "id": "e9e3d02f",
   "metadata": {},
   "outputs": [],
   "source": [
    "count = CountVectorizer(max_features= 1)"
   ]
  },
  {
   "cell_type": "code",
   "execution_count": 13,
   "id": "4d9fbe23",
   "metadata": {},
   "outputs": [],
   "source": [
    "numeric = count.fit_transform(df['Review']).toarray()"
   ]
  },
  {
   "cell_type": "code",
   "execution_count": 14,
   "id": "bd046287",
   "metadata": {},
   "outputs": [
    {
     "data": {
      "text/html": [
       "<div>\n",
       "<style scoped>\n",
       "    .dataframe tbody tr th:only-of-type {\n",
       "        vertical-align: middle;\n",
       "    }\n",
       "\n",
       "    .dataframe tbody tr th {\n",
       "        vertical-align: top;\n",
       "    }\n",
       "\n",
       "    .dataframe thead th {\n",
       "        text-align: right;\n",
       "    }\n",
       "</style>\n",
       "<table border=\"1\" class=\"dataframe\">\n",
       "  <thead>\n",
       "    <tr style=\"text-align: right;\">\n",
       "      <th></th>\n",
       "      <th>biriyani</th>\n",
       "    </tr>\n",
       "  </thead>\n",
       "  <tbody>\n",
       "    <tr>\n",
       "      <th>0</th>\n",
       "      <td>1</td>\n",
       "    </tr>\n",
       "    <tr>\n",
       "      <th>1</th>\n",
       "      <td>2</td>\n",
       "    </tr>\n",
       "    <tr>\n",
       "      <th>2</th>\n",
       "      <td>1</td>\n",
       "    </tr>\n",
       "  </tbody>\n",
       "</table>\n",
       "</div>"
      ],
      "text/plain": [
       "   biriyani\n",
       "0         1\n",
       "1         2\n",
       "2         1"
      ]
     },
     "execution_count": 14,
     "metadata": {},
     "output_type": "execute_result"
    }
   ],
   "source": [
    "pd.DataFrame(numeric, columns = count.get_feature_names_out())"
   ]
  },
  {
   "cell_type": "code",
   "execution_count": 16,
   "id": "204e934b",
   "metadata": {},
   "outputs": [
    {
     "data": {
      "text/html": [
       "<div>\n",
       "<style scoped>\n",
       "    .dataframe tbody tr th:only-of-type {\n",
       "        vertical-align: middle;\n",
       "    }\n",
       "\n",
       "    .dataframe tbody tr th {\n",
       "        vertical-align: top;\n",
       "    }\n",
       "\n",
       "    .dataframe thead th {\n",
       "        text-align: right;\n",
       "    }\n",
       "</style>\n",
       "<table border=\"1\" class=\"dataframe\">\n",
       "  <thead>\n",
       "    <tr style=\"text-align: right;\">\n",
       "      <th></th>\n",
       "      <th>biriyani</th>\n",
       "      <th>is</th>\n",
       "    </tr>\n",
       "  </thead>\n",
       "  <tbody>\n",
       "    <tr>\n",
       "      <th>0</th>\n",
       "      <td>1</td>\n",
       "      <td>1</td>\n",
       "    </tr>\n",
       "    <tr>\n",
       "      <th>1</th>\n",
       "      <td>2</td>\n",
       "      <td>2</td>\n",
       "    </tr>\n",
       "    <tr>\n",
       "      <th>2</th>\n",
       "      <td>1</td>\n",
       "      <td>1</td>\n",
       "    </tr>\n",
       "  </tbody>\n",
       "</table>\n",
       "</div>"
      ],
      "text/plain": [
       "   biriyani  is\n",
       "0         1   1\n",
       "1         2   2\n",
       "2         1   1"
      ]
     },
     "execution_count": 16,
     "metadata": {},
     "output_type": "execute_result"
    }
   ],
   "source": [
    "count = CountVectorizer(max_features= 2)\n",
    "numeric = count.fit_transform(df['Review']).toarray()\n",
    "pd.DataFrame(numeric, columns = count.get_feature_names_out())"
   ]
  },
  {
   "cell_type": "code",
   "execution_count": 17,
   "id": "29d896cd",
   "metadata": {},
   "outputs": [
    {
     "data": {
      "text/html": [
       "<div>\n",
       "<style scoped>\n",
       "    .dataframe tbody tr th:only-of-type {\n",
       "        vertical-align: middle;\n",
       "    }\n",
       "\n",
       "    .dataframe tbody tr th {\n",
       "        vertical-align: top;\n",
       "    }\n",
       "\n",
       "    .dataframe thead th {\n",
       "        text-align: right;\n",
       "    }\n",
       "</style>\n",
       "<table border=\"1\" class=\"dataframe\">\n",
       "  <thead>\n",
       "    <tr style=\"text-align: right;\">\n",
       "      <th></th>\n",
       "      <th>biriyani</th>\n",
       "      <th>good</th>\n",
       "      <th>is</th>\n",
       "    </tr>\n",
       "  </thead>\n",
       "  <tbody>\n",
       "    <tr>\n",
       "      <th>0</th>\n",
       "      <td>1</td>\n",
       "      <td>1</td>\n",
       "      <td>1</td>\n",
       "    </tr>\n",
       "    <tr>\n",
       "      <th>1</th>\n",
       "      <td>2</td>\n",
       "      <td>1</td>\n",
       "      <td>2</td>\n",
       "    </tr>\n",
       "    <tr>\n",
       "      <th>2</th>\n",
       "      <td>1</td>\n",
       "      <td>1</td>\n",
       "      <td>1</td>\n",
       "    </tr>\n",
       "  </tbody>\n",
       "</table>\n",
       "</div>"
      ],
      "text/plain": [
       "   biriyani  good  is\n",
       "0         1     1   1\n",
       "1         2     1   2\n",
       "2         1     1   1"
      ]
     },
     "execution_count": 17,
     "metadata": {},
     "output_type": "execute_result"
    }
   ],
   "source": [
    "count = CountVectorizer(max_features= 3)\n",
    "numeric = count.fit_transform(df['Review']).toarray()\n",
    "pd.DataFrame(numeric, columns = count.get_feature_names_out())"
   ]
  },
  {
   "cell_type": "markdown",
   "id": "02d5507f",
   "metadata": {},
   "source": [
    "### To remove stop words"
   ]
  },
  {
   "cell_type": "code",
   "execution_count": 19,
   "id": "a516776c",
   "metadata": {},
   "outputs": [
    {
     "data": {
      "text/html": [
       "<div>\n",
       "<style scoped>\n",
       "    .dataframe tbody tr th:only-of-type {\n",
       "        vertical-align: middle;\n",
       "    }\n",
       "\n",
       "    .dataframe tbody tr th {\n",
       "        vertical-align: top;\n",
       "    }\n",
       "\n",
       "    .dataframe thead th {\n",
       "        text-align: right;\n",
       "    }\n",
       "</style>\n",
       "<table border=\"1\" class=\"dataframe\">\n",
       "  <thead>\n",
       "    <tr style=\"text-align: right;\">\n",
       "      <th></th>\n",
       "      <th>biriyani</th>\n",
       "      <th>deliciuos</th>\n",
       "      <th>good</th>\n",
       "      <th>spicy</th>\n",
       "      <th>tasty</th>\n",
       "    </tr>\n",
       "  </thead>\n",
       "  <tbody>\n",
       "    <tr>\n",
       "      <th>0</th>\n",
       "      <td>1</td>\n",
       "      <td>0</td>\n",
       "      <td>1</td>\n",
       "      <td>0</td>\n",
       "      <td>0</td>\n",
       "    </tr>\n",
       "    <tr>\n",
       "      <th>1</th>\n",
       "      <td>2</td>\n",
       "      <td>0</td>\n",
       "      <td>1</td>\n",
       "      <td>1</td>\n",
       "      <td>1</td>\n",
       "    </tr>\n",
       "    <tr>\n",
       "      <th>2</th>\n",
       "      <td>1</td>\n",
       "      <td>1</td>\n",
       "      <td>1</td>\n",
       "      <td>1</td>\n",
       "      <td>1</td>\n",
       "    </tr>\n",
       "  </tbody>\n",
       "</table>\n",
       "</div>"
      ],
      "text/plain": [
       "   biriyani  deliciuos  good  spicy  tasty\n",
       "0         1          0     1      0      0\n",
       "1         2          0     1      1      1\n",
       "2         1          1     1      1      1"
      ]
     },
     "execution_count": 19,
     "metadata": {},
     "output_type": "execute_result"
    }
   ],
   "source": [
    "count = CountVectorizer(stop_words= 'english')\n",
    "numeric = count.fit_transform(df['Review']).toarray()\n",
    "pd.DataFrame(numeric, columns = count.get_feature_names_out())"
   ]
  },
  {
   "cell_type": "code",
   "execution_count": 21,
   "id": "22dab851",
   "metadata": {},
   "outputs": [
    {
     "data": {
      "text/html": [
       "<div>\n",
       "<style scoped>\n",
       "    .dataframe tbody tr th:only-of-type {\n",
       "        vertical-align: middle;\n",
       "    }\n",
       "\n",
       "    .dataframe tbody tr th {\n",
       "        vertical-align: top;\n",
       "    }\n",
       "\n",
       "    .dataframe thead th {\n",
       "        text-align: right;\n",
       "    }\n",
       "</style>\n",
       "<table border=\"1\" class=\"dataframe\">\n",
       "  <thead>\n",
       "    <tr style=\"text-align: right;\">\n",
       "      <th></th>\n",
       "      <th>biriyani good</th>\n",
       "      <th>biriyani spicy</th>\n",
       "      <th>good tasty</th>\n",
       "    </tr>\n",
       "  </thead>\n",
       "  <tbody>\n",
       "    <tr>\n",
       "      <th>0</th>\n",
       "      <td>1</td>\n",
       "      <td>0</td>\n",
       "      <td>0</td>\n",
       "    </tr>\n",
       "    <tr>\n",
       "      <th>1</th>\n",
       "      <td>1</td>\n",
       "      <td>1</td>\n",
       "      <td>1</td>\n",
       "    </tr>\n",
       "    <tr>\n",
       "      <th>2</th>\n",
       "      <td>1</td>\n",
       "      <td>0</td>\n",
       "      <td>1</td>\n",
       "    </tr>\n",
       "  </tbody>\n",
       "</table>\n",
       "</div>"
      ],
      "text/plain": [
       "   biriyani good  biriyani spicy  good tasty\n",
       "0              1               0           0\n",
       "1              1               1           1\n",
       "2              1               0           1"
      ]
     },
     "execution_count": 21,
     "metadata": {},
     "output_type": "execute_result"
    }
   ],
   "source": [
    "count = CountVectorizer(stop_words= 'english' , max_features= 3 , ngram_range=(2,2))\n",
    "numeric = count.fit_transform(df['Review']).toarray()\n",
    "pd.DataFrame(numeric, columns = count.get_feature_names_out())"
   ]
  },
  {
   "cell_type": "code",
   "execution_count": null,
   "id": "077aae99",
   "metadata": {},
   "outputs": [],
   "source": [
    "### TF-IDF"
   ]
  },
  {
   "cell_type": "markdown",
   "id": "1880f662",
   "metadata": {},
   "source": [
    "#### Term frequency = The no of  term/word occured in doc / Total no of term/word in doc\n",
    "#### TF Ranges ( 0-1 )\n",
    "* if TF = 1 --- There is only one word in doc \n",
    "* if TF = 0 ----There is no word for you are finding for that word"
   ]
  },
  {
   "cell_type": "code",
   "execution_count": 22,
   "id": "237629e9",
   "metadata": {},
   "outputs": [],
   "source": [
    "name = 'I am data scientist , data analyst and data engineer'"
   ]
  },
  {
   "cell_type": "code",
   "execution_count": 23,
   "id": "1491863e",
   "metadata": {},
   "outputs": [],
   "source": [
    "new = name.split()"
   ]
  },
  {
   "cell_type": "code",
   "execution_count": 26,
   "id": "eeeca5c3",
   "metadata": {},
   "outputs": [
    {
     "data": {
      "text/plain": [
       "0.3"
      ]
     },
     "execution_count": 26,
     "metadata": {},
     "output_type": "execute_result"
    }
   ],
   "source": [
    "name.count('data')/len(name.split())"
   ]
  },
  {
   "cell_type": "markdown",
   "id": "d40aefa8",
   "metadata": {},
   "source": [
    "#### Inverse document Frequency = log( Total no of doc / No of doc that the term appeared )"
   ]
  },
  {
   "cell_type": "markdown",
   "id": "631cd357",
   "metadata": {},
   "source": [
    "#### TF-IDF  == TF * IDF"
   ]
  },
  {
   "cell_type": "code",
   "execution_count": 30,
   "id": "c2bf9581",
   "metadata": {},
   "outputs": [
    {
     "data": {
      "text/plain": [
       "0                                 biriyani is good\n",
       "1    biriyani is good, tasty and biriyani is spicy\n",
       "2    biriyani is good, tasty , deliciuos and spicy\n",
       "Name: Review, dtype: object"
      ]
     },
     "execution_count": 30,
     "metadata": {},
     "output_type": "execute_result"
    }
   ],
   "source": [
    "df['Review']"
   ]
  },
  {
   "cell_type": "code",
   "execution_count": 31,
   "id": "d3a016f0",
   "metadata": {},
   "outputs": [],
   "source": [
    "from sklearn.feature_extraction.text import TfidfVectorizer"
   ]
  },
  {
   "cell_type": "code",
   "execution_count": 32,
   "id": "1a79ebd6",
   "metadata": {},
   "outputs": [],
   "source": [
    "tf = TfidfVectorizer()"
   ]
  },
  {
   "cell_type": "code",
   "execution_count": 34,
   "id": "77456dfe",
   "metadata": {},
   "outputs": [],
   "source": [
    "vector = tf.fit_transform(df['Review'])"
   ]
  },
  {
   "cell_type": "code",
   "execution_count": 37,
   "id": "c74a41ce",
   "metadata": {},
   "outputs": [
    {
     "data": {
      "text/html": [
       "<div>\n",
       "<style scoped>\n",
       "    .dataframe tbody tr th:only-of-type {\n",
       "        vertical-align: middle;\n",
       "    }\n",
       "\n",
       "    .dataframe tbody tr th {\n",
       "        vertical-align: top;\n",
       "    }\n",
       "\n",
       "    .dataframe thead th {\n",
       "        text-align: right;\n",
       "    }\n",
       "</style>\n",
       "<table border=\"1\" class=\"dataframe\">\n",
       "  <thead>\n",
       "    <tr style=\"text-align: right;\">\n",
       "      <th></th>\n",
       "      <th>and</th>\n",
       "      <th>biriyani</th>\n",
       "      <th>deliciuos</th>\n",
       "      <th>good</th>\n",
       "      <th>is</th>\n",
       "      <th>spicy</th>\n",
       "      <th>tasty</th>\n",
       "    </tr>\n",
       "  </thead>\n",
       "  <tbody>\n",
       "    <tr>\n",
       "      <th>0</th>\n",
       "      <td>0.000000</td>\n",
       "      <td>0.577350</td>\n",
       "      <td>0.00000</td>\n",
       "      <td>0.577350</td>\n",
       "      <td>0.577350</td>\n",
       "      <td>0.000000</td>\n",
       "      <td>0.000000</td>\n",
       "    </tr>\n",
       "    <tr>\n",
       "      <th>1</th>\n",
       "      <td>0.344463</td>\n",
       "      <td>0.535012</td>\n",
       "      <td>0.00000</td>\n",
       "      <td>0.267506</td>\n",
       "      <td>0.535012</td>\n",
       "      <td>0.344463</td>\n",
       "      <td>0.344463</td>\n",
       "    </tr>\n",
       "    <tr>\n",
       "      <th>2</th>\n",
       "      <td>0.391085</td>\n",
       "      <td>0.303713</td>\n",
       "      <td>0.51423</td>\n",
       "      <td>0.303713</td>\n",
       "      <td>0.303713</td>\n",
       "      <td>0.391085</td>\n",
       "      <td>0.391085</td>\n",
       "    </tr>\n",
       "  </tbody>\n",
       "</table>\n",
       "</div>"
      ],
      "text/plain": [
       "        and  biriyani  deliciuos      good        is     spicy     tasty\n",
       "0  0.000000  0.577350    0.00000  0.577350  0.577350  0.000000  0.000000\n",
       "1  0.344463  0.535012    0.00000  0.267506  0.535012  0.344463  0.344463\n",
       "2  0.391085  0.303713    0.51423  0.303713  0.303713  0.391085  0.391085"
      ]
     },
     "execution_count": 37,
     "metadata": {},
     "output_type": "execute_result"
    }
   ],
   "source": [
    "pd.DataFrame(vector.toarray() , columns = tf.get_feature_names_out())"
   ]
  },
  {
   "cell_type": "markdown",
   "id": "787b7e87",
   "metadata": {},
   "source": [
    "#### N-gram tech with TFIDF"
   ]
  },
  {
   "cell_type": "code",
   "execution_count": 40,
   "id": "03c3b277",
   "metadata": {},
   "outputs": [
    {
     "data": {
      "text/html": [
       "<div>\n",
       "<style scoped>\n",
       "    .dataframe tbody tr th:only-of-type {\n",
       "        vertical-align: middle;\n",
       "    }\n",
       "\n",
       "    .dataframe tbody tr th {\n",
       "        vertical-align: top;\n",
       "    }\n",
       "\n",
       "    .dataframe thead th {\n",
       "        text-align: right;\n",
       "    }\n",
       "</style>\n",
       "<table border=\"1\" class=\"dataframe\">\n",
       "  <thead>\n",
       "    <tr style=\"text-align: right;\">\n",
       "      <th></th>\n",
       "      <th>and biriyani</th>\n",
       "      <th>and spicy</th>\n",
       "      <th>biriyani is</th>\n",
       "      <th>deliciuos and</th>\n",
       "      <th>good tasty</th>\n",
       "      <th>is good</th>\n",
       "      <th>is spicy</th>\n",
       "      <th>tasty and</th>\n",
       "      <th>tasty deliciuos</th>\n",
       "    </tr>\n",
       "  </thead>\n",
       "  <tbody>\n",
       "    <tr>\n",
       "      <th>0</th>\n",
       "      <td>0.000000</td>\n",
       "      <td>0.000000</td>\n",
       "      <td>0.707107</td>\n",
       "      <td>0.000000</td>\n",
       "      <td>0.000000</td>\n",
       "      <td>0.707107</td>\n",
       "      <td>0.000000</td>\n",
       "      <td>0.000000</td>\n",
       "      <td>0.000000</td>\n",
       "    </tr>\n",
       "    <tr>\n",
       "      <th>1</th>\n",
       "      <td>0.433452</td>\n",
       "      <td>0.000000</td>\n",
       "      <td>0.512007</td>\n",
       "      <td>0.000000</td>\n",
       "      <td>0.329651</td>\n",
       "      <td>0.256004</td>\n",
       "      <td>0.433452</td>\n",
       "      <td>0.433452</td>\n",
       "      <td>0.000000</td>\n",
       "    </tr>\n",
       "    <tr>\n",
       "      <th>2</th>\n",
       "      <td>0.000000</td>\n",
       "      <td>0.483591</td>\n",
       "      <td>0.285617</td>\n",
       "      <td>0.483591</td>\n",
       "      <td>0.367784</td>\n",
       "      <td>0.285617</td>\n",
       "      <td>0.000000</td>\n",
       "      <td>0.000000</td>\n",
       "      <td>0.483591</td>\n",
       "    </tr>\n",
       "  </tbody>\n",
       "</table>\n",
       "</div>"
      ],
      "text/plain": [
       "   and biriyani  and spicy  biriyani is  deliciuos and  good tasty   is good  \\\n",
       "0      0.000000   0.000000     0.707107       0.000000    0.000000  0.707107   \n",
       "1      0.433452   0.000000     0.512007       0.000000    0.329651  0.256004   \n",
       "2      0.000000   0.483591     0.285617       0.483591    0.367784  0.285617   \n",
       "\n",
       "   is spicy  tasty and  tasty deliciuos  \n",
       "0  0.000000   0.000000         0.000000  \n",
       "1  0.433452   0.433452         0.000000  \n",
       "2  0.000000   0.000000         0.483591  "
      ]
     },
     "execution_count": 40,
     "metadata": {},
     "output_type": "execute_result"
    }
   ],
   "source": [
    "tf = TfidfVectorizer(ngram_range=(2,2))\n",
    "vector = tf.fit_transform(df['Review'])\n",
    "pd.DataFrame(vector.toarray() , columns = tf.get_feature_names_out())"
   ]
  },
  {
   "cell_type": "markdown",
   "id": "875a17c4",
   "metadata": {},
   "source": [
    "#### N-gram and stopword and max feature tech with TFIDF"
   ]
  },
  {
   "cell_type": "code",
   "execution_count": 42,
   "id": "cbb2ead9",
   "metadata": {},
   "outputs": [
    {
     "data": {
      "text/html": [
       "<div>\n",
       "<style scoped>\n",
       "    .dataframe tbody tr th:only-of-type {\n",
       "        vertical-align: middle;\n",
       "    }\n",
       "\n",
       "    .dataframe tbody tr th {\n",
       "        vertical-align: top;\n",
       "    }\n",
       "\n",
       "    .dataframe thead th {\n",
       "        text-align: right;\n",
       "    }\n",
       "</style>\n",
       "<table border=\"1\" class=\"dataframe\">\n",
       "  <thead>\n",
       "    <tr style=\"text-align: right;\">\n",
       "      <th></th>\n",
       "      <th>biriyani good</th>\n",
       "      <th>biriyani spicy</th>\n",
       "      <th>good tasty</th>\n",
       "    </tr>\n",
       "  </thead>\n",
       "  <tbody>\n",
       "    <tr>\n",
       "      <th>0</th>\n",
       "      <td>1.000000</td>\n",
       "      <td>0.000000</td>\n",
       "      <td>0.000000</td>\n",
       "    </tr>\n",
       "    <tr>\n",
       "      <th>1</th>\n",
       "      <td>0.425441</td>\n",
       "      <td>0.720333</td>\n",
       "      <td>0.547832</td>\n",
       "    </tr>\n",
       "    <tr>\n",
       "      <th>2</th>\n",
       "      <td>0.613356</td>\n",
       "      <td>0.000000</td>\n",
       "      <td>0.789807</td>\n",
       "    </tr>\n",
       "  </tbody>\n",
       "</table>\n",
       "</div>"
      ],
      "text/plain": [
       "   biriyani good  biriyani spicy  good tasty\n",
       "0       1.000000        0.000000    0.000000\n",
       "1       0.425441        0.720333    0.547832\n",
       "2       0.613356        0.000000    0.789807"
      ]
     },
     "execution_count": 42,
     "metadata": {},
     "output_type": "execute_result"
    }
   ],
   "source": [
    "tf = TfidfVectorizer(ngram_range=(2,2) , stop_words='english' , max_features=3)\n",
    "vector = tf.fit_transform(df['Review'])\n",
    "pd.DataFrame(vector.toarray() , columns = tf.get_feature_names_out())"
   ]
  },
  {
   "cell_type": "code",
   "execution_count": 43,
   "id": "afed35d4",
   "metadata": {},
   "outputs": [],
   "source": [
    "df = pd.read_csv(r\"C:\\Users\\User\\Downloads\\restaurant_reviews (1).csv\")"
   ]
  },
  {
   "cell_type": "code",
   "execution_count": 44,
   "id": "7243d01f",
   "metadata": {},
   "outputs": [
    {
     "data": {
      "text/html": [
       "<div>\n",
       "<style scoped>\n",
       "    .dataframe tbody tr th:only-of-type {\n",
       "        vertical-align: middle;\n",
       "    }\n",
       "\n",
       "    .dataframe tbody tr th {\n",
       "        vertical-align: top;\n",
       "    }\n",
       "\n",
       "    .dataframe thead th {\n",
       "        text-align: right;\n",
       "    }\n",
       "</style>\n",
       "<table border=\"1\" class=\"dataframe\">\n",
       "  <thead>\n",
       "    <tr style=\"text-align: right;\">\n",
       "      <th></th>\n",
       "      <th>Review</th>\n",
       "    </tr>\n",
       "  </thead>\n",
       "  <tbody>\n",
       "    <tr>\n",
       "      <th>0</th>\n",
       "      <td>An exceptional dining experience! The flavors ...</td>\n",
       "    </tr>\n",
       "    <tr>\n",
       "      <th>1</th>\n",
       "      <td>The menu is a symphony of flavors that take yo...</td>\n",
       "    </tr>\n",
       "    <tr>\n",
       "      <th>2</th>\n",
       "      <td>From appetizers to desserts, the balance of fl...</td>\n",
       "    </tr>\n",
       "    <tr>\n",
       "      <th>3</th>\n",
       "      <td>The ambiance is charming, and the food is noth...</td>\n",
       "    </tr>\n",
       "    <tr>\n",
       "      <th>4</th>\n",
       "      <td>This restaurant is a hidden gem! The dishes ar...</td>\n",
       "    </tr>\n",
       "    <tr>\n",
       "      <th>5</th>\n",
       "      <td>A feast for the senses! The flavors were bold ...</td>\n",
       "    </tr>\n",
       "    <tr>\n",
       "      <th>6</th>\n",
       "      <td>The fusion of different cuisines is done seaml...</td>\n",
       "    </tr>\n",
       "    <tr>\n",
       "      <th>7</th>\n",
       "      <td>This restaurant not only serves delectable dis...</td>\n",
       "    </tr>\n",
       "    <tr>\n",
       "      <th>8</th>\n",
       "      <td>As a vegan, I'm thrilled to have found a resta...</td>\n",
       "    </tr>\n",
       "    <tr>\n",
       "      <th>9</th>\n",
       "      <td>The cozy atmosphere of this restaurant adds to...</td>\n",
       "    </tr>\n",
       "    <tr>\n",
       "      <th>10</th>\n",
       "      <td>The brunch menu is a delightful assortment of ...</td>\n",
       "    </tr>\n",
       "    <tr>\n",
       "      <th>11</th>\n",
       "      <td>Save room for dessert! The sweet offerings her...</td>\n",
       "    </tr>\n",
       "    <tr>\n",
       "      <th>12</th>\n",
       "      <td>The staff here is attentive and knowledgeable....</td>\n",
       "    </tr>\n",
       "    <tr>\n",
       "      <th>13</th>\n",
       "      <td>If you're a fan of authentic flavors, this is ...</td>\n",
       "    </tr>\n",
       "    <tr>\n",
       "      <th>14</th>\n",
       "      <td>This restaurant is a romantic haven. The dim l...</td>\n",
       "    </tr>\n",
       "    <tr>\n",
       "      <th>15</th>\n",
       "      <td>Kudos to the restaurant for its commitment to ...</td>\n",
       "    </tr>\n",
       "    <tr>\n",
       "      <th>16</th>\n",
       "      <td>The menu is a journey through exotic flavors. ...</td>\n",
       "    </tr>\n",
       "    <tr>\n",
       "      <th>17</th>\n",
       "      <td>The restaurant's late-night menu is a savior f...</td>\n",
       "    </tr>\n",
       "    <tr>\n",
       "      <th>18</th>\n",
       "      <td>The menu here offers a comforting selection of...</td>\n",
       "    </tr>\n",
       "    <tr>\n",
       "      <th>19</th>\n",
       "      <td>This restaurant pushes the boundaries of culin...</td>\n",
       "    </tr>\n",
       "  </tbody>\n",
       "</table>\n",
       "</div>"
      ],
      "text/plain": [
       "                                               Review\n",
       "0   An exceptional dining experience! The flavors ...\n",
       "1   The menu is a symphony of flavors that take yo...\n",
       "2   From appetizers to desserts, the balance of fl...\n",
       "3   The ambiance is charming, and the food is noth...\n",
       "4   This restaurant is a hidden gem! The dishes ar...\n",
       "5   A feast for the senses! The flavors were bold ...\n",
       "6   The fusion of different cuisines is done seaml...\n",
       "7   This restaurant not only serves delectable dis...\n",
       "8   As a vegan, I'm thrilled to have found a resta...\n",
       "9   The cozy atmosphere of this restaurant adds to...\n",
       "10  The brunch menu is a delightful assortment of ...\n",
       "11  Save room for dessert! The sweet offerings her...\n",
       "12  The staff here is attentive and knowledgeable....\n",
       "13  If you're a fan of authentic flavors, this is ...\n",
       "14  This restaurant is a romantic haven. The dim l...\n",
       "15  Kudos to the restaurant for its commitment to ...\n",
       "16  The menu is a journey through exotic flavors. ...\n",
       "17  The restaurant's late-night menu is a savior f...\n",
       "18  The menu here offers a comforting selection of...\n",
       "19  This restaurant pushes the boundaries of culin..."
      ]
     },
     "execution_count": 44,
     "metadata": {},
     "output_type": "execute_result"
    }
   ],
   "source": [
    "df"
   ]
  },
  {
   "cell_type": "code",
   "execution_count": 46,
   "id": "84c7b953",
   "metadata": {},
   "outputs": [
    {
     "data": {
      "text/html": [
       "<div>\n",
       "<style scoped>\n",
       "    .dataframe tbody tr th:only-of-type {\n",
       "        vertical-align: middle;\n",
       "    }\n",
       "\n",
       "    .dataframe tbody tr th {\n",
       "        vertical-align: top;\n",
       "    }\n",
       "\n",
       "    .dataframe thead th {\n",
       "        text-align: right;\n",
       "    }\n",
       "</style>\n",
       "<table border=\"1\" class=\"dataframe\">\n",
       "  <thead>\n",
       "    <tr style=\"text-align: right;\">\n",
       "      <th></th>\n",
       "      <th>chef</th>\n",
       "      <th>culinary</th>\n",
       "      <th>dining</th>\n",
       "      <th>dish</th>\n",
       "      <th>dishes</th>\n",
       "      <th>experience</th>\n",
       "      <th>flavors</th>\n",
       "      <th>menu</th>\n",
       "      <th>options</th>\n",
       "      <th>restaurant</th>\n",
       "    </tr>\n",
       "  </thead>\n",
       "  <tbody>\n",
       "    <tr>\n",
       "      <th>0</th>\n",
       "      <td>0.000000</td>\n",
       "      <td>0.000000</td>\n",
       "      <td>0.505988</td>\n",
       "      <td>0.473793</td>\n",
       "      <td>0.000000</td>\n",
       "      <td>0.543155</td>\n",
       "      <td>0.473793</td>\n",
       "      <td>0.000000</td>\n",
       "      <td>0.000000</td>\n",
       "      <td>0.000000</td>\n",
       "    </tr>\n",
       "    <tr>\n",
       "      <th>1</th>\n",
       "      <td>0.000000</td>\n",
       "      <td>0.000000</td>\n",
       "      <td>0.000000</td>\n",
       "      <td>0.616638</td>\n",
       "      <td>0.000000</td>\n",
       "      <td>0.000000</td>\n",
       "      <td>0.616638</td>\n",
       "      <td>0.489404</td>\n",
       "      <td>0.000000</td>\n",
       "      <td>0.000000</td>\n",
       "    </tr>\n",
       "    <tr>\n",
       "      <th>2</th>\n",
       "      <td>0.589584</td>\n",
       "      <td>0.000000</td>\n",
       "      <td>0.589584</td>\n",
       "      <td>0.000000</td>\n",
       "      <td>0.000000</td>\n",
       "      <td>0.000000</td>\n",
       "      <td>0.552070</td>\n",
       "      <td>0.000000</td>\n",
       "      <td>0.000000</td>\n",
       "      <td>0.000000</td>\n",
       "    </tr>\n",
       "    <tr>\n",
       "      <th>3</th>\n",
       "      <td>0.000000</td>\n",
       "      <td>0.000000</td>\n",
       "      <td>0.000000</td>\n",
       "      <td>0.000000</td>\n",
       "      <td>0.536510</td>\n",
       "      <td>0.000000</td>\n",
       "      <td>0.000000</td>\n",
       "      <td>0.480355</td>\n",
       "      <td>0.693842</td>\n",
       "      <td>0.000000</td>\n",
       "    </tr>\n",
       "    <tr>\n",
       "      <th>4</th>\n",
       "      <td>0.000000</td>\n",
       "      <td>0.648313</td>\n",
       "      <td>0.000000</td>\n",
       "      <td>0.000000</td>\n",
       "      <td>0.463771</td>\n",
       "      <td>0.000000</td>\n",
       "      <td>0.000000</td>\n",
       "      <td>0.415230</td>\n",
       "      <td>0.000000</td>\n",
       "      <td>0.438396</td>\n",
       "    </tr>\n",
       "    <tr>\n",
       "      <th>5</th>\n",
       "      <td>0.000000</td>\n",
       "      <td>0.000000</td>\n",
       "      <td>0.505988</td>\n",
       "      <td>0.473793</td>\n",
       "      <td>0.000000</td>\n",
       "      <td>0.543155</td>\n",
       "      <td>0.473793</td>\n",
       "      <td>0.000000</td>\n",
       "      <td>0.000000</td>\n",
       "      <td>0.000000</td>\n",
       "    </tr>\n",
       "    <tr>\n",
       "      <th>6</th>\n",
       "      <td>0.000000</td>\n",
       "      <td>0.712654</td>\n",
       "      <td>0.000000</td>\n",
       "      <td>0.000000</td>\n",
       "      <td>0.509797</td>\n",
       "      <td>0.000000</td>\n",
       "      <td>0.000000</td>\n",
       "      <td>0.000000</td>\n",
       "      <td>0.000000</td>\n",
       "      <td>0.481903</td>\n",
       "    </tr>\n",
       "    <tr>\n",
       "      <th>7</th>\n",
       "      <td>0.000000</td>\n",
       "      <td>0.000000</td>\n",
       "      <td>0.000000</td>\n",
       "      <td>0.000000</td>\n",
       "      <td>0.478492</td>\n",
       "      <td>0.000000</td>\n",
       "      <td>0.000000</td>\n",
       "      <td>0.428410</td>\n",
       "      <td>0.618810</td>\n",
       "      <td>0.452311</td>\n",
       "    </tr>\n",
       "    <tr>\n",
       "      <th>8</th>\n",
       "      <td>0.000000</td>\n",
       "      <td>0.000000</td>\n",
       "      <td>0.000000</td>\n",
       "      <td>0.000000</td>\n",
       "      <td>0.478492</td>\n",
       "      <td>0.000000</td>\n",
       "      <td>0.000000</td>\n",
       "      <td>0.428410</td>\n",
       "      <td>0.618810</td>\n",
       "      <td>0.452311</td>\n",
       "    </tr>\n",
       "    <tr>\n",
       "      <th>9</th>\n",
       "      <td>0.000000</td>\n",
       "      <td>0.000000</td>\n",
       "      <td>0.000000</td>\n",
       "      <td>0.000000</td>\n",
       "      <td>0.726708</td>\n",
       "      <td>0.000000</td>\n",
       "      <td>0.000000</td>\n",
       "      <td>0.000000</td>\n",
       "      <td>0.000000</td>\n",
       "      <td>0.686946</td>\n",
       "    </tr>\n",
       "    <tr>\n",
       "      <th>10</th>\n",
       "      <td>0.000000</td>\n",
       "      <td>0.000000</td>\n",
       "      <td>0.000000</td>\n",
       "      <td>0.484595</td>\n",
       "      <td>0.000000</td>\n",
       "      <td>0.555538</td>\n",
       "      <td>0.000000</td>\n",
       "      <td>0.384606</td>\n",
       "      <td>0.555538</td>\n",
       "      <td>0.000000</td>\n",
       "    </tr>\n",
       "    <tr>\n",
       "      <th>11</th>\n",
       "      <td>1.000000</td>\n",
       "      <td>0.000000</td>\n",
       "      <td>0.000000</td>\n",
       "      <td>0.000000</td>\n",
       "      <td>0.000000</td>\n",
       "      <td>0.000000</td>\n",
       "      <td>0.000000</td>\n",
       "      <td>0.000000</td>\n",
       "      <td>0.000000</td>\n",
       "      <td>0.000000</td>\n",
       "    </tr>\n",
       "    <tr>\n",
       "      <th>12</th>\n",
       "      <td>0.000000</td>\n",
       "      <td>0.000000</td>\n",
       "      <td>0.601065</td>\n",
       "      <td>0.000000</td>\n",
       "      <td>0.000000</td>\n",
       "      <td>0.645216</td>\n",
       "      <td>0.000000</td>\n",
       "      <td>0.000000</td>\n",
       "      <td>0.000000</td>\n",
       "      <td>0.471612</td>\n",
       "    </tr>\n",
       "    <tr>\n",
       "      <th>13</th>\n",
       "      <td>0.493868</td>\n",
       "      <td>0.573050</td>\n",
       "      <td>0.000000</td>\n",
       "      <td>0.462444</td>\n",
       "      <td>0.000000</td>\n",
       "      <td>0.000000</td>\n",
       "      <td>0.462444</td>\n",
       "      <td>0.000000</td>\n",
       "      <td>0.000000</td>\n",
       "      <td>0.000000</td>\n",
       "    </tr>\n",
       "    <tr>\n",
       "      <th>14</th>\n",
       "      <td>0.000000</td>\n",
       "      <td>0.000000</td>\n",
       "      <td>0.000000</td>\n",
       "      <td>0.000000</td>\n",
       "      <td>0.478492</td>\n",
       "      <td>0.000000</td>\n",
       "      <td>0.000000</td>\n",
       "      <td>0.428410</td>\n",
       "      <td>0.618810</td>\n",
       "      <td>0.452311</td>\n",
       "    </tr>\n",
       "    <tr>\n",
       "      <th>15</th>\n",
       "      <td>0.000000</td>\n",
       "      <td>0.000000</td>\n",
       "      <td>0.930924</td>\n",
       "      <td>0.000000</td>\n",
       "      <td>0.000000</td>\n",
       "      <td>0.000000</td>\n",
       "      <td>0.000000</td>\n",
       "      <td>0.000000</td>\n",
       "      <td>0.000000</td>\n",
       "      <td>0.365214</td>\n",
       "    </tr>\n",
       "    <tr>\n",
       "      <th>16</th>\n",
       "      <td>0.549992</td>\n",
       "      <td>0.000000</td>\n",
       "      <td>0.000000</td>\n",
       "      <td>0.514997</td>\n",
       "      <td>0.000000</td>\n",
       "      <td>0.000000</td>\n",
       "      <td>0.514997</td>\n",
       "      <td>0.408735</td>\n",
       "      <td>0.000000</td>\n",
       "      <td>0.000000</td>\n",
       "    </tr>\n",
       "    <tr>\n",
       "      <th>17</th>\n",
       "      <td>0.000000</td>\n",
       "      <td>0.000000</td>\n",
       "      <td>0.365976</td>\n",
       "      <td>0.000000</td>\n",
       "      <td>0.303776</td>\n",
       "      <td>0.785717</td>\n",
       "      <td>0.000000</td>\n",
       "      <td>0.271981</td>\n",
       "      <td>0.000000</td>\n",
       "      <td>0.287155</td>\n",
       "    </tr>\n",
       "    <tr>\n",
       "      <th>18</th>\n",
       "      <td>0.667964</td>\n",
       "      <td>0.000000</td>\n",
       "      <td>0.000000</td>\n",
       "      <td>0.000000</td>\n",
       "      <td>0.554439</td>\n",
       "      <td>0.000000</td>\n",
       "      <td>0.000000</td>\n",
       "      <td>0.496408</td>\n",
       "      <td>0.000000</td>\n",
       "      <td>0.000000</td>\n",
       "    </tr>\n",
       "    <tr>\n",
       "      <th>19</th>\n",
       "      <td>0.327790</td>\n",
       "      <td>0.760689</td>\n",
       "      <td>0.000000</td>\n",
       "      <td>0.306933</td>\n",
       "      <td>0.000000</td>\n",
       "      <td>0.000000</td>\n",
       "      <td>0.306933</td>\n",
       "      <td>0.243602</td>\n",
       "      <td>0.000000</td>\n",
       "      <td>0.257193</td>\n",
       "    </tr>\n",
       "  </tbody>\n",
       "</table>\n",
       "</div>"
      ],
      "text/plain": [
       "        chef  culinary    dining      dish    dishes  experience   flavors  \\\n",
       "0   0.000000  0.000000  0.505988  0.473793  0.000000    0.543155  0.473793   \n",
       "1   0.000000  0.000000  0.000000  0.616638  0.000000    0.000000  0.616638   \n",
       "2   0.589584  0.000000  0.589584  0.000000  0.000000    0.000000  0.552070   \n",
       "3   0.000000  0.000000  0.000000  0.000000  0.536510    0.000000  0.000000   \n",
       "4   0.000000  0.648313  0.000000  0.000000  0.463771    0.000000  0.000000   \n",
       "5   0.000000  0.000000  0.505988  0.473793  0.000000    0.543155  0.473793   \n",
       "6   0.000000  0.712654  0.000000  0.000000  0.509797    0.000000  0.000000   \n",
       "7   0.000000  0.000000  0.000000  0.000000  0.478492    0.000000  0.000000   \n",
       "8   0.000000  0.000000  0.000000  0.000000  0.478492    0.000000  0.000000   \n",
       "9   0.000000  0.000000  0.000000  0.000000  0.726708    0.000000  0.000000   \n",
       "10  0.000000  0.000000  0.000000  0.484595  0.000000    0.555538  0.000000   \n",
       "11  1.000000  0.000000  0.000000  0.000000  0.000000    0.000000  0.000000   \n",
       "12  0.000000  0.000000  0.601065  0.000000  0.000000    0.645216  0.000000   \n",
       "13  0.493868  0.573050  0.000000  0.462444  0.000000    0.000000  0.462444   \n",
       "14  0.000000  0.000000  0.000000  0.000000  0.478492    0.000000  0.000000   \n",
       "15  0.000000  0.000000  0.930924  0.000000  0.000000    0.000000  0.000000   \n",
       "16  0.549992  0.000000  0.000000  0.514997  0.000000    0.000000  0.514997   \n",
       "17  0.000000  0.000000  0.365976  0.000000  0.303776    0.785717  0.000000   \n",
       "18  0.667964  0.000000  0.000000  0.000000  0.554439    0.000000  0.000000   \n",
       "19  0.327790  0.760689  0.000000  0.306933  0.000000    0.000000  0.306933   \n",
       "\n",
       "        menu   options  restaurant  \n",
       "0   0.000000  0.000000    0.000000  \n",
       "1   0.489404  0.000000    0.000000  \n",
       "2   0.000000  0.000000    0.000000  \n",
       "3   0.480355  0.693842    0.000000  \n",
       "4   0.415230  0.000000    0.438396  \n",
       "5   0.000000  0.000000    0.000000  \n",
       "6   0.000000  0.000000    0.481903  \n",
       "7   0.428410  0.618810    0.452311  \n",
       "8   0.428410  0.618810    0.452311  \n",
       "9   0.000000  0.000000    0.686946  \n",
       "10  0.384606  0.555538    0.000000  \n",
       "11  0.000000  0.000000    0.000000  \n",
       "12  0.000000  0.000000    0.471612  \n",
       "13  0.000000  0.000000    0.000000  \n",
       "14  0.428410  0.618810    0.452311  \n",
       "15  0.000000  0.000000    0.365214  \n",
       "16  0.408735  0.000000    0.000000  \n",
       "17  0.271981  0.000000    0.287155  \n",
       "18  0.496408  0.000000    0.000000  \n",
       "19  0.243602  0.000000    0.257193  "
      ]
     },
     "execution_count": 46,
     "metadata": {},
     "output_type": "execute_result"
    }
   ],
   "source": [
    "tf = TfidfVectorizer(ngram_range=(1,1) , stop_words='english' , max_features=10)\n",
    "vector = tf.fit_transform(df['Review'])\n",
    "pd.DataFrame(vector.toarray() , columns = tf.get_feature_names_out())"
   ]
  },
  {
   "cell_type": "code",
   "execution_count": null,
   "id": "5f47ad25",
   "metadata": {},
   "outputs": [],
   "source": []
  }
 ],
 "metadata": {
  "kernelspec": {
   "display_name": "Python 3 (ipykernel)",
   "language": "python",
   "name": "python3"
  },
  "language_info": {
   "codemirror_mode": {
    "name": "ipython",
    "version": 3
   },
   "file_extension": ".py",
   "mimetype": "text/x-python",
   "name": "python",
   "nbconvert_exporter": "python",
   "pygments_lexer": "ipython3",
   "version": "3.11.4"
  }
 },
 "nbformat": 4,
 "nbformat_minor": 5
}
