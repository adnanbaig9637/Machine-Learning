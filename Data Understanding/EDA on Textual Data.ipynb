{
 "cells": [
  {
   "cell_type": "code",
   "execution_count": 1,
   "id": "251ec934",
   "metadata": {},
   "outputs": [],
   "source": [
    "import pandas as pd\n",
    "import emoji\n",
    "import re\n",
    "from nltk.corpus import stopwords\n",
    "from nltk.stem import PorterStemmer , LancasterStemmer , SnowballStemmer , WordNetLemmatizer\n",
    "from nltk.tokenize import word_tokenize , sent_tokenize\n",
    "import autocorrect\n",
    "import textblob"
   ]
  },
  {
   "cell_type": "code",
   "execution_count": 8,
   "id": "a8b8bdb8",
   "metadata": {},
   "outputs": [],
   "source": [
    "df = pd.read_csv(r\"C:\\Users\\User\\Downloads\\sentimentdataset.csv\")"
   ]
  },
  {
   "cell_type": "code",
   "execution_count": 9,
   "id": "2bd70582",
   "metadata": {},
   "outputs": [
    {
     "data": {
      "text/html": [
       "<div>\n",
       "<style scoped>\n",
       "    .dataframe tbody tr th:only-of-type {\n",
       "        vertical-align: middle;\n",
       "    }\n",
       "\n",
       "    .dataframe tbody tr th {\n",
       "        vertical-align: top;\n",
       "    }\n",
       "\n",
       "    .dataframe thead th {\n",
       "        text-align: right;\n",
       "    }\n",
       "</style>\n",
       "<table border=\"1\" class=\"dataframe\">\n",
       "  <thead>\n",
       "    <tr style=\"text-align: right;\">\n",
       "      <th></th>\n",
       "      <th>Unnamed: 0.1</th>\n",
       "      <th>Unnamed: 0</th>\n",
       "      <th>Text</th>\n",
       "      <th>Sentiment</th>\n",
       "      <th>Timestamp</th>\n",
       "      <th>User</th>\n",
       "      <th>Platform</th>\n",
       "      <th>Hashtags</th>\n",
       "      <th>Retweets</th>\n",
       "      <th>Likes</th>\n",
       "      <th>Country</th>\n",
       "      <th>Year</th>\n",
       "      <th>Month</th>\n",
       "      <th>Day</th>\n",
       "      <th>Hour</th>\n",
       "    </tr>\n",
       "  </thead>\n",
       "  <tbody>\n",
       "    <tr>\n",
       "      <th>0</th>\n",
       "      <td>0</td>\n",
       "      <td>0</td>\n",
       "      <td>Enjoying a beautiful day at the park!        ...</td>\n",
       "      <td>Positive</td>\n",
       "      <td>2023-01-15 12:30:00</td>\n",
       "      <td>User123</td>\n",
       "      <td>Twitter</td>\n",
       "      <td>#Nature #Park</td>\n",
       "      <td>15.0</td>\n",
       "      <td>30.0</td>\n",
       "      <td>USA</td>\n",
       "      <td>2023</td>\n",
       "      <td>1</td>\n",
       "      <td>15</td>\n",
       "      <td>12</td>\n",
       "    </tr>\n",
       "    <tr>\n",
       "      <th>1</th>\n",
       "      <td>1</td>\n",
       "      <td>1</td>\n",
       "      <td>Traffic was terrible this morning.           ...</td>\n",
       "      <td>Negative</td>\n",
       "      <td>2023-01-15 08:45:00</td>\n",
       "      <td>CommuterX</td>\n",
       "      <td>Twitter</td>\n",
       "      <td>#Traffic #Morning</td>\n",
       "      <td>5.0</td>\n",
       "      <td>10.0</td>\n",
       "      <td>Canada</td>\n",
       "      <td>2023</td>\n",
       "      <td>1</td>\n",
       "      <td>15</td>\n",
       "      <td>8</td>\n",
       "    </tr>\n",
       "    <tr>\n",
       "      <th>2</th>\n",
       "      <td>2</td>\n",
       "      <td>2</td>\n",
       "      <td>Just finished an amazing workout! 💪          ...</td>\n",
       "      <td>Positive</td>\n",
       "      <td>2023-01-15 15:45:00</td>\n",
       "      <td>FitnessFan</td>\n",
       "      <td>Instagram</td>\n",
       "      <td>#Fitness #Workout</td>\n",
       "      <td>20.0</td>\n",
       "      <td>40.0</td>\n",
       "      <td>USA</td>\n",
       "      <td>2023</td>\n",
       "      <td>1</td>\n",
       "      <td>15</td>\n",
       "      <td>15</td>\n",
       "    </tr>\n",
       "    <tr>\n",
       "      <th>3</th>\n",
       "      <td>3</td>\n",
       "      <td>3</td>\n",
       "      <td>Excited about the upcoming weekend getaway!  ...</td>\n",
       "      <td>Positive</td>\n",
       "      <td>2023-01-15 18:20:00</td>\n",
       "      <td>AdventureX</td>\n",
       "      <td>Facebook</td>\n",
       "      <td>#Travel #Adventure</td>\n",
       "      <td>8.0</td>\n",
       "      <td>15.0</td>\n",
       "      <td>UK</td>\n",
       "      <td>2023</td>\n",
       "      <td>1</td>\n",
       "      <td>15</td>\n",
       "      <td>18</td>\n",
       "    </tr>\n",
       "    <tr>\n",
       "      <th>4</th>\n",
       "      <td>4</td>\n",
       "      <td>4</td>\n",
       "      <td>Trying out a new recipe for dinner tonight.  ...</td>\n",
       "      <td>Neutral</td>\n",
       "      <td>2023-01-15 19:55:00</td>\n",
       "      <td>ChefCook</td>\n",
       "      <td>Instagram</td>\n",
       "      <td>#Cooking #Food</td>\n",
       "      <td>12.0</td>\n",
       "      <td>25.0</td>\n",
       "      <td>Australia</td>\n",
       "      <td>2023</td>\n",
       "      <td>1</td>\n",
       "      <td>15</td>\n",
       "      <td>19</td>\n",
       "    </tr>\n",
       "    <tr>\n",
       "      <th>...</th>\n",
       "      <td>...</td>\n",
       "      <td>...</td>\n",
       "      <td>...</td>\n",
       "      <td>...</td>\n",
       "      <td>...</td>\n",
       "      <td>...</td>\n",
       "      <td>...</td>\n",
       "      <td>...</td>\n",
       "      <td>...</td>\n",
       "      <td>...</td>\n",
       "      <td>...</td>\n",
       "      <td>...</td>\n",
       "      <td>...</td>\n",
       "      <td>...</td>\n",
       "      <td>...</td>\n",
       "    </tr>\n",
       "    <tr>\n",
       "      <th>727</th>\n",
       "      <td>728</td>\n",
       "      <td>732</td>\n",
       "      <td>Collaborating on a science project that receiv...</td>\n",
       "      <td>Happy</td>\n",
       "      <td>2017-08-18 18:20:00</td>\n",
       "      <td>ScienceProjectSuccessHighSchool</td>\n",
       "      <td>Facebook</td>\n",
       "      <td>#ScienceFairWinner #HighSchoolScience</td>\n",
       "      <td>20.0</td>\n",
       "      <td>39.0</td>\n",
       "      <td>UK</td>\n",
       "      <td>2017</td>\n",
       "      <td>8</td>\n",
       "      <td>18</td>\n",
       "      <td>18</td>\n",
       "    </tr>\n",
       "    <tr>\n",
       "      <th>728</th>\n",
       "      <td>729</td>\n",
       "      <td>733</td>\n",
       "      <td>Attending a surprise birthday party organized ...</td>\n",
       "      <td>Happy</td>\n",
       "      <td>2018-06-22 14:15:00</td>\n",
       "      <td>BirthdayPartyJoyHighSchool</td>\n",
       "      <td>Instagram</td>\n",
       "      <td>#SurpriseCelebration #HighSchoolFriendship</td>\n",
       "      <td>25.0</td>\n",
       "      <td>48.0</td>\n",
       "      <td>USA</td>\n",
       "      <td>2018</td>\n",
       "      <td>6</td>\n",
       "      <td>22</td>\n",
       "      <td>14</td>\n",
       "    </tr>\n",
       "    <tr>\n",
       "      <th>729</th>\n",
       "      <td>730</td>\n",
       "      <td>734</td>\n",
       "      <td>Successfully fundraising for a school charity ...</td>\n",
       "      <td>Happy</td>\n",
       "      <td>2019-04-05 17:30:00</td>\n",
       "      <td>CharityFundraisingTriumphHighSchool</td>\n",
       "      <td>Twitter</td>\n",
       "      <td>#CommunityGiving #HighSchoolPhilanthropy</td>\n",
       "      <td>22.0</td>\n",
       "      <td>42.0</td>\n",
       "      <td>Canada</td>\n",
       "      <td>2019</td>\n",
       "      <td>4</td>\n",
       "      <td>5</td>\n",
       "      <td>17</td>\n",
       "    </tr>\n",
       "    <tr>\n",
       "      <th>730</th>\n",
       "      <td>731</td>\n",
       "      <td>735</td>\n",
       "      <td>Participating in a multicultural festival, cel...</td>\n",
       "      <td>Happy</td>\n",
       "      <td>2020-02-29 20:45:00</td>\n",
       "      <td>MulticulturalFestivalJoyHighSchool</td>\n",
       "      <td>Facebook</td>\n",
       "      <td>#CulturalCelebration #HighSchoolUnity</td>\n",
       "      <td>21.0</td>\n",
       "      <td>43.0</td>\n",
       "      <td>UK</td>\n",
       "      <td>2020</td>\n",
       "      <td>2</td>\n",
       "      <td>29</td>\n",
       "      <td>20</td>\n",
       "    </tr>\n",
       "    <tr>\n",
       "      <th>731</th>\n",
       "      <td>732</td>\n",
       "      <td>736</td>\n",
       "      <td>Organizing a virtual talent show during challe...</td>\n",
       "      <td>Happy</td>\n",
       "      <td>2020-11-15 15:15:00</td>\n",
       "      <td>VirtualTalentShowSuccessHighSchool</td>\n",
       "      <td>Instagram</td>\n",
       "      <td>#VirtualEntertainment #HighSchoolPositivity</td>\n",
       "      <td>24.0</td>\n",
       "      <td>47.0</td>\n",
       "      <td>USA</td>\n",
       "      <td>2020</td>\n",
       "      <td>11</td>\n",
       "      <td>15</td>\n",
       "      <td>15</td>\n",
       "    </tr>\n",
       "  </tbody>\n",
       "</table>\n",
       "<p>732 rows × 15 columns</p>\n",
       "</div>"
      ],
      "text/plain": [
       "     Unnamed: 0.1  Unnamed: 0  \\\n",
       "0               0           0   \n",
       "1               1           1   \n",
       "2               2           2   \n",
       "3               3           3   \n",
       "4               4           4   \n",
       "..            ...         ...   \n",
       "727           728         732   \n",
       "728           729         733   \n",
       "729           730         734   \n",
       "730           731         735   \n",
       "731           732         736   \n",
       "\n",
       "                                                  Text    Sentiment  \\\n",
       "0     Enjoying a beautiful day at the park!        ...   Positive     \n",
       "1     Traffic was terrible this morning.           ...   Negative     \n",
       "2     Just finished an amazing workout! 💪          ...   Positive     \n",
       "3     Excited about the upcoming weekend getaway!  ...   Positive     \n",
       "4     Trying out a new recipe for dinner tonight.  ...   Neutral      \n",
       "..                                                 ...          ...   \n",
       "727  Collaborating on a science project that receiv...       Happy    \n",
       "728  Attending a surprise birthday party organized ...       Happy    \n",
       "729  Successfully fundraising for a school charity ...       Happy    \n",
       "730  Participating in a multicultural festival, cel...       Happy    \n",
       "731  Organizing a virtual talent show during challe...       Happy    \n",
       "\n",
       "               Timestamp                                   User     Platform  \\\n",
       "0    2023-01-15 12:30:00                          User123          Twitter     \n",
       "1    2023-01-15 08:45:00                          CommuterX        Twitter     \n",
       "2    2023-01-15 15:45:00                          FitnessFan      Instagram    \n",
       "3    2023-01-15 18:20:00                          AdventureX       Facebook    \n",
       "4    2023-01-15 19:55:00                          ChefCook        Instagram    \n",
       "..                   ...                                    ...          ...   \n",
       "727  2017-08-18 18:20:00       ScienceProjectSuccessHighSchool     Facebook    \n",
       "728  2018-06-22 14:15:00            BirthdayPartyJoyHighSchool    Instagram    \n",
       "729  2019-04-05 17:30:00   CharityFundraisingTriumphHighSchool      Twitter    \n",
       "730  2020-02-29 20:45:00    MulticulturalFestivalJoyHighSchool     Facebook    \n",
       "731  2020-11-15 15:15:00    VirtualTalentShowSuccessHighSchool    Instagram    \n",
       "\n",
       "                                          Hashtags  Retweets  Likes  \\\n",
       "0        #Nature #Park                                  15.0   30.0   \n",
       "1        #Traffic #Morning                               5.0   10.0   \n",
       "2        #Fitness #Workout                              20.0   40.0   \n",
       "3        #Travel #Adventure                              8.0   15.0   \n",
       "4        #Cooking #Food                                 12.0   25.0   \n",
       "..                                             ...       ...    ...   \n",
       "727         #ScienceFairWinner #HighSchoolScience       20.0   39.0   \n",
       "728    #SurpriseCelebration #HighSchoolFriendship       25.0   48.0   \n",
       "729      #CommunityGiving #HighSchoolPhilanthropy       22.0   42.0   \n",
       "730         #CulturalCelebration #HighSchoolUnity       21.0   43.0   \n",
       "731   #VirtualEntertainment #HighSchoolPositivity       24.0   47.0   \n",
       "\n",
       "          Country  Year  Month  Day  Hour  \n",
       "0       USA        2023      1   15    12  \n",
       "1       Canada     2023      1   15     8  \n",
       "2     USA          2023      1   15    15  \n",
       "3       UK         2023      1   15    18  \n",
       "4      Australia   2023      1   15    19  \n",
       "..            ...   ...    ...  ...   ...  \n",
       "727            UK  2017      8   18    18  \n",
       "728           USA  2018      6   22    14  \n",
       "729        Canada  2019      4    5    17  \n",
       "730            UK  2020      2   29    20  \n",
       "731           USA  2020     11   15    15  \n",
       "\n",
       "[732 rows x 15 columns]"
      ]
     },
     "execution_count": 9,
     "metadata": {},
     "output_type": "execute_result"
    }
   ],
   "source": [
    "df"
   ]
  },
  {
   "cell_type": "code",
   "execution_count": 12,
   "id": "40ba6625",
   "metadata": {},
   "outputs": [
    {
     "data": {
      "text/plain": [
       "0       Enjoying a beautiful day at the park!        ...\n",
       "1       Traffic was terrible this morning.           ...\n",
       "2       Just finished an amazing workout! 💪          ...\n",
       "3       Excited about the upcoming weekend getaway!  ...\n",
       "4       Trying out a new recipe for dinner tonight.  ...\n",
       "                             ...                        \n",
       "727    Collaborating on a science project that receiv...\n",
       "728    Attending a surprise birthday party organized ...\n",
       "729    Successfully fundraising for a school charity ...\n",
       "730    Participating in a multicultural festival, cel...\n",
       "731    Organizing a virtual talent show during challe...\n",
       "Name: Text, Length: 732, dtype: object"
      ]
     },
     "execution_count": 12,
     "metadata": {},
     "output_type": "execute_result"
    }
   ],
   "source": [
    "df['Text']"
   ]
  },
  {
   "cell_type": "markdown",
   "id": "88f0360d",
   "metadata": {},
   "source": [
    "#### Emojis Count in the dataset"
   ]
  },
  {
   "cell_type": "code",
   "execution_count": 13,
   "id": "df0ff469",
   "metadata": {},
   "outputs": [
    {
     "data": {
      "text/plain": [
       "11"
      ]
     },
     "execution_count": 13,
     "metadata": {},
     "output_type": "execute_result"
    }
   ],
   "source": [
    "count = 0\n",
    "df[\"Text\"].apply(lambda x: count + emoji.emoji_count(x)).sum()"
   ]
  },
  {
   "cell_type": "code",
   "execution_count": null,
   "id": "4d13a2b3",
   "metadata": {},
   "outputs": [],
   "source": [
    "def eda(data,column):\n",
    "    count = 0\n",
    "    count = df[\"Text\"].apply(lambda x: count + emoji.emoji_count(x)).sum()"
   ]
  },
  {
   "cell_type": "markdown",
   "id": "2f57190b",
   "metadata": {},
   "source": [
    "#### Lowercase"
   ]
  },
  {
   "cell_type": "code",
   "execution_count": 16,
   "id": "3a95cfb8",
   "metadata": {},
   "outputs": [
    {
     "data": {
      "text/plain": [
       "0"
      ]
     },
     "execution_count": 16,
     "metadata": {},
     "output_type": "execute_result"
    }
   ],
   "source": [
    "df[\"Text\"].str.islower().sum()"
   ]
  },
  {
   "cell_type": "markdown",
   "id": "5f518ef1",
   "metadata": {},
   "source": [
    "#### URLs"
   ]
  },
  {
   "cell_type": "code",
   "execution_count": null,
   "id": "06c8901d",
   "metadata": {},
   "outputs": [],
   "source": [
    "df[\"Text\"],apply(lambda x: if re.search(r'www.\\S+ | https?://\\S+', x) else False).sum()"
   ]
  },
  {
   "cell_type": "markdown",
   "id": "a2ccfab5",
   "metadata": {},
   "source": [
    "#### HTML tags"
   ]
  },
  {
   "cell_type": "code",
   "execution_count": null,
   "id": "7519925f",
   "metadata": {},
   "outputs": [],
   "source": [
    "tag = df['Text'].apply(lambda x : if re.search(r'<[^>]+>' , x) else False).sum()"
   ]
  },
  {
   "cell_type": "markdown",
   "id": "b313e19f",
   "metadata": {},
   "source": [
    "#### Punctutation"
   ]
  },
  {
   "cell_type": "code",
   "execution_count": null,
   "id": "6f1a6df0",
   "metadata": {},
   "outputs": [],
   "source": [
    "punct = df['Text'].apply(lambda x : if re.search(r '[^a-zA-Z0-9]' , x) else False).sum()"
   ]
  },
  {
   "cell_type": "markdown",
   "id": "a99904a2",
   "metadata": {},
   "source": [
    "#### Digits"
   ]
  },
  {
   "cell_type": "code",
   "execution_count": null,
   "id": "c75e5766",
   "metadata": {},
   "outputs": [],
   "source": [
    "digit = df['Text'].apply(lambda x : if re.search(r '[0-9]' , x) else False).sum()"
   ]
  },
  {
   "cell_type": "code",
   "execution_count": null,
   "id": "fe6fa782",
   "metadata": {},
   "outputs": [],
   "source": []
  },
  {
   "cell_type": "code",
   "execution_count": 30,
   "id": "7a42437c",
   "metadata": {},
   "outputs": [
    {
     "ename": "SyntaxError",
     "evalue": "expected 'else' after 'if' expression (588002704.py, line 7)",
     "output_type": "error",
     "traceback": [
      "\u001b[1;36m  Cell \u001b[1;32mIn[30], line 7\u001b[1;36m\u001b[0m\n\u001b[1;33m    punct = data[column].apply(lambda x : True if re.search(r '[^a-zA-Z0-9]' , x) else False).sum()\u001b[0m\n\u001b[1;37m                                          ^\u001b[0m\n\u001b[1;31mSyntaxError\u001b[0m\u001b[1;31m:\u001b[0m expected 'else' after 'if' expression\n"
     ]
    }
   ],
   "source": [
    "def eda(data,column):\n",
    "    count = 0\n",
    "    count = data[column].apply(lambda x: count + emoji.emoji_count(x)).sum()\n",
    "    lower = data[column].str.islower().sum()\n",
    "    url   = data[column].apply(lambda x: True if re.search(r'www.\\S+ | https?://\\S+', x) else False).sum()\n",
    "    tag   = data[column].apply(lambda x : True if re.search(r'<[^>]+>' , x) else False).sum()\n",
    "    punct = data[column].apply(lambda x : True if re.search(r '[^a-zA-Z0-9]' , x) else False).sum()\n",
    "    digit = data[column].apply(lambda x : True if re.search(r '[0-9]' , x) else False).sum()\n",
    "    return pd.Series(\"Emoji\" :count , \"Lowercase\" : lower , \"URLs\" : url ,\"HTML tags\" : tag , \"Punctuation Marks\" : punct, \"Digits\" : digit)"
   ]
  },
  {
   "cell_type": "code",
   "execution_count": 31,
   "id": "8a78b209",
   "metadata": {},
   "outputs": [],
   "source": [
    "dff = pd.read_csv(r\"C:\\Users\\User\\Downloads\\Dataset_-_Test.csv\")"
   ]
  },
  {
   "cell_type": "code",
   "execution_count": 32,
   "id": "2b4f8a61",
   "metadata": {},
   "outputs": [
    {
     "data": {
      "text/html": [
       "<div>\n",
       "<style scoped>\n",
       "    .dataframe tbody tr th:only-of-type {\n",
       "        vertical-align: middle;\n",
       "    }\n",
       "\n",
       "    .dataframe tbody tr th {\n",
       "        vertical-align: top;\n",
       "    }\n",
       "\n",
       "    .dataframe thead th {\n",
       "        text-align: right;\n",
       "    }\n",
       "</style>\n",
       "<table border=\"1\" class=\"dataframe\">\n",
       "  <thead>\n",
       "    <tr style=\"text-align: right;\">\n",
       "      <th></th>\n",
       "      <th>Tweet</th>\n",
       "    </tr>\n",
       "  </thead>\n",
       "  <tbody>\n",
       "    <tr>\n",
       "      <th>0</th>\n",
       "      <td>Hand-Held ���Hobo�۪: Drafthouse launches ���Ho...</td>\n",
       "    </tr>\n",
       "    <tr>\n",
       "      <th>1</th>\n",
       "      <td>Again? RT @mention Line at the Apple store is ...</td>\n",
       "    </tr>\n",
       "    <tr>\n",
       "      <th>2</th>\n",
       "      <td>Boooo! RT @mention Flipboard is developing an ...</td>\n",
       "    </tr>\n",
       "    <tr>\n",
       "      <th>3</th>\n",
       "      <td>Thanks to @mention for publishing the news of ...</td>\n",
       "    </tr>\n",
       "    <tr>\n",
       "      <th>4</th>\n",
       "      <td>���@mention &amp;quot;Apple has opened a pop-up st...</td>\n",
       "    </tr>\n",
       "    <tr>\n",
       "      <th>...</th>\n",
       "      <td>...</td>\n",
       "    </tr>\n",
       "    <tr>\n",
       "      <th>499</th>\n",
       "      <td>Hey is anyone doing #sxsw signing up for the g...</td>\n",
       "    </tr>\n",
       "    <tr>\n",
       "      <th>500</th>\n",
       "      <td>@mention you can buy my used iPad and I'll pic...</td>\n",
       "    </tr>\n",
       "    <tr>\n",
       "      <th>501</th>\n",
       "      <td>@mention You could buy a new iPad 2 tmrw at th...</td>\n",
       "    </tr>\n",
       "    <tr>\n",
       "      <th>502</th>\n",
       "      <td>Guys, if you ever plan on attending #SXSW, you...</td>\n",
       "    </tr>\n",
       "    <tr>\n",
       "      <th>503</th>\n",
       "      <td>&amp;quot;Do you know what Apple is really good at...</td>\n",
       "    </tr>\n",
       "  </tbody>\n",
       "</table>\n",
       "<p>504 rows × 1 columns</p>\n",
       "</div>"
      ],
      "text/plain": [
       "                                                 Tweet\n",
       "0    Hand-Held ���Hobo�۪: Drafthouse launches ���Ho...\n",
       "1    Again? RT @mention Line at the Apple store is ...\n",
       "2    Boooo! RT @mention Flipboard is developing an ...\n",
       "3    Thanks to @mention for publishing the news of ...\n",
       "4    ���@mention &quot;Apple has opened a pop-up st...\n",
       "..                                                 ...\n",
       "499  Hey is anyone doing #sxsw signing up for the g...\n",
       "500  @mention you can buy my used iPad and I'll pic...\n",
       "501  @mention You could buy a new iPad 2 tmrw at th...\n",
       "502  Guys, if you ever plan on attending #SXSW, you...\n",
       "503  &quot;Do you know what Apple is really good at...\n",
       "\n",
       "[504 rows x 1 columns]"
      ]
     },
     "execution_count": 32,
     "metadata": {},
     "output_type": "execute_result"
    }
   ],
   "source": [
    "dff"
   ]
  },
  {
   "cell_type": "code",
   "execution_count": 40,
   "id": "0e1ee7de",
   "metadata": {},
   "outputs": [
    {
     "ename": "SyntaxError",
     "evalue": "expected 'else' after 'if' expression (2521669231.py, line 7)",
     "output_type": "error",
     "traceback": [
      "\u001b[1;36m  Cell \u001b[1;32mIn[40], line 7\u001b[1;36m\u001b[0m\n\u001b[1;33m    punct = data[column].apply(lambda x : True if re.search(r '[^a-zA-Z0-9]' , x) else False).sum()\u001b[0m\n\u001b[1;37m                                          ^\u001b[0m\n\u001b[1;31mSyntaxError\u001b[0m\u001b[1;31m:\u001b[0m expected 'else' after 'if' expression\n"
     ]
    }
   ],
   "source": [
    "def eda(data,column):\n",
    "    count = 0\n",
    "    count = data[column].apply (lambda x: count + emoji.emoji_count(x)).sum()\n",
    "    lower = data[column].str.islower().sum()\n",
    "    url   = data[column].apply(lambda x: True if re.search(r'www.\\S+ | https?://\\S+', x) else False).sum()\n",
    "    tag   = data[column].apply(lambda x : True if re.search(r'<[^>]+>' , x) else False).sum()\n",
    "    punct = data[column].apply(lambda x : True if re.search(r '[^a-zA-Z0-9]' , x) else False).sum()\n",
    "    digit = data[column].apply(lambda x : True if re.search(r '[0-9]' , x) else False).sum()\n",
    "    return pd.Series(\"Emoji\" :count , \"Lowercase\" : lower , \"URLs\" : url ,\"HTML tags\" : tag , \"Punctuation Marks\" : punct, \"Digits\" : digit)"
   ]
  },
  {
   "cell_type": "code",
   "execution_count": 34,
   "id": "b5bfc25c",
   "metadata": {},
   "outputs": [],
   "source": [
    "def eda(data):\n",
    "    count = 0 \n",
    "    count = data.apply(lambda x: count + emoji.emoji_count(x)).sum()\n",
    "    lower = data.str.islower().sum()\n",
    "    url = data.apply(lambda x: True if re.search(r'https?:\\S+| www.\\S+',x) else False).sum()\n",
    "    tags = data.apply(lambda x: True if re.search(r'<[^>]+>',x) else False).sum()\n",
    "    punctuation = data.apply(lambda x: True if re.search(r'[^a-zA-Z0-9]',x) else False).sum()\n",
    "    digits = data.apply(lambda x: True if re.search(r'[0-9]',x) else False).sum()\n",
    "\n",
    "    return pd.Series({'Emoji':count,'Lower_case':lower,\"Urls\":url,'tags':tags,'punctuation':punctuation,'digits':digits})"
   ]
  },
  {
   "cell_type": "code",
   "execution_count": 35,
   "id": "93cac689",
   "metadata": {},
   "outputs": [
    {
     "data": {
      "text/plain": [
       "Emoji            0\n",
       "Lower_case       5\n",
       "Urls             1\n",
       "tags             0\n",
       "punctuation    504\n",
       "digits         161\n",
       "dtype: int64"
      ]
     },
     "execution_count": 35,
     "metadata": {},
     "output_type": "execute_result"
    }
   ],
   "source": [
    "eda(dff.Tweet)"
   ]
  },
  {
   "cell_type": "markdown",
   "id": "0204b23e",
   "metadata": {},
   "source": [
    "### ALL LOWERCASE"
   ]
  },
  {
   "cell_type": "code",
   "execution_count": 41,
   "id": "cc2b855d",
   "metadata": {},
   "outputs": [],
   "source": [
    "def text_pre(x):\n",
    "    x = x.lower()\n",
    "    \n",
    "    return x"
   ]
  },
  {
   "cell_type": "code",
   "execution_count": 42,
   "id": "c31c6f0a",
   "metadata": {},
   "outputs": [
    {
     "data": {
      "text/plain": [
       "0       enjoying a beautiful day at the park!        ...\n",
       "1       traffic was terrible this morning.           ...\n",
       "2       just finished an amazing workout! 💪          ...\n",
       "3       excited about the upcoming weekend getaway!  ...\n",
       "4       trying out a new recipe for dinner tonight.  ...\n",
       "                             ...                        \n",
       "727    collaborating on a science project that receiv...\n",
       "728    attending a surprise birthday party organized ...\n",
       "729    successfully fundraising for a school charity ...\n",
       "730    participating in a multicultural festival, cel...\n",
       "731    organizing a virtual talent show during challe...\n",
       "Name: Text, Length: 732, dtype: object"
      ]
     },
     "execution_count": 42,
     "metadata": {},
     "output_type": "execute_result"
    }
   ],
   "source": [
    "df[\"Text\"].apply(text_pre)"
   ]
  },
  {
   "cell_type": "markdown",
   "id": "b67a5f50",
   "metadata": {},
   "source": [
    "### Complete Text Preprocessing"
   ]
  },
  {
   "cell_type": "code",
   "execution_count": 59,
   "id": "a7edd6c6",
   "metadata": {},
   "outputs": [],
   "source": [
    "def text_pre(x):\n",
    "    spell = autocorrect.Speller()    #Object for spelling correction\n",
    "    porter = PorterStemmer()\n",
    "    x = x.lower()   #COnverting entire text into lowercase\n",
    "    spell.autocorrect_sentence(x)   #Spelling Correction\n",
    "    x = emoji.demojize(x).replace(\":\" , \"\")    #COnverting Emoji into text\n",
    "    x = re.sub(r'https?:\\S+| www.\\S+',' ',x)    #Removing URLs\n",
    "    x = re.sub(r'<[^>]+>','',x)      #Removing HTML tags\n",
    "    x = re.sub(r'[^a-zA-Z0-9]' ,' ', x)   #REmoving Punctuation marks\n",
    "    x = re.sub(r'[^a-zA-Z0-9]',' ',x)       #Removing digits\n",
    "    x = word_tokenize(x)               #Tokenize in words\n",
    "    x = [i for i in x if i not in stopwords.words(\"english\")]       #Removing Stopwords\n",
    "    x = [porter.stem(i) for i in x]\n",
    "    \n",
    "    \n",
    "    return x"
   ]
  },
  {
   "cell_type": "code",
   "execution_count": 60,
   "id": "44c57724",
   "metadata": {},
   "outputs": [
    {
     "data": {
      "text/plain": [
       "0                             [enjoy, beauti, day, park]\n",
       "1                               [traffic, terribl, morn]\n",
       "2                   [finish, amaz, workout, flex, bicep]\n",
       "3                       [excit, upcom, weekend, getaway]\n",
       "4                     [tri, new, recip, dinner, tonight]\n",
       "                             ...                        \n",
       "727    [collabor, scienc, project, receiv, recognit, ...\n",
       "728    [attend, surpris, birthday, parti, organ, frie...\n",
       "729    [success, fundrais, school, chariti, initi, jo...\n",
       "730    [particip, multicultur, festiv, celebr, divers...\n",
       "731    [organ, virtual, talent, show, challeng, time,...\n",
       "Name: Text, Length: 732, dtype: object"
      ]
     },
     "execution_count": 60,
     "metadata": {},
     "output_type": "execute_result"
    }
   ],
   "source": [
    "df[\"Text\"].apply(text_pre)"
   ]
  },
  {
   "cell_type": "code",
   "execution_count": null,
   "id": "e7184350",
   "metadata": {},
   "outputs": [],
   "source": []
  }
 ],
 "metadata": {
  "kernelspec": {
   "display_name": "Python 3 (ipykernel)",
   "language": "python",
   "name": "python3"
  },
  "language_info": {
   "codemirror_mode": {
    "name": "ipython",
    "version": 3
   },
   "file_extension": ".py",
   "mimetype": "text/x-python",
   "name": "python",
   "nbconvert_exporter": "python",
   "pygments_lexer": "ipython3",
   "version": "3.11.4"
  }
 },
 "nbformat": 4,
 "nbformat_minor": 5
}
