{
 "cells": [
  {
   "cell_type": "markdown",
   "id": "be18bd0c",
   "metadata": {},
   "source": [
    "### Employees Salary Prediction using Machine Learning Model"
   ]
  },
  {
   "cell_type": "code",
   "execution_count": 31,
   "id": "2b3896ac",
   "metadata": {},
   "outputs": [],
   "source": [
    "import pandas as pd\n",
    "from sklearn.model_selection import train_test_split\n",
    "from sklearn.linear_model import LinearRegression\n",
    "import warnings\n",
    "warnings.filterwarnings(\"ignore\")"
   ]
  },
  {
   "cell_type": "code",
   "execution_count": 37,
   "id": "3d80a0af",
   "metadata": {},
   "outputs": [
    {
     "data": {
      "text/plain": [
       "array([[66675.85484552]])"
      ]
     },
     "execution_count": 37,
     "metadata": {},
     "output_type": "execute_result"
    }
   ],
   "source": [
    "df = pd.read_csv(r\"C:\\Users\\User\\Downloads\\Salary_dataset.csv\")\n",
    "df.head()\n",
    "df.drop('Unnamed: 0' , axis = 1 , inplace = True)\n",
    "df.head()\n",
    "X = df[['YearsExperience']]  #---Input\n",
    "y = df[['Salary']]           #--- Output\n",
    "X_train , X_test , y_train , y_test = train_test_split(X,y , test_size = 0.2 , random_state = 1)\n",
    "reg = LinearRegression()\n",
    "reg.fit(X_train , y_train)\n",
    "#reg.predict([[\"Put employee experiance here\"]])\n",
    "\n",
    "reg.predict([[4.5]])"
   ]
  },
  {
   "cell_type": "code",
   "execution_count": null,
   "id": "8e001c2f",
   "metadata": {},
   "outputs": [],
   "source": []
  }
 ],
 "metadata": {
  "kernelspec": {
   "display_name": "Python 3 (ipykernel)",
   "language": "python",
   "name": "python3"
  },
  "language_info": {
   "codemirror_mode": {
    "name": "ipython",
    "version": 3
   },
   "file_extension": ".py",
   "mimetype": "text/x-python",
   "name": "python",
   "nbconvert_exporter": "python",
   "pygments_lexer": "ipython3",
   "version": "3.11.4"
  }
 },
 "nbformat": 4,
 "nbformat_minor": 5
}
