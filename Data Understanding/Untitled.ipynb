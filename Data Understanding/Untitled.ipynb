{
 "cells": [
  {
   "cell_type": "code",
   "execution_count": 1,
   "id": "6058fafa",
   "metadata": {},
   "outputs": [],
   "source": [
    "import pandas as pd"
   ]
  },
  {
   "cell_type": "code",
   "execution_count": 8,
   "id": "6f38c1f4",
   "metadata": {},
   "outputs": [],
   "source": [
    "new = open(r\"C:\\1234\\mnist.zip\" , encoding = 'unicode escape')"
   ]
  },
  {
   "cell_type": "code",
   "execution_count": 1,
   "id": "62e823e7",
   "metadata": {},
   "outputs": [],
   "source": [
    "import zipfile"
   ]
  },
  {
   "cell_type": "code",
   "execution_count": 11,
   "id": "41ada3a3",
   "metadata": {},
   "outputs": [
    {
     "ename": "TypeError",
     "evalue": "'module' object is not callable",
     "output_type": "error",
     "traceback": [
      "\u001b[1;31m---------------------------------------------------------------------------\u001b[0m",
      "\u001b[1;31mTypeError\u001b[0m                                 Traceback (most recent call last)",
      "Cell \u001b[1;32mIn[11], line 1\u001b[0m\n\u001b[1;32m----> 1\u001b[0m zipfile(\u001b[38;5;124mr\u001b[39m\u001b[38;5;124m\"\u001b[39m\u001b[38;5;124mC:\u001b[39m\u001b[38;5;124m\\\u001b[39m\u001b[38;5;124m1234\u001b[39m\u001b[38;5;124m\\\u001b[39m\u001b[38;5;124mmnist.zip\u001b[39m\u001b[38;5;124m\"\u001b[39m)\n",
      "\u001b[1;31mTypeError\u001b[0m: 'module' object is not callable"
     ]
    }
   ],
   "source": [
    "zipfile(r\"C:\\1234\\mnist.zip\")"
   ]
  },
  {
   "cell_type": "code",
   "execution_count": null,
   "id": "1006295a",
   "metadata": {},
   "outputs": [],
   "source": [
    "with zipfile.ZipFile(r\"C:\\1234\\mnist.zip\") as zip_ref:\n",
    "    zip_ref.extractall(r\"E:\\#Data Science Innomatics\\Module 6 Ai-ML\")"
   ]
  },
  {
   "cell_type": "code",
   "execution_count": null,
   "id": "48372737",
   "metadata": {},
   "outputs": [],
   "source": [
    "import zipfile\n",
    "zip_file_path = r\"C:\\1234\\mnist.zip\"\n",
    "destination_folder = r\"E:\\#Data Science Innomatics\\Module 6 Ai-ML\"\n",
    "\n",
    "with zipfile.ZipFile(zip_file_path, 'r') as zip_ref:\n",
    "    zip_ref.extractall(destination_folder)"
   ]
  },
  {
   "cell_type": "code",
   "execution_count": null,
   "id": "0c8653eb",
   "metadata": {},
   "outputs": [],
   "source": [
    "import zipfile\n",
    "\n",
    "zip_file_path = r\"C:\\1234\\mnist.zip\"\n",
    "destination_folder = r\"E:\\#Data Science Innomatics\\Module 6 Ai-ML\"\n",
    "\n",
    "try:\n",
    "    with zipfile.ZipFile(zip_file_path, 'r') as zip_ref:\n",
    "        zip_ref.extractall(destination_folder)\n",
    "    print(f\"Successfully extracted contents to {destination_folder}\")\n",
    "except Exception as e:\n",
    "    print(f\"Error extracting the zip file: {e}\")\n"
   ]
  },
  {
   "cell_type": "code",
   "execution_count": null,
   "id": "5b6ef817",
   "metadata": {},
   "outputs": [],
   "source": [
    "import shutil\n",
    "zip_file = (r\"C:\\1234\\mnist.zip\")\n",
    "extract_to = r\"E:\\#Data Science Innomatics\\Module 6 Ai-ML\"\n",
    "\n",
    "shutil.unpack_archive(zip_file, extract_to)"
   ]
  },
  {
   "cell_type": "code",
   "execution_count": null,
   "id": "cea58aee",
   "metadata": {},
   "outputs": [],
   "source": []
  }
 ],
 "metadata": {
  "kernelspec": {
   "display_name": "Python 3 (ipykernel)",
   "language": "python",
   "name": "python3"
  },
  "language_info": {
   "codemirror_mode": {
    "name": "ipython",
    "version": 3
   },
   "file_extension": ".py",
   "mimetype": "text/x-python",
   "name": "python",
   "nbconvert_exporter": "python",
   "pygments_lexer": "ipython3",
   "version": "3.11.4"
  }
 },
 "nbformat": 4,
 "nbformat_minor": 5
}
