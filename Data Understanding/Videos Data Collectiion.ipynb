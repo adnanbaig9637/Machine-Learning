{
 "cells": [
  {
   "cell_type": "code",
   "execution_count": 2,
   "id": "3529b0bf",
   "metadata": {},
   "outputs": [],
   "source": [
    "import cv2\n",
    "import numpy as np\n",
    "import pandas as pd"
   ]
  },
  {
   "cell_type": "markdown",
   "id": "e9af16fa",
   "metadata": {},
   "source": [
    "#### Displaying video"
   ]
  },
  {
   "cell_type": "code",
   "execution_count": 7,
   "id": "a6b2d1dc",
   "metadata": {},
   "outputs": [],
   "source": [
    "video =cv2.VideoCapture(r\"C:\\Users\\User\\Downloads\\Snapchat-626077910.mp4\")\n",
    "while True:\n",
    "    x, img = video.read()\n",
    "    cv2.imshow(\"IKEA\" , img)\n",
    "    if cv2.waitKey(15) & 255 == ord('q'):\n",
    "        cv2.destroyAllWindows()\n",
    "        break"
   ]
  },
  {
   "cell_type": "markdown",
   "id": "be3457cb",
   "metadata": {},
   "source": [
    "#### Videos to images"
   ]
  },
  {
   "cell_type": "code",
   "execution_count": 11,
   "id": "4f2f93e5",
   "metadata": {},
   "outputs": [],
   "source": [
    "video =cv2.VideoCapture(r\"C:\\Users\\User\\Downloads\\Snapchat-626077910.mp4\")\n",
    "i = 0\n",
    "while True:\n",
    "    x, img = video.read()\n",
    "    cv2.imwrite(f'E:\\#Data Science Innomatics\\Module 6 Ai-ML\\Image Data\\IKEA\\image{i}.jpg',img)\n",
    "    if i == 200:   #images quantity\n",
    "        break\n",
    "    i = i + 1"
   ]
  },
  {
   "cell_type": "markdown",
   "id": "77754d57",
   "metadata": {},
   "source": [
    "#### Live video "
   ]
  },
  {
   "cell_type": "code",
   "execution_count": 14,
   "id": "44d9f2e2",
   "metadata": {},
   "outputs": [],
   "source": [
    "video =cv2.VideoCapture(0)\n",
    "i = 0\n",
    "while True:\n",
    "    x, img = video.read()\n",
    "    #cv2.imwrite(f'E:\\#Data Science Innomatics\\Module 6 Ai-ML\\Image Data\\live images\\image{i}.jpg',img)\n",
    "    cv2.imshow('Live video' , img)\n",
    "    if cv2.waitKey(10) & 255 == ord('q'):\n",
    "        cv2.destroyAllWindows()\n",
    "        break"
   ]
  },
  {
   "cell_type": "markdown",
   "id": "4c85e073",
   "metadata": {},
   "source": [
    "#### Live video to images"
   ]
  },
  {
   "cell_type": "code",
   "execution_count": 3,
   "id": "38f82471",
   "metadata": {},
   "outputs": [],
   "source": [
    "video =cv2.VideoCapture(0)\n",
    "i = 0\n",
    "while True:\n",
    "    x, img = video.read()\n",
    "    cv2.imwrite(f'E:\\#Data Science Innomatics\\Module 6 Ai-ML\\Image Data\\live images\\image{i}.jpg',img)\n",
    "    if i == 200:   #images quantity\n",
    "        break\n",
    "    i = i + 1"
   ]
  },
  {
   "cell_type": "code",
   "execution_count": null,
   "id": "be437e52",
   "metadata": {},
   "outputs": [],
   "source": []
  }
 ],
 "metadata": {
  "kernelspec": {
   "display_name": "Python 3 (ipykernel)",
   "language": "python",
   "name": "python3"
  },
  "language_info": {
   "codemirror_mode": {
    "name": "ipython",
    "version": 3
   },
   "file_extension": ".py",
   "mimetype": "text/x-python",
   "name": "python",
   "nbconvert_exporter": "python",
   "pygments_lexer": "ipython3",
   "version": "3.11.4"
  }
 },
 "nbformat": 4,
 "nbformat_minor": 5
}
