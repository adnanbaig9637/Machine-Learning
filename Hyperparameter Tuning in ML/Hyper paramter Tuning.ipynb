{
 "cells": [
  {
   "cell_type": "markdown",
   "id": "d6ef7d6d",
   "metadata": {},
   "source": [
    "https://cdn.discordapp.com/attachments/1190226249071730698/1224986035814006855/image.png?ex=661f7c26&is=660d0726&hm=c4930c76b30a801a932322c6107864ff7deac6caebf824b43a235d30eb424d3e&"
   ]
  },
  {
   "cell_type": "code",
   "execution_count": null,
   "id": "9df41b10",
   "metadata": {},
   "outputs": [],
   "source": []
  }
 ],
 "metadata": {
  "kernelspec": {
   "display_name": "Python 3 (ipykernel)",
   "language": "python",
   "name": "python3"
  },
  "language_info": {
   "codemirror_mode": {
    "name": "ipython",
    "version": 3
   },
   "file_extension": ".py",
   "mimetype": "text/x-python",
   "name": "python",
   "nbconvert_exporter": "python",
   "pygments_lexer": "ipython3",
   "version": "3.11.4"
  }
 },
 "nbformat": 4,
 "nbformat_minor": 5
}
